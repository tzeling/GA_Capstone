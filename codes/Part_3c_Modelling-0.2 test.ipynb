{
 "cells": [
  {
   "cell_type": "markdown",
   "id": "4cb67e96",
   "metadata": {},
   "source": [
    "# Part 3c - Modelling with Larger Train Dataset\n",
    "- [Pre-processing](#Pre-processing)\n",
    "- [Modelling](#Modelling)\n",
    "- [Conclusion](#Conclusion)\n",
    "- [Recommendation](#Recommendation)\n",
    "- [Future Improvements](#Future-Improvements)"
   ]
  },
  {
   "cell_type": "markdown",
   "id": "8dd5b637",
   "metadata": {},
   "source": [
    "## Import Libraries"
   ]
  },
  {
   "cell_type": "code",
   "execution_count": 3,
   "id": "d036187a",
   "metadata": {},
   "outputs": [],
   "source": [
    "# Basic imports\n",
    "import pandas as pd\n",
    "import numpy as np\n",
    "from numpy import arange\n",
    "\n",
    "\n",
    "# Time\n",
    "import time\n",
    "from datetime import datetime\n",
    "\n",
    "# Visualisation \n",
    "from wordcloud import WordCloud, STOPWORDS, ImageColorGenerator\n",
    "import collections\n",
    "import seaborn as sns\n",
    "import matplotlib.pyplot as plt\n",
    "%matplotlib inline\n",
    "\n",
    "# Data Processing \n",
    "import re\n",
    "import string\n",
    "import nltk\n",
    "\n",
    "\n",
    "# Scikit-learn\n",
    "from sklearn import ensemble, preprocessing\n",
    "from imblearn.over_sampling import SMOTE\n",
    "from imblearn.pipeline import Pipeline as imbpipeline\n",
    "from sklearn.pipeline import Pipeline\n",
    "\n",
    "# Vectorizing\n",
    "from sklearn.feature_extraction.text import CountVectorizer\n",
    "from sklearn.feature_extraction.text import TfidfVectorizer\n",
    "\n",
    "# Modelling - Basics\n",
    "from sklearn.model_selection import train_test_split, cross_val_score, StratifiedKFold, GridSearchCV\n",
    "\n",
    "# Modelling\n",
    "from sklearn.linear_model import LogisticRegression\n",
    "from sklearn.neighbors import KNeighborsClassifier\n",
    "from sklearn.svm import SVC\n",
    "from sklearn.ensemble import RandomForestClassifier\n",
    "from sklearn.naive_bayes import MultinomialNB\n",
    "\n",
    "# Modelling - Classification metrics\n",
    "from sklearn import metrics\n",
    "from sklearn.metrics import classification_report\n",
    "from sklearn.metrics import confusion_matrix, plot_confusion_matrix, accuracy_score\n",
    "from sklearn.metrics import precision_score, recall_score\n",
    "from sklearn.metrics import plot_roc_curve, roc_auc_score\n",
    "\n",
    "# Ignore warnings\n",
    "import warnings\n",
    "warnings.filterwarnings('ignore')\n",
    "\n",
    "\n",
    "# Set display options\n",
    "pd.set_option('display.max_columns', None)\n",
    "pd.set_option('display.max_row', None)\n",
    "pd.set_option('display.width', None)"
   ]
  },
  {
   "cell_type": "markdown",
   "id": "8a57fbfc",
   "metadata": {},
   "source": [
    "## Load Data"
   ]
  },
  {
   "cell_type": "code",
   "execution_count": 4,
   "id": "f38a2c2c",
   "metadata": {},
   "outputs": [],
   "source": [
    "df = pd.read_csv('../data/final_clean_df.csv')"
   ]
  },
  {
   "cell_type": "code",
   "execution_count": 5,
   "id": "bfe89ecf",
   "metadata": {
    "scrolled": false
   },
   "outputs": [
    {
     "data": {
      "text/html": [
       "<div>\n",
       "<style scoped>\n",
       "    .dataframe tbody tr th:only-of-type {\n",
       "        vertical-align: middle;\n",
       "    }\n",
       "\n",
       "    .dataframe tbody tr th {\n",
       "        vertical-align: top;\n",
       "    }\n",
       "\n",
       "    .dataframe thead th {\n",
       "        text-align: right;\n",
       "    }\n",
       "</style>\n",
       "<table border=\"1\" class=\"dataframe\">\n",
       "  <thead>\n",
       "    <tr style=\"text-align: right;\">\n",
       "      <th></th>\n",
       "      <th>vaers_id</th>\n",
       "      <th>age_yrs</th>\n",
       "      <th>sex</th>\n",
       "      <th>symptom_text</th>\n",
       "      <th>hospdays</th>\n",
       "      <th>recovd</th>\n",
       "      <th>numdays</th>\n",
       "      <th>v_adminby</th>\n",
       "      <th>other_meds</th>\n",
       "      <th>history</th>\n",
       "      <th>form_vers</th>\n",
       "      <th>er_ed_visit</th>\n",
       "      <th>allergies</th>\n",
       "      <th>vax_type</th>\n",
       "      <th>vax_manu</th>\n",
       "      <th>vax_dose_series</th>\n",
       "      <th>vax_route</th>\n",
       "      <th>vax_site</th>\n",
       "      <th>vax_name</th>\n",
       "      <th>serious</th>\n",
       "      <th>clean_symptom_text</th>\n",
       "      <th>clean_other_meds</th>\n",
       "      <th>clean_history</th>\n",
       "      <th>clean_allergies</th>\n",
       "    </tr>\n",
       "  </thead>\n",
       "  <tbody>\n",
       "    <tr>\n",
       "      <th>0</th>\n",
       "      <td>916612.0</td>\n",
       "      <td>71.0</td>\n",
       "      <td>F</td>\n",
       "      <td>Left side of face became numb including to beh...</td>\n",
       "      <td>0.0</td>\n",
       "      <td>U</td>\n",
       "      <td>0.0</td>\n",
       "      <td>PVT</td>\n",
       "      <td>levothyroxine mcg day estradiol mg day</td>\n",
       "      <td>Graves Disease</td>\n",
       "      <td>2.0</td>\n",
       "      <td>0.0</td>\n",
       "      <td>penicillin toradol methimazole</td>\n",
       "      <td>COVID19</td>\n",
       "      <td>MODERNA</td>\n",
       "      <td>0</td>\n",
       "      <td>IM</td>\n",
       "      <td>LA</td>\n",
       "      <td>COVID19 (COVID19 (MODERNA))</td>\n",
       "      <td>0</td>\n",
       "      <td>['left', 'side', 'face', 'became', 'numb', 'in...</td>\n",
       "      <td>['levothyroxine', 'mcg', 'day', 'estradiol', '...</td>\n",
       "      <td>['graf', 'disease']</td>\n",
       "      <td>['penicillin', 'toradol', 'methimazole']</td>\n",
       "    </tr>\n",
       "    <tr>\n",
       "      <th>1</th>\n",
       "      <td>916641.0</td>\n",
       "      <td>44.0</td>\n",
       "      <td>F</td>\n",
       "      <td>Vertigo every evening when lying down and ever...</td>\n",
       "      <td>0.0</td>\n",
       "      <td>N</td>\n",
       "      <td>0.0</td>\n",
       "      <td>PVT</td>\n",
       "      <td>multivitamin D baby aspirin</td>\n",
       "      <td>none</td>\n",
       "      <td>2.0</td>\n",
       "      <td>0.0</td>\n",
       "      <td>latex sulfa drugs</td>\n",
       "      <td>COVID19</td>\n",
       "      <td>MODERNA</td>\n",
       "      <td>0</td>\n",
       "      <td>IM</td>\n",
       "      <td>RA</td>\n",
       "      <td>COVID19 (COVID19 (MODERNA))</td>\n",
       "      <td>0</td>\n",
       "      <td>['vertigo', 'every', 'evening', 'lying', 'ever...</td>\n",
       "      <td>['multivitamin', 'baby', 'aspirin']</td>\n",
       "      <td>[]</td>\n",
       "      <td>['latex', 'sulfa', 'drug']</td>\n",
       "    </tr>\n",
       "    <tr>\n",
       "      <th>2</th>\n",
       "      <td>916702.0</td>\n",
       "      <td>70.0</td>\n",
       "      <td>F</td>\n",
       "      <td>body aches and stomach ache</td>\n",
       "      <td>0.0</td>\n",
       "      <td>N</td>\n",
       "      <td>31.0</td>\n",
       "      <td>PVT</td>\n",
       "      <td>Triamterene HCTZ Montelukast Celecoxib Aller T...</td>\n",
       "      <td>asthma when I get a cold</td>\n",
       "      <td>2.0</td>\n",
       "      <td>0.0</td>\n",
       "      <td>too much cordosone</td>\n",
       "      <td>COVID19</td>\n",
       "      <td>MODERNA</td>\n",
       "      <td>0</td>\n",
       "      <td>SYR</td>\n",
       "      <td>UN</td>\n",
       "      <td>COVID19 (COVID19 (MODERNA))</td>\n",
       "      <td>0</td>\n",
       "      <td>['body', 'ache', 'stomach', 'ache']</td>\n",
       "      <td>['triamterene', 'hctz', 'montelukast', 'celeco...</td>\n",
       "      <td>['asthma', 'get', 'cold']</td>\n",
       "      <td>['much', 'cordosone']</td>\n",
       "    </tr>\n",
       "    <tr>\n",
       "      <th>3</th>\n",
       "      <td>917195.0</td>\n",
       "      <td>47.0</td>\n",
       "      <td>F</td>\n",
       "      <td>H a diarrhea SEVERE joint pain all through bo...</td>\n",
       "      <td>0.0</td>\n",
       "      <td>N</td>\n",
       "      <td>0.0</td>\n",
       "      <td>PVT</td>\n",
       "      <td>None</td>\n",
       "      <td>Serious episode of covid</td>\n",
       "      <td>2.0</td>\n",
       "      <td>0.0</td>\n",
       "      <td>None</td>\n",
       "      <td>COVID19</td>\n",
       "      <td>MODERNA</td>\n",
       "      <td>0</td>\n",
       "      <td>UN</td>\n",
       "      <td>RA</td>\n",
       "      <td>COVID19 (COVID19 (MODERNA))</td>\n",
       "      <td>0</td>\n",
       "      <td>['h', 'diarrhea', 'severe', 'joint', 'pain', '...</td>\n",
       "      <td>[]</td>\n",
       "      <td>['serious', 'episode']</td>\n",
       "      <td>[]</td>\n",
       "    </tr>\n",
       "    <tr>\n",
       "      <th>4</th>\n",
       "      <td>917195.0</td>\n",
       "      <td>47.0</td>\n",
       "      <td>F</td>\n",
       "      <td>H a diarrhea SEVERE joint pain all through bo...</td>\n",
       "      <td>0.0</td>\n",
       "      <td>N</td>\n",
       "      <td>0.0</td>\n",
       "      <td>PVT</td>\n",
       "      <td>None</td>\n",
       "      <td>Serious episode of covid</td>\n",
       "      <td>2.0</td>\n",
       "      <td>0.0</td>\n",
       "      <td>None</td>\n",
       "      <td>COVID19</td>\n",
       "      <td>MODERNA</td>\n",
       "      <td>0</td>\n",
       "      <td>UN</td>\n",
       "      <td>RA</td>\n",
       "      <td>COVID19 (COVID19 (MODERNA))</td>\n",
       "      <td>0</td>\n",
       "      <td>['h', 'diarrhea', 'severe', 'joint', 'pain', '...</td>\n",
       "      <td>[]</td>\n",
       "      <td>['serious', 'episode']</td>\n",
       "      <td>[]</td>\n",
       "    </tr>\n",
       "  </tbody>\n",
       "</table>\n",
       "</div>"
      ],
      "text/plain": [
       "   vaers_id  age_yrs sex                                       symptom_text  \\\n",
       "0  916612.0     71.0   F  Left side of face became numb including to beh...   \n",
       "1  916641.0     44.0   F  Vertigo every evening when lying down and ever...   \n",
       "2  916702.0     70.0   F                        body aches and stomach ache   \n",
       "3  917195.0     47.0   F   H a diarrhea SEVERE joint pain all through bo...   \n",
       "4  917195.0     47.0   F   H a diarrhea SEVERE joint pain all through bo...   \n",
       "\n",
       "   hospdays recovd  numdays v_adminby  \\\n",
       "0       0.0      U      0.0       PVT   \n",
       "1       0.0      N      0.0       PVT   \n",
       "2       0.0      N     31.0       PVT   \n",
       "3       0.0      N      0.0       PVT   \n",
       "4       0.0      N      0.0       PVT   \n",
       "\n",
       "                                          other_meds  \\\n",
       "0             levothyroxine mcg day estradiol mg day   \n",
       "1                        multivitamin D baby aspirin   \n",
       "2  Triamterene HCTZ Montelukast Celecoxib Aller T...   \n",
       "3                                               None   \n",
       "4                                               None   \n",
       "\n",
       "                     history  form_vers  er_ed_visit  \\\n",
       "0             Graves Disease        2.0          0.0   \n",
       "1                       none        2.0          0.0   \n",
       "2   asthma when I get a cold        2.0          0.0   \n",
       "3  Serious episode of covid         2.0          0.0   \n",
       "4  Serious episode of covid         2.0          0.0   \n",
       "\n",
       "                        allergies vax_type vax_manu  vax_dose_series  \\\n",
       "0  penicillin toradol methimazole  COVID19  MODERNA                0   \n",
       "1               latex sulfa drugs  COVID19  MODERNA                0   \n",
       "2              too much cordosone  COVID19  MODERNA                0   \n",
       "3                            None  COVID19  MODERNA                0   \n",
       "4                            None  COVID19  MODERNA                0   \n",
       "\n",
       "  vax_route vax_site                     vax_name  serious  \\\n",
       "0        IM       LA  COVID19 (COVID19 (MODERNA))        0   \n",
       "1        IM       RA  COVID19 (COVID19 (MODERNA))        0   \n",
       "2       SYR       UN  COVID19 (COVID19 (MODERNA))        0   \n",
       "3        UN       RA  COVID19 (COVID19 (MODERNA))        0   \n",
       "4        UN       RA  COVID19 (COVID19 (MODERNA))        0   \n",
       "\n",
       "                                  clean_symptom_text  \\\n",
       "0  ['left', 'side', 'face', 'became', 'numb', 'in...   \n",
       "1  ['vertigo', 'every', 'evening', 'lying', 'ever...   \n",
       "2                ['body', 'ache', 'stomach', 'ache']   \n",
       "3  ['h', 'diarrhea', 'severe', 'joint', 'pain', '...   \n",
       "4  ['h', 'diarrhea', 'severe', 'joint', 'pain', '...   \n",
       "\n",
       "                                    clean_other_meds  \\\n",
       "0  ['levothyroxine', 'mcg', 'day', 'estradiol', '...   \n",
       "1                ['multivitamin', 'baby', 'aspirin']   \n",
       "2  ['triamterene', 'hctz', 'montelukast', 'celeco...   \n",
       "3                                                 []   \n",
       "4                                                 []   \n",
       "\n",
       "               clean_history                           clean_allergies  \n",
       "0        ['graf', 'disease']  ['penicillin', 'toradol', 'methimazole']  \n",
       "1                         []                ['latex', 'sulfa', 'drug']  \n",
       "2  ['asthma', 'get', 'cold']                     ['much', 'cordosone']  \n",
       "3     ['serious', 'episode']                                        []  \n",
       "4     ['serious', 'episode']                                        []  "
      ]
     },
     "execution_count": 5,
     "metadata": {},
     "output_type": "execute_result"
    }
   ],
   "source": [
    "df.head()"
   ]
  },
  {
   "cell_type": "code",
   "execution_count": 6,
   "id": "4f268f1c",
   "metadata": {
    "scrolled": false
   },
   "outputs": [
    {
     "name": "stdout",
     "output_type": "stream",
     "text": [
      "<class 'pandas.core.frame.DataFrame'>\n",
      "RangeIndex: 536690 entries, 0 to 536689\n",
      "Data columns (total 24 columns):\n",
      " #   Column              Non-Null Count   Dtype  \n",
      "---  ------              --------------   -----  \n",
      " 0   vaers_id            536690 non-null  float64\n",
      " 1   age_yrs             536690 non-null  float64\n",
      " 2   sex                 536690 non-null  object \n",
      " 3   symptom_text        536690 non-null  object \n",
      " 4   hospdays            536690 non-null  float64\n",
      " 5   recovd              536690 non-null  object \n",
      " 6   numdays             536690 non-null  float64\n",
      " 7   v_adminby           536690 non-null  object \n",
      " 8   other_meds          383513 non-null  object \n",
      " 9   history             380085 non-null  object \n",
      " 10  form_vers           536690 non-null  float64\n",
      " 11  er_ed_visit         536690 non-null  float64\n",
      " 12  allergies           348819 non-null  object \n",
      " 13  vax_type            536690 non-null  object \n",
      " 14  vax_manu            536690 non-null  object \n",
      " 15  vax_dose_series     536690 non-null  int64  \n",
      " 16  vax_route           536690 non-null  object \n",
      " 17  vax_site            536690 non-null  object \n",
      " 18  vax_name            536690 non-null  object \n",
      " 19  serious             536690 non-null  int64  \n",
      " 20  clean_symptom_text  536690 non-null  object \n",
      " 21  clean_other_meds    536690 non-null  object \n",
      " 22  clean_history       536690 non-null  object \n",
      " 23  clean_allergies     536690 non-null  object \n",
      "dtypes: float64(6), int64(2), object(16)\n",
      "memory usage: 98.3+ MB\n"
     ]
    }
   ],
   "source": [
    "df.info()"
   ]
  },
  {
   "cell_type": "markdown",
   "id": "73d617d6",
   "metadata": {},
   "source": [
    "# Pre-processing"
   ]
  },
  {
   "cell_type": "markdown",
   "id": "bb3751ba",
   "metadata": {},
   "source": [
    "### Splitting the Data\n",
    "\n",
    "For this iteration, we will be using a larger train dataset as compared to our baseline model (80% as train dataset)."
   ]
  },
  {
   "cell_type": "code",
   "execution_count": 10,
   "id": "a26075f3",
   "metadata": {},
   "outputs": [],
   "source": [
    "X = df['clean_symptom_text']\n",
    "y = df['serious']\n",
    "\n",
    "X_train, X_test, y_train, y_test = train_test_split(X, y, test_size=.2, \n",
    "                                                    random_state=200, stratify=y)"
   ]
  },
  {
   "cell_type": "markdown",
   "id": "b2d8762d",
   "metadata": {},
   "source": [
    "# Modelling\n",
    "\n",
    "Since Logistic Regression and Multinomial Naive Bayes were the best performers from the past 2 runs, we will be using these models with a larger train dataset to improve accuracy and F1 score.\n",
    "\n",
    "#### Vectorization\n",
    "* Count Vectorizer (CVEC)\n",
    "* Term Frequency–Inverse Document Frequency Vectorizer (TFIDF)\n",
    "\n",
    "#### Modelling\n",
    "* Logistic Regression\n",
    "* Naive Bayes - Multinomal\n"
   ]
  },
  {
   "cell_type": "code",
   "execution_count": 11,
   "id": "0a0f0f3c",
   "metadata": {},
   "outputs": [],
   "source": [
    "# Create empty results dataframe\n",
    "df_results = pd.DataFrame(\n",
    "    columns = [\n",
    "        'Model No.',\n",
    "        'Word Vectorizer',\n",
    "        'Classifier',\n",
    "        #'Cross-validated ROC AUC Score',\n",
    "        'CV Score (train)',\n",
    "        'Accuracy (train)',\n",
    "        'Accuracy (test)',\n",
    "        'Recall (test)', \n",
    "        'F1 score (test)',\n",
    "        'Specificity (test)',\n",
    "        'Precision (test)',\n",
    "    ]\n",
    ")"
   ]
  },
  {
   "cell_type": "code",
   "execution_count": 12,
   "id": "b84b9c07",
   "metadata": {},
   "outputs": [],
   "source": [
    "# Create function to run pipe and print results\n",
    "def run_grid(X_train, X_test, y_train, y_test):\n",
    "\n",
    "    \n",
    "    # Instantiate GridSearchCV\n",
    "    gs = GridSearchCV(\n",
    "        pipe, \n",
    "        param_grid = params, \n",
    "        cv = 5,\n",
    "        verbose = 1\n",
    "    )\n",
    "\n",
    "    # Fit model\n",
    "    gs.fit(X_train, y_train)\n",
    "\n",
    "    # Confusion matrix\n",
    "    y_pred = gs.predict(X_test)\n",
    "    tn, fp, fn, tp = confusion_matrix(y_test, y_pred).ravel()\n",
    "    \n",
    "    plot_confusion_matrix(gs, \n",
    "                  X_test, y_test, \n",
    "                  cmap='RdPu', \n",
    "                  values_format='d',\n",
    "                  display_labels=['non-serious', 'serious']\n",
    "                 );\n",
    "\n",
    "    \n",
    "    # Find current length of df_results\n",
    "    length = len(df_results)\n",
    "    \n",
    "    # Store results in new_row\n",
    "    new_row = [{\n",
    "        'Model No.' : length + 1,\n",
    "        'Word Vectorizer' : pipe.steps[0][1],\n",
    "        'Classifier' : pipe.steps[1][1],\n",
    "        #'Cross-validated ROC AUC Score' : round(gs.roc_auc_score(X_test, y_test), 3),\n",
    "        'CV Score (train)' : round(gs.best_score_, 3),\n",
    "        'Accuracy (train)': round(gs.score(X_train, y_train), 3),\n",
    "        'Accuracy (test)' : round(gs.score(X_test, y_test), 3),\n",
    "        'Recall (test)' : round (tp/(tp+fn), 3), \n",
    "        'F1 score (test)': round((tp/(tp+(fp+fn)/2)), 3),\n",
    "        'Specificity (test)' : round (tn/(tn+fp), 3),\n",
    "        'Precision (test)' : round (tp/(tp+fp), 3),\n",
    "    }]\n",
    "    # Print best parameters from GridSearchCV\n",
    "    print('Best Parameters:', gs.best_params_)\n",
    "    \n",
    "    return new_row"
   ]
  },
  {
   "cell_type": "markdown",
   "id": "b8b243b0",
   "metadata": {},
   "source": [
    "### Logistic Regression"
   ]
  },
  {
   "cell_type": "code",
   "execution_count": 13,
   "id": "c79fa9aa",
   "metadata": {
    "scrolled": false
   },
   "outputs": [
    {
     "name": "stdout",
     "output_type": "stream",
     "text": [
      "Fitting 5 folds for each of 9 candidates, totalling 45 fits\n",
      "Best Parameters: {'cvec__max_features': 20000, 'cvec__min_df': 10, 'cvec__ngram_range': (2, 2), 'logit__C': 1}\n",
      "CPU times: user 37min 18s, sys: 3min 2s, total: 40min 20s\n",
      "Wall time: 25min 57s\n"
     ]
    },
    {
     "data": {
      "text/plain": [
       "Text(0.5, 1.0, 'CVEC Logistic Regression')"
      ]
     },
     "execution_count": 13,
     "metadata": {},
     "output_type": "execute_result"
    },
    {
     "data": {
      "image/png": "[encoded data removed]",
      "text/plain": [
       "<Figure size 432x288 with 2 Axes>"
      ]
     },
     "metadata": {
      "needs_background": "light"
     },
     "output_type": "display_data"
    }
   ],
   "source": [
    "%%time\n",
    "\n",
    "# Instantiate CountVectorizer() and LogisticRegressionCV()\n",
    "cvec = CountVectorizer()\n",
    "logit = LogisticRegression()\n",
    "\n",
    "pipe = Pipeline([\n",
    "    ('cvec', cvec),\n",
    "    ('logit', logit)])\n",
    "\n",
    "params = {\n",
    "    'cvec__max_features': [5000, 10000, 20000],\n",
    "    'cvec__ngram_range': [(2,2)], \n",
    "    'cvec__min_df': [10],\n",
    "    #'cvec__ngram_range': [(1,1), (1,2), (1,3)],     \n",
    "    'logit__C': [0.1, 1, 10],} \n",
    "    #'logit__penalty': ['l1', 'l2', 'none']}\n",
    "\n",
    "\n",
    "new_results = run_grid(X_train, X_test, y_train, y_test)\n",
    "df_results = pd.concat([df_results, pd.DataFrame(new_results)], axis = 0)\n",
    "plt.title('CVEC Logistic Regression');"
   ]
  },
  {
   "cell_type": "code",
   "execution_count": 14,
   "id": "e9eb3227",
   "metadata": {},
   "outputs": [
    {
     "name": "stdout",
     "output_type": "stream",
     "text": [
      "Fitting 5 folds for each of 9 candidates, totalling 45 fits\n",
      "Best Parameters: {'logit__C': 10, 'tvec__max_features': 20000, 'tvec__min_df': 10, 'tvec__ngram_range': (2, 2)}\n",
      "CPU times: user 37min 58s, sys: 3min 6s, total: 41min 4s\n",
      "Wall time: 25min 30s\n"
     ]
    },
    {
     "data": {
      "text/plain": [
       "Text(0.5, 1.0, 'TVEC Logistic Regression')"
      ]
     },
     "execution_count": 14,
     "metadata": {},
     "output_type": "execute_result"
    },
    {
     "data": {
      "image/png": "[encoded data removed]",
      "text/plain": [
       "<Figure size 432x288 with 2 Axes>"
      ]
     },
     "metadata": {
      "needs_background": "light"
     },
     "output_type": "display_data"
    }
   ],
   "source": [
    "%%time\n",
    "\n",
    "# Instantiate TfidfVectorizer() and LogisticRegressionCV()\n",
    "tvec = TfidfVectorizer()\n",
    "logit = LogisticRegression()\n",
    "\n",
    "pipe = Pipeline([\n",
    "    ('tvec', tvec),\n",
    "    ('logit', logit)])\n",
    "\n",
    "params = {\n",
    "    'tvec__max_features': [5000, 10000, 20000],\n",
    "    'tvec__ngram_range': [(2,2)],\n",
    "    'tvec__min_df': [10],\n",
    "    #'tvec__ngram_range': [(1,1), (1,2), (1,3)],    \n",
    "    'logit__C': [0.1, 1, 10],} \n",
    "    #'logit__penalty': ['l1', 'l2', 'none']}\n",
    "\n",
    "\n",
    "new_results = run_grid(X_train, X_test, y_train, y_test)\n",
    "df_results = pd.concat([df_results, pd.DataFrame(new_results)], axis = 0)\n",
    "plt.title('TVEC Logistic Regression');"
   ]
  },
  {
   "cell_type": "code",
   "execution_count": 15,
   "id": "bf08b3d1",
   "metadata": {
    "scrolled": true
   },
   "outputs": [
    {
     "data": {
      "text/html": [
       "<div>\n",
       "<style scoped>\n",
       "    .dataframe tbody tr th:only-of-type {\n",
       "        vertical-align: middle;\n",
       "    }\n",
       "\n",
       "    .dataframe tbody tr th {\n",
       "        vertical-align: top;\n",
       "    }\n",
       "\n",
       "    .dataframe thead th {\n",
       "        text-align: right;\n",
       "    }\n",
       "</style>\n",
       "<table border=\"1\" class=\"dataframe\">\n",
       "  <thead>\n",
       "    <tr style=\"text-align: right;\">\n",
       "      <th></th>\n",
       "      <th>Model No.</th>\n",
       "      <th>Word Vectorizer</th>\n",
       "      <th>Classifier</th>\n",
       "      <th>CV Score (train)</th>\n",
       "      <th>Accuracy (train)</th>\n",
       "      <th>Accuracy (test)</th>\n",
       "      <th>Recall (test)</th>\n",
       "      <th>F1 score (test)</th>\n",
       "      <th>Specificity (test)</th>\n",
       "      <th>Precision (test)</th>\n",
       "    </tr>\n",
       "  </thead>\n",
       "  <tbody>\n",
       "    <tr>\n",
       "      <th>0</th>\n",
       "      <td>1</td>\n",
       "      <td>CountVectorizer()</td>\n",
       "      <td>LogisticRegression()</td>\n",
       "      <td>0.898</td>\n",
       "      <td>0.913</td>\n",
       "      <td>0.898</td>\n",
       "      <td>0.586</td>\n",
       "      <td>0.685</td>\n",
       "      <td>0.971</td>\n",
       "      <td>0.824</td>\n",
       "    </tr>\n",
       "    <tr>\n",
       "      <th>0</th>\n",
       "      <td>2</td>\n",
       "      <td>TfidfVectorizer()</td>\n",
       "      <td>LogisticRegression()</td>\n",
       "      <td>0.902</td>\n",
       "      <td>0.914</td>\n",
       "      <td>0.903</td>\n",
       "      <td>0.617</td>\n",
       "      <td>0.708</td>\n",
       "      <td>0.971</td>\n",
       "      <td>0.830</td>\n",
       "    </tr>\n",
       "  </tbody>\n",
       "</table>\n",
       "</div>"
      ],
      "text/plain": [
       "  Model No.    Word Vectorizer            Classifier  CV Score (train)  \\\n",
       "0         1  CountVectorizer()  LogisticRegression()             0.898   \n",
       "0         2  TfidfVectorizer()  LogisticRegression()             0.902   \n",
       "\n",
       "   Accuracy (train)  Accuracy (test)  Recall (test)  F1 score (test)  \\\n",
       "0             0.913            0.898          0.586            0.685   \n",
       "0             0.914            0.903          0.617            0.708   \n",
       "\n",
       "   Specificity (test)  Precision (test)  \n",
       "0               0.971             0.824  \n",
       "0               0.971             0.830  "
      ]
     },
     "execution_count": 15,
     "metadata": {},
     "output_type": "execute_result"
    }
   ],
   "source": [
    "df_results"
   ]
  },
  {
   "cell_type": "markdown",
   "id": "465a5406",
   "metadata": {},
   "source": [
    "**Observations:**\n",
    "\n",
    "The model has hit our target of 0.7 for accuracy and F1 score for tvec but not cvec.\n",
    "\n",
    "The model has a great train and test accuracy score of around 0.9 with low overfitting. The model using tvec also hits our target F1 score of 0.7 indicating a good balance between prioritizing recall and precision. "
   ]
  },
  {
   "cell_type": "markdown",
   "id": "7e810e13",
   "metadata": {},
   "source": [
    "### Multinomial Naive Bayes"
   ]
  },
  {
   "cell_type": "code",
   "execution_count": 16,
   "id": "e561f128",
   "metadata": {},
   "outputs": [
    {
     "name": "stdout",
     "output_type": "stream",
     "text": [
      "Fitting 5 folds for each of 12 candidates, totalling 60 fits\n",
      "Best Parameters: {'cvec__max_features': 40000, 'cvec__min_df': 10, 'cvec__ngram_range': (2, 2), 'nb__alpha': 0.5, 'nb__fit_prior': True}\n",
      "CPU times: user 28min 53s, sys: 23.3 s, total: 29min 16s\n",
      "Wall time: 29min 21s\n"
     ]
    },
    {
     "data": {
      "text/plain": [
       "Text(0.5, 1.0, 'CVEC Naive Bayes')"
      ]
     },
     "execution_count": 16,
     "metadata": {},
     "output_type": "execute_result"
    },
    {
     "data": {
      "image/png": "[encoded data removed]",
      "text/plain": [
       "<Figure size 432x288 with 2 Axes>"
      ]
     },
     "metadata": {
      "needs_background": "light"
     },
     "output_type": "display_data"
    }
   ],
   "source": [
    "%%time\n",
    "\n",
    "# Instantiate CountVectorizer() and MultinomialNB()\n",
    "cvec = CountVectorizer()\n",
    "nb = MultinomialNB()\n",
    "\n",
    "pipe = Pipeline([\n",
    "    ('cvec', cvec),\n",
    "    ('nb', nb)])\n",
    "\n",
    "params = {\n",
    "    'cvec__max_features': [10000, 20000, 40000],\n",
    "    'cvec__ngram_range': [(2,2)], \n",
    "    'cvec__min_df': [10],\n",
    "    'nb__alpha': np.linspace(0.5, 1.5, 2),\n",
    "    'nb__fit_prior': [True, False]\n",
    "}\n",
    "\n",
    "new_results = run_grid(X_train, X_test, y_train, y_test)\n",
    "df_results = pd.concat([df_results, pd.DataFrame(new_results)], axis = 0)\n",
    "plt.title('CVEC Naive Bayes');"
   ]
  },
  {
   "cell_type": "code",
   "execution_count": 17,
   "id": "0ab113f0",
   "metadata": {
    "scrolled": false
   },
   "outputs": [
    {
     "name": "stdout",
     "output_type": "stream",
     "text": [
      "Fitting 5 folds for each of 12 candidates, totalling 60 fits\n",
      "Best Parameters: {'nb__alpha': 1.5, 'nb__fit_prior': True, 'tvec__max_features': 40000, 'tvec__min_df': 10, 'tvec__ngram_range': (2, 2)}\n",
      "CPU times: user 28min 5s, sys: 19.5 s, total: 28min 24s\n",
      "Wall time: 28min 25s\n"
     ]
    },
    {
     "data": {
      "text/plain": [
       "Text(0.5, 1.0, 'TF-IDF Naive Bayes')"
      ]
     },
     "execution_count": 17,
     "metadata": {},
     "output_type": "execute_result"
    },
    {
     "data": {
      "image/png": "[encoded data removed]",
      "text/plain": [
       "<Figure size 432x288 with 2 Axes>"
      ]
     },
     "metadata": {
      "needs_background": "light"
     },
     "output_type": "display_data"
    }
   ],
   "source": [
    "%%time\n",
    "\n",
    "# Instantiate TfidfVectorizer() and MultinomialNB()\n",
    "tvec = TfidfVectorizer()\n",
    "nb = MultinomialNB()\n",
    "\n",
    "pipe = Pipeline([\n",
    "    ('tvec', tvec),\n",
    "    ('nb', nb)\n",
    "])\n",
    "\n",
    "params = {\n",
    "    'tvec__max_features': [10000, 20000, 40000],\n",
    "    'tvec__ngram_range': [(2,2)], \n",
    "    'tvec__min_df': [10],\n",
    "    'nb__alpha': np.linspace(0.5, 1.5, 2),\n",
    "    'nb__fit_prior': [True, False]}\n",
    "\n",
    "new_results = run_grid(X_train, X_test, y_train, y_test)\n",
    "df_results = pd.concat([df_results, pd.DataFrame(new_results)], axis = 0)\n",
    "plt.title('TF-IDF Naive Bayes');"
   ]
  },
  {
   "cell_type": "code",
   "execution_count": 18,
   "id": "bbe81ea1",
   "metadata": {
    "scrolled": true
   },
   "outputs": [
    {
     "data": {
      "text/html": [
       "<div>\n",
       "<style scoped>\n",
       "    .dataframe tbody tr th:only-of-type {\n",
       "        vertical-align: middle;\n",
       "    }\n",
       "\n",
       "    .dataframe tbody tr th {\n",
       "        vertical-align: top;\n",
       "    }\n",
       "\n",
       "    .dataframe thead th {\n",
       "        text-align: right;\n",
       "    }\n",
       "</style>\n",
       "<table border=\"1\" class=\"dataframe\">\n",
       "  <thead>\n",
       "    <tr style=\"text-align: right;\">\n",
       "      <th></th>\n",
       "      <th>Model No.</th>\n",
       "      <th>Word Vectorizer</th>\n",
       "      <th>Classifier</th>\n",
       "      <th>CV Score (train)</th>\n",
       "      <th>Accuracy (train)</th>\n",
       "      <th>Accuracy (test)</th>\n",
       "      <th>Recall (test)</th>\n",
       "      <th>F1 score (test)</th>\n",
       "      <th>Specificity (test)</th>\n",
       "      <th>Precision (test)</th>\n",
       "    </tr>\n",
       "  </thead>\n",
       "  <tbody>\n",
       "    <tr>\n",
       "      <th>0</th>\n",
       "      <td>1</td>\n",
       "      <td>CountVectorizer()</td>\n",
       "      <td>LogisticRegression()</td>\n",
       "      <td>0.898</td>\n",
       "      <td>0.913</td>\n",
       "      <td>0.898</td>\n",
       "      <td>0.586</td>\n",
       "      <td>0.685</td>\n",
       "      <td>0.971</td>\n",
       "      <td>0.824</td>\n",
       "    </tr>\n",
       "    <tr>\n",
       "      <th>0</th>\n",
       "      <td>2</td>\n",
       "      <td>TfidfVectorizer()</td>\n",
       "      <td>LogisticRegression()</td>\n",
       "      <td>0.902</td>\n",
       "      <td>0.914</td>\n",
       "      <td>0.903</td>\n",
       "      <td>0.617</td>\n",
       "      <td>0.708</td>\n",
       "      <td>0.971</td>\n",
       "      <td>0.830</td>\n",
       "    </tr>\n",
       "    <tr>\n",
       "      <th>0</th>\n",
       "      <td>3</td>\n",
       "      <td>CountVectorizer()</td>\n",
       "      <td>MultinomialNB()</td>\n",
       "      <td>0.827</td>\n",
       "      <td>0.830</td>\n",
       "      <td>0.827</td>\n",
       "      <td>0.782</td>\n",
       "      <td>0.631</td>\n",
       "      <td>0.837</td>\n",
       "      <td>0.530</td>\n",
       "    </tr>\n",
       "    <tr>\n",
       "      <th>0</th>\n",
       "      <td>4</td>\n",
       "      <td>TfidfVectorizer()</td>\n",
       "      <td>MultinomialNB()</td>\n",
       "      <td>0.887</td>\n",
       "      <td>0.890</td>\n",
       "      <td>0.887</td>\n",
       "      <td>0.633</td>\n",
       "      <td>0.679</td>\n",
       "      <td>0.946</td>\n",
       "      <td>0.733</td>\n",
       "    </tr>\n",
       "  </tbody>\n",
       "</table>\n",
       "</div>"
      ],
      "text/plain": [
       "  Model No.    Word Vectorizer            Classifier  CV Score (train)  \\\n",
       "0         1  CountVectorizer()  LogisticRegression()             0.898   \n",
       "0         2  TfidfVectorizer()  LogisticRegression()             0.902   \n",
       "0         3  CountVectorizer()       MultinomialNB()             0.827   \n",
       "0         4  TfidfVectorizer()       MultinomialNB()             0.887   \n",
       "\n",
       "   Accuracy (train)  Accuracy (test)  Recall (test)  F1 score (test)  \\\n",
       "0             0.913            0.898          0.586            0.685   \n",
       "0             0.914            0.903          0.617            0.708   \n",
       "0             0.830            0.827          0.782            0.631   \n",
       "0             0.890            0.887          0.633            0.679   \n",
       "\n",
       "   Specificity (test)  Precision (test)  \n",
       "0               0.971             0.824  \n",
       "0               0.971             0.830  \n",
       "0               0.837             0.530  \n",
       "0               0.946             0.733  "
      ]
     },
     "execution_count": 18,
     "metadata": {},
     "output_type": "execute_result"
    }
   ],
   "source": [
    "df_results"
   ]
  },
  {
   "cell_type": "markdown",
   "id": "d1441eac",
   "metadata": {},
   "source": [
    "**Observations:**\n",
    "\n",
    "The model has hit our target of 0.7 for accuracy but not for F1 score.\n",
    "\n",
    "The model has test and train accuracy of 0.8 and F1 score of 0.6. With the model using cvec has a higher recall indicating that it is misclassifying serious AE, while the opposite is true for the model using tvec."
   ]
  },
  {
   "cell_type": "markdown",
   "id": "2a5ea5cc",
   "metadata": {},
   "source": [
    "## Comparison of Models"
   ]
  },
  {
   "cell_type": "markdown",
   "id": "0927d761",
   "metadata": {},
   "source": [
    "| Model No. | SMOTE? | Word Vectorizer | Classifier | CV Score (train) | Accuracy (train) | Accuracy (test) | Recall (test) | F1 score (test) | Specificity (test) | Precision (test) |\n",
    "|:---:|:---:|:---:|:---:|:---:|:---:|:---:|:---:|:---:|:---:|:---:|\n",
    "| 1 | No | CountVectorizer  | LogisticRegression  | 0.883 | 0.95 | 0.885 | 0.562 | 0.649 | 0.96 | 0.768 |\n",
    "| 2 | No | TfidfVectorizer  | LogisticRegression  | 0.887 | 0.948 | 0.889 | 0.584 | 0.667 | 0.961 | 0.776 |\n",
    "| 3 | No | CountVectorizer  | MultinomialNB  | 0.823 | 0.847 | 0.825 | 0.761 | 0.623 | 0.84 | 0.527 |\n",
    "| 4 | No | TfidfVectorizer  | MultinomialNB  | 0.882 | 0.899 | 0.884 | 0.514 | 0.628 | 0.971 | 0.806 |\n",
    "| 5 | No | CountVectorizer  | RandomForestClassifier  | 0.871 | 0.98 | 0.872 | 0.584 | 0.634 | 0.939 | 0.693 |\n",
    "| 6 | No | TfidfVectorizer  | RandomForestClassifier  | 0.881 | 0.98 | 0.883 | 0.542 | 0.637 | 0.963 | 0.773 |\n",
    "| 7 | No | CountVectorizer  | AdaBoostClassifier  | 0.861 | 0.861 | 0.86 | 0.333 | 0.473 | 0.983 | 0.819 |\n",
    "| 8 | No | TfidfVectorizer  | AdaBoostClassifier  | 0.861 | 0.865 | 0.861 | 0.348 | 0.487 | 0.981 | 0.81 |\n",
    "| 19 | No | CountVectorizer  | SVC  | 0.846 | 0.896 | 0.849 | 0.287 | 0.419 | 0.981 | 0.777 |\n",
    "| 10 | No | TfidfVectorizer  | SVC  | 0.881 | 0.971 | 0.885 | 0.464 | 0.604 | 0.983 | 0.865 |\n",
    "| 11 | Yes | CountVectorizer  | LogisticRegression  | 0.815 | 0.938 | 0.816 | 0.71 | 0.594 | 0.841 | 0.511 |\n",
    "| 12 | Yes | TfidfVectorizer  | LogisticRegression  | 0.837 | 0.933 | 0.839 | 0.732 | 0.633 | 0.864 | 0.558 |\n",
    "| 13 | Yes | CountVectorizer  | MultinomialNB  | 0.826 | 0.854 | 0.833 | 0.753 | 0.631 | 0.851 | 0.542 |\n",
    "| 14 | Yes | TfidfVectorizer  | MultinomialNB  | 0.829 | 0.86 | 0.831 | 0.761 | 0.63 | 0.847 | 0.538 |\n",
    "| 15 | Yes | CountVectorizer  | RandomForestClassifier  | 0.797 | 0.952 | 0.803 | 0.652 | 0.557 | 0.839 | 0.486 |\n",
    "| 16 | Yes | TfidfVectorizer  | RandomForestClassifier  | 0.829 | 0.963 | 0.834 | 0.682 | 0.609 | 0.87 | 0.55 |\n",
    "| 17 | Yes | CountVectorizer  | AdaBoostClassifier  | 0.616 | 0.624 | 0.621 | 0.803 | 0.446 | 0.578 | 0.308 |\n",
    "| 18 | Yes | TfidfVectorizer  | AdaBoostClassifier  | 0.584 | 0.594 | 0.588 | 0.847 | 0.438 | 0.528 | 0.296 |\n",
    "| 19 | Yes | CountVectorizer  | SVC  | 0.694 | 0.799 | 0.704 | 0.763 | 0.494 | 0.69 | 0.365 |\n",
    "| 20 | Yes | TfidfVectorizer  | SVC  | 0.855 | 0.971 | 0.863 | 0.65 | 0.643 | 0.913 | 0.636 |\n",
    "| 21 | No | CountVectorizer  | LogisticRegression (larger train dataset) | 0.898 | 0.913 | 0.898 | 0.586 | 0.685 | 0.971 | 0.824 |\n",
    "| 22 | No | TfidfVectorizer  | LogisticRegression (larger train dataset) | 0.902 | 0.914 | 0.903 | 0.617 | 0.708 | 0.971 | 0.83 |\n",
    "| 23 | No | CountVectorizer  | MultinomialNB (larger train dataset) | 0.827 | 0.83 | 0.827 | 0.782 | 0.631 | 0.837 | 0.53 |\n",
    "| 24 | No | TfidfVectorizer  | MultinomialNB (larger train dataset) | 0.887 | 0.89 | 0.887 | 0.633 | 0.679 | 0.946 | 0.733 |"
   ]
  },
  {
   "cell_type": "markdown",
   "id": "012b6b6a",
   "metadata": {},
   "source": [
    "Out of all the models tested, the best performing model is Logistic Regression using TF-IDF vectorizer on a train/test split of 80/20 (Model 22). It has the highest test accuracy of 0.903 and F1 score of 0.708. It is performing better than our baseline Logistic Regression model with Count Vectorizer (with a smaller training set). Hence, we will use Logistic Regression using TF-IDF vectorizer on a train/test split of 80/20 as the chosen model.\n",
    "\n",
    "\n",
    "\n",
    "With a test accuracy of 0.904 in predicting serious AE, this model has met the target set of 0.7. The train accuracy of 0.914 indicates that the model is not overfitted to the training dataset. The 5-fold cross-validated score of 0.902 shows that the test score is a reliable measure of the model performance. The F1 score of 0.709 has also met our target of 0.7.\n",
    "\n"
   ]
  },
  {
   "cell_type": "markdown",
   "id": "4231e57f",
   "metadata": {},
   "source": [
    "## Final Model"
   ]
  },
  {
   "cell_type": "code",
   "execution_count": 56,
   "id": "d7303f71",
   "metadata": {},
   "outputs": [
    {
     "name": "stdout",
     "output_type": "stream",
     "text": [
      "Train score (Accuracy): 0.913, Test score (Accuracy): 0.904\n",
      "Recall: 0.617, F1 score (test): 0.709, Specificity: 0.971, Precision: 0.834\n",
      "CPU times: user 1min 29s, sys: 9.19 s, total: 1min 39s\n",
      "Wall time: 1min 2s\n"
     ]
    }
   ],
   "source": [
    "%%time\n",
    "# Create and fit the final selected model\n",
    "\n",
    "# Best Parameters: {'logit__C': 10, \n",
    "#                   'tvec__max_features': 20000, \n",
    "#                   'tvec__min_df': 10, \n",
    "#                   'tvec__ngram_range': (2, 2)}\n",
    "    \n",
    "pipe = Pipeline([\n",
    "    ('tvec', TfidfVectorizer(max_features=20000, ngram_range=(2,2))),\n",
    "    ('logit', LogisticRegression(C=10))])\n",
    "\n",
    "pipe.fit(X_train, y_train)\n",
    "\n",
    "# Print results\n",
    "print(f'Train score (Accuracy): {pipe.score(X_train, y_train):.3f}, Test score (Accuracy): {pipe.score(X_test, y_test):.3f}')\n",
    "print(f'Recall: {tp/(tp+fn):.3f}, F1 score (test): {tp/(tp+(fp+fn)/2):.3f}, Specificity: {tn/(tn+fp):.3f}, Precision: {tp/(tp+fp):.3f}')"
   ]
  },
  {
   "cell_type": "markdown",
   "id": "30f1c38e",
   "metadata": {},
   "source": [
    "#### Confusion Matrix\n",
    "The confusion matrix allows us to evaluate the performance of a classification model (in this case Logistic Regression), as it allows a comparison of the actual target label against the predicted label. This gives us a hoslistic view of how well the model is performing and what kind of errors it is making."
   ]
  },
  {
   "cell_type": "code",
   "execution_count": 52,
   "id": "96b86269",
   "metadata": {},
   "outputs": [
    {
     "data": {
      "text/plain": [
       "<Figure size 432x432 with 0 Axes>"
      ]
     },
     "metadata": {},
     "output_type": "display_data"
    },
    {
     "data": {
      "image/png": "[encoded data removed]",
      "text/plain": [
       "<Figure size 432x288 with 2 Axes>"
      ]
     },
     "metadata": {
      "needs_background": "light"
     },
     "output_type": "display_data"
    }
   ],
   "source": [
    "plt.figure(figsize=(6,6))        \n",
    "\n",
    "# Confusion Matrix\n",
    "y_pred = pipe.predict(X_test)\n",
    "tn, fp, fn, tp = confusion_matrix(y_test, y_pred).ravel()\n",
    "\n",
    "\n",
    "plot_confusion_matrix(pipe, \n",
    "                      X_test, y_test, \n",
    "                      cmap='RdPu', \n",
    "                      values_format='d',\n",
    "                      display_labels=['non-serious', 'serious']\n",
    "                     );\n",
    "plt.title('TVEC Logistic Regression');"
   ]
  },
  {
   "cell_type": "markdown",
   "id": "94c9c846",
   "metadata": {},
   "source": [
    "**Observations:**\n",
    "* From the confusion matrix, we see the model misclassifying serious as non-serious accounting for the lower recall score.\n",
    "* Conversely, we see that the model is misclassifying only a handful of non-serious AE as serious, which is seen in the high precision score."
   ]
  },
  {
   "cell_type": "markdown",
   "id": "47418c5c",
   "metadata": {},
   "source": [
    "#### ROC-AUC Curve\n",
    "The ROC (receiver operating characteristic) curve AUC (area under the curve) enables us to visualise the performance of a classification model. ROC is a probability curve and AUC represents the degree of separability, meaning how well the model is able to distinguish between the different classes. The higher the AUC, the better the model is at distinguishing between serious and non-serious AE."
   ]
  },
  {
   "cell_type": "code",
   "execution_count": 26,
   "id": "b84240a3",
   "metadata": {},
   "outputs": [
    {
     "data": {
      "image/png": "[encoded data removed]",
      "text/plain": [
       "<Figure size 432x288 with 1 Axes>"
      ]
     },
     "metadata": {
      "needs_background": "light"
     },
     "output_type": "display_data"
    }
   ],
   "source": [
    "# ROC curve\n",
    "plot_roc_curve(pipe, X_test, y_test)\n",
    "\n",
    "# add worst case scenario line\n",
    "plt.plot([0,1], [0,1], label = \"baseline\", linestyle = \"--\")\n",
    "\n",
    "# add title\n",
    "plt.title('Receiver Operating Characteristic (ROC) Curve');"
   ]
  },
  {
   "cell_type": "markdown",
   "id": "8253fd76",
   "metadata": {},
   "source": [
    "**Observations:**\n",
    "* The AUC of 0.92 is indicates that model is able to distinguish between serious and non-serious AE 92% of the time."
   ]
  },
  {
   "cell_type": "markdown",
   "id": "9639c36b",
   "metadata": {},
   "source": [
    "### Features of importance"
   ]
  },
  {
   "cell_type": "code",
   "execution_count": 27,
   "id": "962e6c98",
   "metadata": {},
   "outputs": [],
   "source": [
    "# Obtain coefficients from logit model\n",
    "coef = pipe.named_steps['logit'].coef_.flatten()\n",
    "\n",
    "# Obtain feature names from TF-IDF vectorizer\n",
    "features = pipe.named_steps['tvec'].get_feature_names()\n",
    "\n",
    "# Create dataframe of features and their coefficients\n",
    "df_coef = pd.DataFrame(zip(features, coef), \n",
    "                       columns = [\"Features\", \"Coefficient\"]\n",
    "                      ).sort_values('Coefficient', \n",
    "                                    ascending = False)"
   ]
  },
  {
   "cell_type": "code",
   "execution_count": 57,
   "id": "31107b5f",
   "metadata": {},
   "outputs": [
    {
     "data": {
      "image/png": "[encoded data removed]",
      "text/plain": [
       "<Figure size 720x360 with 1 Axes>"
      ]
     },
     "metadata": {
      "needs_background": "light"
     },
     "output_type": "display_data"
    }
   ],
   "source": [
    "# Plot 20 highest coefficients\n",
    "plt.figure(figsize=(10,5))\n",
    "ax = sns.barplot(x = 'Coefficient', y = 'Features', data = df_coef.head(20))\n",
    "ax.set_title(f\"Coefficients predictive for Serious\")\n",
    "ax.set_xlabel(\"Coefficient\")\n",
    "ax.set_ylabel(\"Features\");"
   ]
  },
  {
   "cell_type": "code",
   "execution_count": 53,
   "id": "22c2e744",
   "metadata": {},
   "outputs": [
    {
     "data": {
      "text/html": [
       "<div>\n",
       "<style scoped>\n",
       "    .dataframe tbody tr th:only-of-type {\n",
       "        vertical-align: middle;\n",
       "    }\n",
       "\n",
       "    .dataframe tbody tr th {\n",
       "        vertical-align: top;\n",
       "    }\n",
       "\n",
       "    .dataframe thead th {\n",
       "        text-align: right;\n",
       "    }\n",
       "</style>\n",
       "<table border=\"1\" class=\"dataframe\">\n",
       "  <thead>\n",
       "    <tr style=\"text-align: right;\">\n",
       "      <th></th>\n",
       "      <th>Features</th>\n",
       "      <th>Coefficient</th>\n",
       "    </tr>\n",
       "  </thead>\n",
       "  <tbody>\n",
       "    <tr>\n",
       "      <th>3407</th>\n",
       "      <td>criterion hospitalization</td>\n",
       "      <td>20.356525</td>\n",
       "    </tr>\n",
       "    <tr>\n",
       "      <th>12751</th>\n",
       "      <td>passed away</td>\n",
       "      <td>15.721195</td>\n",
       "    </tr>\n",
       "    <tr>\n",
       "      <th>15240</th>\n",
       "      <td>seriousness criterion</td>\n",
       "      <td>14.718081</td>\n",
       "    </tr>\n",
       "    <tr>\n",
       "      <th>14718</th>\n",
       "      <td>respiratory failure</td>\n",
       "      <td>13.585268</td>\n",
       "    </tr>\n",
       "    <tr>\n",
       "      <th>2580</th>\n",
       "      <td>cause death</td>\n",
       "      <td>12.585968</td>\n",
       "    </tr>\n",
       "    <tr>\n",
       "      <th>2495</th>\n",
       "      <td>cardiac arrest</td>\n",
       "      <td>12.397994</td>\n",
       "    </tr>\n",
       "    <tr>\n",
       "      <th>358</th>\n",
       "      <td>admitted icu</td>\n",
       "      <td>12.133203</td>\n",
       "    </tr>\n",
       "    <tr>\n",
       "      <th>8179</th>\n",
       "      <td>hospitalized day</td>\n",
       "      <td>11.795052</td>\n",
       "    </tr>\n",
       "    <tr>\n",
       "      <th>9183</th>\n",
       "      <td>ischemic stroke</td>\n",
       "      <td>11.559897</td>\n",
       "    </tr>\n",
       "    <tr>\n",
       "      <th>4108</th>\n",
       "      <td>diagnosed cellulitis</td>\n",
       "      <td>11.450317</td>\n",
       "    </tr>\n",
       "  </tbody>\n",
       "</table>\n",
       "</div>"
      ],
      "text/plain": [
       "                        Features  Coefficient\n",
       "3407   criterion hospitalization    20.356525\n",
       "12751                passed away    15.721195\n",
       "15240      seriousness criterion    14.718081\n",
       "14718        respiratory failure    13.585268\n",
       "2580                 cause death    12.585968\n",
       "2495              cardiac arrest    12.397994\n",
       "358                 admitted icu    12.133203\n",
       "8179            hospitalized day    11.795052\n",
       "9183             ischemic stroke    11.559897\n",
       "4108        diagnosed cellulitis    11.450317"
      ]
     },
     "execution_count": 53,
     "metadata": {},
     "output_type": "execute_result"
    }
   ],
   "source": [
    "df_coef.head(10)"
   ]
  },
  {
   "cell_type": "markdown",
   "id": "f4a316f8",
   "metadata": {},
   "source": [
    "**Observations:**\n",
    "The largest coefficients represent words that a predictive of class 1, which is serious AE. We see phrases that pertain to various serious criterion such as 'criterion hospitalization', 'admitted icu' and 'hospitalized day' for hospitalisation criterion. 'Passed away' and 'cause death' reflect the death criterion, with 'respiratory failure', 'cardiac arrest', 'ischemic stroke' and 'diagnosed cellulitis falling into other important medical event criterion.\n",
    "\n",
    "Since the words with the highest coefficient seem to represent serious AE rather well, it is no surprise that the misclassification by the model of non-serious AE as serious is rather low with a precision of 0.834."
   ]
  },
  {
   "cell_type": "code",
   "execution_count": 58,
   "id": "8c9b59fb",
   "metadata": {},
   "outputs": [
    {
     "data": {
      "image/png": "[encoded data removed]",
      "text/plain": [
       "<Figure size 720x360 with 1 Axes>"
      ]
     },
     "metadata": {
      "needs_background": "light"
     },
     "output_type": "display_data"
    }
   ],
   "source": [
    "# Plot 20 lowest coefficients\n",
    "plt.figure(figsize=(10,5))\n",
    "ax = sns.barplot(x = 'Coefficient', y = 'Features', data = df_coef.tail(20))\n",
    "ax.set_title(f\"Coefficients predictive for Non-Serious\")\n",
    "ax.set_xlabel(\"Coefficient\")\n",
    "ax.set_ylabel(\"Features\");"
   ]
  },
  {
   "cell_type": "code",
   "execution_count": 31,
   "id": "71befdee",
   "metadata": {},
   "outputs": [
    {
     "data": {
      "text/html": [
       "<div>\n",
       "<style scoped>\n",
       "    .dataframe tbody tr th:only-of-type {\n",
       "        vertical-align: middle;\n",
       "    }\n",
       "\n",
       "    .dataframe tbody tr th {\n",
       "        vertical-align: top;\n",
       "    }\n",
       "\n",
       "    .dataframe thead th {\n",
       "        text-align: right;\n",
       "    }\n",
       "</style>\n",
       "<table border=\"1\" class=\"dataframe\">\n",
       "  <thead>\n",
       "    <tr style=\"text-align: right;\">\n",
       "      <th></th>\n",
       "      <th>Features</th>\n",
       "      <th>Coefficient</th>\n",
       "    </tr>\n",
       "  </thead>\n",
       "  <tbody>\n",
       "    <tr>\n",
       "      <th>4013</th>\n",
       "      <td>describes occurrence</td>\n",
       "      <td>-5.273708</td>\n",
       "    </tr>\n",
       "    <tr>\n",
       "      <th>15068</th>\n",
       "      <td>scratchy throat</td>\n",
       "      <td>-5.291882</td>\n",
       "    </tr>\n",
       "    <tr>\n",
       "      <th>16354</th>\n",
       "      <td>spontaneous case</td>\n",
       "      <td>-5.431451</td>\n",
       "    </tr>\n",
       "    <tr>\n",
       "      <th>3128</th>\n",
       "      <td>consumer describes</td>\n",
       "      <td>-5.594512</td>\n",
       "    </tr>\n",
       "    <tr>\n",
       "      <th>505</th>\n",
       "      <td>already received</td>\n",
       "      <td>-5.743912</td>\n",
       "    </tr>\n",
       "    <tr>\n",
       "      <th>5194</th>\n",
       "      <td>error wrong</td>\n",
       "      <td>-5.782146</td>\n",
       "    </tr>\n",
       "    <tr>\n",
       "      <th>2567</th>\n",
       "      <td>case reported</td>\n",
       "      <td>-5.878551</td>\n",
       "    </tr>\n",
       "    <tr>\n",
       "      <th>230</th>\n",
       "      <td>action taken</td>\n",
       "      <td>-6.013667</td>\n",
       "    </tr>\n",
       "    <tr>\n",
       "      <th>6810</th>\n",
       "      <td>follow attempt</td>\n",
       "      <td>-6.558454</td>\n",
       "    </tr>\n",
       "    <tr>\n",
       "      <th>3408</th>\n",
       "      <td>criterion medically</td>\n",
       "      <td>-6.748006</td>\n",
       "    </tr>\n",
       "  </tbody>\n",
       "</table>\n",
       "</div>"
      ],
      "text/plain": [
       "                   Features  Coefficient\n",
       "4013   describes occurrence    -5.273708\n",
       "15068       scratchy throat    -5.291882\n",
       "16354      spontaneous case    -5.431451\n",
       "3128     consumer describes    -5.594512\n",
       "505        already received    -5.743912\n",
       "5194            error wrong    -5.782146\n",
       "2567          case reported    -5.878551\n",
       "230            action taken    -6.013667\n",
       "6810         follow attempt    -6.558454\n",
       "3408    criterion medically    -6.748006"
      ]
     },
     "execution_count": 31,
     "metadata": {},
     "output_type": "execute_result"
    }
   ],
   "source": [
    "df_coef.tail(10)"
   ]
  },
  {
   "attachments": {},
   "cell_type": "markdown",
   "id": "cd678b20",
   "metadata": {},
   "source": [
    "**Observations:**\n",
    "The lowest coefficients represent words that a predictive of class 2, which is non-serious AE. The phrases seems to be more general and less specific as compared to the largest coefficients. Phrases like 'describes occurrence', 'spontaneous case', 'case reported', 'action taken' and 'follow attempt' would be present in both serious and non-serious cases.\n",
    "\n",
    "Since the words with the lowest coefficient seem to be rather generic, we find the model misclassifying some serious AE as non-serious with a recall of 0.617."
   ]
  },
  {
   "cell_type": "markdown",
   "id": "bedb73c7",
   "metadata": {},
   "source": [
    "## Conclusion & Recommendations"
   ]
  },
  {
   "cell_type": "markdown",
   "id": "b718ab8e",
   "metadata": {},
   "source": [
    "Overall, the chosen model is succesful in meeting the requirements by the problem statement. With a test accuracy of 0.904, train accuracy of 0.914 and F1 score of 0.709. The difference between the train and test accuracy of 0.01 indicates that the model is not overfitted to the training dataset. The 5-fold cross-validated score of 0.902 shows that the test score is a reliable measure of the model performance. \n",
    "\n",
    "#### Recommendations\n",
    "Since our model is able to accuracy classify serious AE, it could be implemented as a preliminary screening tool for all incoming AE reports, to get an initial seriousness classification. This would help to enable serious reports to get expedited and processed more quickly, enabling signal detection to occur more efficiently."
   ]
  },
  {
   "cell_type": "markdown",
   "id": "d0ebb6ab",
   "metadata": {},
   "source": [
    "## Future Improvements"
   ]
  },
  {
   "cell_type": "markdown",
   "id": "380668e5",
   "metadata": {},
   "source": [
    "#### Obtain further data to expand scope of model\n",
    "Since there is a low rate of reporting AE in Singapore, it would be helpful to look into expanding this model to be able to classify between an AE report vs non-AE report. With such a model, it would be possible to try to obtain AE reports from retrospectively looking at electronic medical reports to sieve out potential AE instead of relying passively for people to report cases.\n",
    "\n",
    "#### Use of deep learning techniques through neural networks\n",
    "As neural networks are able to learn and model non-linear and complex relationships, it could possibly be used to classify reports more efficiently as it would be able to distinguish nuance difference through optimisation of the layers. \n",
    "\n",
    "#### Incorporate use of non-text columns into model\n",
    "The use of non-text data could be included into training of the model to help produce a more robust model.\n",
    "\n",
    "\n",
    "\n",
    "\n"
   ]
  }
 ],
 "metadata": {
  "kernelspec": {
   "display_name": "Python 3 (ipykernel)",
   "language": "python",
   "name": "python3"
  },
  "language_info": {
   "codemirror_mode": {
    "name": "ipython",
    "version": 3
   },
   "file_extension": ".py",
   "mimetype": "text/x-python",
   "name": "python",
   "nbconvert_exporter": "python",
   "pygments_lexer": "ipython3",
   "version": "3.8.8"
  }
 },
 "nbformat": 4,
 "nbformat_minor": 5
}
