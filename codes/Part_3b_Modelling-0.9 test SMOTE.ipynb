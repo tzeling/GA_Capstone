{
 "cells": [
  {
   "cell_type": "markdown",
   "id": "4cb67e96",
   "metadata": {},
   "source": [
    "## <img src=\"http://imgur.com/1ZcRyrc.png\" style=\"float: left; margin: 20px; height: 55px\">\n",
    "\n",
    "# Part 3b - Modelling with SMOTE\n",
    "- [Modelling with SMOTE](#Modelling-with-SMOTE)"
   ]
  },
  {
   "cell_type": "markdown",
   "id": "8dd5b637",
   "metadata": {},
   "source": [
    "## Import Libraries"
   ]
  },
  {
   "cell_type": "code",
   "execution_count": 3,
   "id": "d036187a",
   "metadata": {},
   "outputs": [],
   "source": [
    "# Basic imports\n",
    "import pandas as pd\n",
    "import numpy as np\n",
    "from numpy import arange\n",
    "\n",
    "\n",
    "# Time\n",
    "import time\n",
    "from datetime import datetime\n",
    "\n",
    "# Visualisation \n",
    "from wordcloud import WordCloud, STOPWORDS, ImageColorGenerator\n",
    "import collections\n",
    "import seaborn as sns\n",
    "import matplotlib.pyplot as plt\n",
    "%matplotlib inline\n",
    "\n",
    "# Data Processing \n",
    "import re\n",
    "import string\n",
    "import nltk\n",
    "\n",
    "\n",
    "# Scikit-learn\n",
    "from sklearn import ensemble, preprocessing\n",
    "from imblearn.over_sampling import SMOTE\n",
    "from imblearn.pipeline import Pipeline as imbpipeline\n",
    "from sklearn.pipeline import Pipeline\n",
    "\n",
    "# Vectorizing\n",
    "from sklearn.feature_extraction.text import CountVectorizer\n",
    "from sklearn.feature_extraction.text import TfidfVectorizer\n",
    "\n",
    "# Modelling - Basics\n",
    "from sklearn.model_selection import train_test_split, cross_val_score, StratifiedKFold, GridSearchCV\n",
    "\n",
    "# Modelling\n",
    "from sklearn.linear_model import LogisticRegression\n",
    "from sklearn.neighbors import KNeighborsClassifier\n",
    "from sklearn.svm import SVC\n",
    "from sklearn.ensemble import RandomForestClassifier, AdaBoostClassifier\n",
    "from sklearn.naive_bayes import MultinomialNB\n",
    "\n",
    "# Modelling - Classification metrics\n",
    "from sklearn import metrics\n",
    "from sklearn.metrics import classification_report\n",
    "from sklearn.metrics import confusion_matrix, plot_confusion_matrix, accuracy_score\n",
    "from sklearn.metrics import precision_score, recall_score\n",
    "from sklearn.metrics import plot_roc_curve, roc_auc_score\n",
    "\n",
    "# Ignore warnings\n",
    "import warnings\n",
    "warnings.filterwarnings('ignore')\n",
    "\n",
    "\n",
    "# Set display options\n",
    "pd.set_option('display.max_columns', None)\n",
    "pd.set_option('display.max_row', None)\n",
    "pd.set_option('display.width', None)"
   ]
  },
  {
   "cell_type": "markdown",
   "id": "8a57fbfc",
   "metadata": {},
   "source": [
    "## Load Data"
   ]
  },
  {
   "cell_type": "code",
   "execution_count": 4,
   "id": "f38a2c2c",
   "metadata": {},
   "outputs": [],
   "source": [
    "df = pd.read_csv('../data/final_clean_df.csv')"
   ]
  },
  {
   "cell_type": "code",
   "execution_count": 5,
   "id": "bfe89ecf",
   "metadata": {},
   "outputs": [
    {
     "data": {
      "text/html": [
       "<div>\n",
       "<style scoped>\n",
       "    .dataframe tbody tr th:only-of-type {\n",
       "        vertical-align: middle;\n",
       "    }\n",
       "\n",
       "    .dataframe tbody tr th {\n",
       "        vertical-align: top;\n",
       "    }\n",
       "\n",
       "    .dataframe thead th {\n",
       "        text-align: right;\n",
       "    }\n",
       "</style>\n",
       "<table border=\"1\" class=\"dataframe\">\n",
       "  <thead>\n",
       "    <tr style=\"text-align: right;\">\n",
       "      <th></th>\n",
       "      <th>vaers_id</th>\n",
       "      <th>age_yrs</th>\n",
       "      <th>sex</th>\n",
       "      <th>symptom_text</th>\n",
       "      <th>hospdays</th>\n",
       "      <th>recovd</th>\n",
       "      <th>numdays</th>\n",
       "      <th>v_adminby</th>\n",
       "      <th>other_meds</th>\n",
       "      <th>history</th>\n",
       "      <th>prior_vax</th>\n",
       "      <th>form_vers</th>\n",
       "      <th>er_ed_visit</th>\n",
       "      <th>allergies</th>\n",
       "      <th>vax_type</th>\n",
       "      <th>vax_manu</th>\n",
       "      <th>vax_dose_series</th>\n",
       "      <th>vax_route</th>\n",
       "      <th>vax_site</th>\n",
       "      <th>vax_name</th>\n",
       "      <th>serious</th>\n",
       "      <th>clean_symptom_text</th>\n",
       "    </tr>\n",
       "  </thead>\n",
       "  <tbody>\n",
       "    <tr>\n",
       "      <th>0</th>\n",
       "      <td>916612.0</td>\n",
       "      <td>71.0</td>\n",
       "      <td>F</td>\n",
       "      <td>Left side of face became numb including to beh...</td>\n",
       "      <td>0.0</td>\n",
       "      <td>U</td>\n",
       "      <td>0.0</td>\n",
       "      <td>PVT</td>\n",
       "      <td>levothyroxine 100mcg/day, estradiol 1mg/day</td>\n",
       "      <td>Graves Disease</td>\n",
       "      <td>NaN</td>\n",
       "      <td>2.0</td>\n",
       "      <td>0.0</td>\n",
       "      <td>penicillin, toradol, methimazole</td>\n",
       "      <td>COVID19</td>\n",
       "      <td>MODERNA</td>\n",
       "      <td>0</td>\n",
       "      <td>IM</td>\n",
       "      <td>LA</td>\n",
       "      <td>COVID19 (COVID19 (MODERNA))</td>\n",
       "      <td>0</td>\n",
       "      <td>['left', 'side', 'face', 'became', 'numb', 'in...</td>\n",
       "    </tr>\n",
       "    <tr>\n",
       "      <th>1</th>\n",
       "      <td>916641.0</td>\n",
       "      <td>44.0</td>\n",
       "      <td>F</td>\n",
       "      <td>Vertigo every evening when lying down and ever...</td>\n",
       "      <td>0.0</td>\n",
       "      <td>N</td>\n",
       "      <td>0.0</td>\n",
       "      <td>PVT</td>\n",
       "      <td>multivitamin, D3, baby aspirin</td>\n",
       "      <td>none</td>\n",
       "      <td>NaN</td>\n",
       "      <td>2.0</td>\n",
       "      <td>0.0</td>\n",
       "      <td>latex, sulfa drugs</td>\n",
       "      <td>COVID19</td>\n",
       "      <td>MODERNA</td>\n",
       "      <td>0</td>\n",
       "      <td>IM</td>\n",
       "      <td>RA</td>\n",
       "      <td>COVID19 (COVID19 (MODERNA))</td>\n",
       "      <td>0</td>\n",
       "      <td>['vertigo', 'every', 'evening', 'lying', 'ever...</td>\n",
       "    </tr>\n",
       "    <tr>\n",
       "      <th>2</th>\n",
       "      <td>916702.0</td>\n",
       "      <td>70.0</td>\n",
       "      <td>F</td>\n",
       "      <td>body aches and stomach ache</td>\n",
       "      <td>0.0</td>\n",
       "      <td>N</td>\n",
       "      <td>31.0</td>\n",
       "      <td>PVT</td>\n",
       "      <td>Triamterene HCTZ Montelukast Celecoxib Aller-T...</td>\n",
       "      <td>asthma when I get a cold</td>\n",
       "      <td>NaN</td>\n",
       "      <td>2.0</td>\n",
       "      <td>0.0</td>\n",
       "      <td>too much cordosone</td>\n",
       "      <td>COVID19</td>\n",
       "      <td>MODERNA</td>\n",
       "      <td>0</td>\n",
       "      <td>SYR</td>\n",
       "      <td>UN</td>\n",
       "      <td>COVID19 (COVID19 (MODERNA))</td>\n",
       "      <td>0</td>\n",
       "      <td>['body', 'ache', 'stomach', 'ache']</td>\n",
       "    </tr>\n",
       "    <tr>\n",
       "      <th>3</th>\n",
       "      <td>917195.0</td>\n",
       "      <td>47.0</td>\n",
       "      <td>F</td>\n",
       "      <td>H a diarrhea SEVERE joint pain all through bo...</td>\n",
       "      <td>0.0</td>\n",
       "      <td>N</td>\n",
       "      <td>0.0</td>\n",
       "      <td>PVT</td>\n",
       "      <td>None</td>\n",
       "      <td>Serious episode of covid + 11/18/2020</td>\n",
       "      <td>NaN</td>\n",
       "      <td>2.0</td>\n",
       "      <td>0.0</td>\n",
       "      <td>None</td>\n",
       "      <td>COVID19</td>\n",
       "      <td>MODERNA</td>\n",
       "      <td>0</td>\n",
       "      <td>UN</td>\n",
       "      <td>RA</td>\n",
       "      <td>COVID19 (COVID19 (MODERNA))</td>\n",
       "      <td>0</td>\n",
       "      <td>['h', 'diarrhea', 'severe', 'joint', 'pain', '...</td>\n",
       "    </tr>\n",
       "    <tr>\n",
       "      <th>4</th>\n",
       "      <td>917195.0</td>\n",
       "      <td>47.0</td>\n",
       "      <td>F</td>\n",
       "      <td>H a diarrhea SEVERE joint pain all through bo...</td>\n",
       "      <td>0.0</td>\n",
       "      <td>N</td>\n",
       "      <td>0.0</td>\n",
       "      <td>PVT</td>\n",
       "      <td>None</td>\n",
       "      <td>Serious episode of covid + 11/18/2020</td>\n",
       "      <td>NaN</td>\n",
       "      <td>2.0</td>\n",
       "      <td>0.0</td>\n",
       "      <td>None</td>\n",
       "      <td>COVID19</td>\n",
       "      <td>MODERNA</td>\n",
       "      <td>0</td>\n",
       "      <td>UN</td>\n",
       "      <td>RA</td>\n",
       "      <td>COVID19 (COVID19 (MODERNA))</td>\n",
       "      <td>0</td>\n",
       "      <td>['h', 'diarrhea', 'severe', 'joint', 'pain', '...</td>\n",
       "    </tr>\n",
       "  </tbody>\n",
       "</table>\n",
       "</div>"
      ],
      "text/plain": [
       "   vaers_id  age_yrs sex                                       symptom_text  \\\n",
       "0  916612.0     71.0   F  Left side of face became numb including to beh...   \n",
       "1  916641.0     44.0   F  Vertigo every evening when lying down and ever...   \n",
       "2  916702.0     70.0   F                        body aches and stomach ache   \n",
       "3  917195.0     47.0   F   H a diarrhea SEVERE joint pain all through bo...   \n",
       "4  917195.0     47.0   F   H a diarrhea SEVERE joint pain all through bo...   \n",
       "\n",
       "   hospdays recovd  numdays v_adminby  \\\n",
       "0       0.0      U      0.0       PVT   \n",
       "1       0.0      N      0.0       PVT   \n",
       "2       0.0      N     31.0       PVT   \n",
       "3       0.0      N      0.0       PVT   \n",
       "4       0.0      N      0.0       PVT   \n",
       "\n",
       "                                          other_meds  \\\n",
       "0        levothyroxine 100mcg/day, estradiol 1mg/day   \n",
       "1                     multivitamin, D3, baby aspirin   \n",
       "2  Triamterene HCTZ Montelukast Celecoxib Aller-T...   \n",
       "3                                               None   \n",
       "4                                               None   \n",
       "\n",
       "                                 history prior_vax  form_vers  er_ed_visit  \\\n",
       "0                         Graves Disease       NaN        2.0          0.0   \n",
       "1                                   none       NaN        2.0          0.0   \n",
       "2               asthma when I get a cold       NaN        2.0          0.0   \n",
       "3  Serious episode of covid + 11/18/2020       NaN        2.0          0.0   \n",
       "4  Serious episode of covid + 11/18/2020       NaN        2.0          0.0   \n",
       "\n",
       "                          allergies vax_type vax_manu  vax_dose_series  \\\n",
       "0  penicillin, toradol, methimazole  COVID19  MODERNA                0   \n",
       "1                latex, sulfa drugs  COVID19  MODERNA                0   \n",
       "2                too much cordosone  COVID19  MODERNA                0   \n",
       "3                              None  COVID19  MODERNA                0   \n",
       "4                              None  COVID19  MODERNA                0   \n",
       "\n",
       "  vax_route vax_site                     vax_name  serious  \\\n",
       "0        IM       LA  COVID19 (COVID19 (MODERNA))        0   \n",
       "1        IM       RA  COVID19 (COVID19 (MODERNA))        0   \n",
       "2       SYR       UN  COVID19 (COVID19 (MODERNA))        0   \n",
       "3        UN       RA  COVID19 (COVID19 (MODERNA))        0   \n",
       "4        UN       RA  COVID19 (COVID19 (MODERNA))        0   \n",
       "\n",
       "                                  clean_symptom_text  \n",
       "0  ['left', 'side', 'face', 'became', 'numb', 'in...  \n",
       "1  ['vertigo', 'every', 'evening', 'lying', 'ever...  \n",
       "2                ['body', 'ache', 'stomach', 'ache']  \n",
       "3  ['h', 'diarrhea', 'severe', 'joint', 'pain', '...  \n",
       "4  ['h', 'diarrhea', 'severe', 'joint', 'pain', '...  "
      ]
     },
     "execution_count": 5,
     "metadata": {},
     "output_type": "execute_result"
    }
   ],
   "source": [
    "df.head()"
   ]
  },
  {
   "cell_type": "code",
   "execution_count": 6,
   "id": "4f268f1c",
   "metadata": {
    "scrolled": true
   },
   "outputs": [
    {
     "name": "stdout",
     "output_type": "stream",
     "text": [
      "<class 'pandas.core.frame.DataFrame'>\n",
      "RangeIndex: 536690 entries, 0 to 536689\n",
      "Data columns (total 22 columns):\n",
      " #   Column              Non-Null Count   Dtype  \n",
      "---  ------              --------------   -----  \n",
      " 0   vaers_id            536690 non-null  float64\n",
      " 1   age_yrs             536690 non-null  float64\n",
      " 2   sex                 536690 non-null  object \n",
      " 3   symptom_text        536690 non-null  object \n",
      " 4   hospdays            536690 non-null  float64\n",
      " 5   recovd              536690 non-null  object \n",
      " 6   numdays             536690 non-null  float64\n",
      " 7   v_adminby           536690 non-null  object \n",
      " 8   other_meds          383513 non-null  object \n",
      " 9   history             380085 non-null  object \n",
      " 10  prior_vax           33754 non-null   object \n",
      " 11  form_vers           536690 non-null  float64\n",
      " 12  er_ed_visit         536690 non-null  float64\n",
      " 13  allergies           348819 non-null  object \n",
      " 14  vax_type            536690 non-null  object \n",
      " 15  vax_manu            536690 non-null  object \n",
      " 16  vax_dose_series     536690 non-null  int64  \n",
      " 17  vax_route           536690 non-null  object \n",
      " 18  vax_site            536690 non-null  object \n",
      " 19  vax_name            536690 non-null  object \n",
      " 20  serious             536690 non-null  int64  \n",
      " 21  clean_symptom_text  536690 non-null  object \n",
      "dtypes: float64(6), int64(2), object(14)\n",
      "memory usage: 90.1+ MB\n"
     ]
    }
   ],
   "source": [
    "df.info()"
   ]
  },
  {
   "cell_type": "markdown",
   "id": "bb3751ba",
   "metadata": {},
   "source": [
    "### Splitting the Data"
   ]
  },
  {
   "cell_type": "code",
   "execution_count": 10,
   "id": "a26075f3",
   "metadata": {},
   "outputs": [],
   "source": [
    "# Assign X & y\n",
    "X = df['clean_symptom_text']\n",
    "y = df['serious']\n",
    "\n",
    "# Use test size of 90% as it represents around 50k rows of data\n",
    "X_train, X_test, y_train, y_test = train_test_split(X, y, test_size=.9, \n",
    "                                                    random_state=200, stratify=y)"
   ]
  },
  {
   "cell_type": "markdown",
   "id": "b2d8762d",
   "metadata": {},
   "source": [
    "# Modelling with SMOTE\n",
    "\n",
    "As our dataset is imbalanced with only 20% minority class (serious AE), we will try to use Synthetic Minority Oversampling Technique (SMOTE) to see if it yields better results.\n",
    "\n",
    "#### Vectorization\n",
    "* Count Vectorizer (CVEC)\n",
    "* Term Frequency–Inverse Document Frequency Vectorizer (TFIDF)\n",
    "\n",
    "#### Modelling\n",
    "* Logistic Regression\n",
    "* Naive Bayes - Multinomal\n",
    "* Random Forest Classifier\n",
    "* Ada Boost Classifier\n",
    "* Support Vector Machine (SVM)\n",
    "\n",
    "#### SMOTE\n",
    "SMOTE is a technique of oversampling the minority class. This is achieved through the generation synthetic examples by drawing a line between examples in the minority class and drawing a new sample point along that line. This produces a more balanced dataset while not providing any additional external information to the model."
   ]
  },
  {
   "cell_type": "code",
   "execution_count": 11,
   "id": "0a0f0f3c",
   "metadata": {},
   "outputs": [],
   "source": [
    "# Create empty results dataframe\n",
    "df_results = pd.DataFrame(\n",
    "    columns = [\n",
    "        'Model No.',\n",
    "        'Word Vectorizer',\n",
    "        'Classifier',\n",
    "        #'Cross-validated ROC AUC Score',\n",
    "        'CV Score (train)',\n",
    "        'Accuracy (train)',\n",
    "        'Accuracy (test)',\n",
    "        'Recall (test)', \n",
    "        'F1 score (test)',\n",
    "        'Specificity (test)',\n",
    "        'Precision (test)',\n",
    "    ]\n",
    ")"
   ]
  },
  {
   "cell_type": "code",
   "execution_count": 12,
   "id": "b84b9c07",
   "metadata": {},
   "outputs": [],
   "source": [
    "# Create function to run pipe and print results\n",
    "def run_grid(X_train, X_test, y_train, y_test):\n",
    "\n",
    "    \n",
    "    # Instantiate GridSearchCV\n",
    "    gs = GridSearchCV(\n",
    "        pipe, \n",
    "        param_grid = params, \n",
    "        cv = 5,\n",
    "        verbose = 1\n",
    "    )\n",
    "\n",
    "    # Fit model\n",
    "    gs.fit(X_train, y_train)\n",
    "\n",
    "    # Confusion matrix\n",
    "    y_pred = gs.predict(X_test)\n",
    "    tn, fp, fn, tp = confusion_matrix(y_test, y_pred).ravel()\n",
    "    \n",
    "    plot_confusion_matrix(gs, \n",
    "                  X_test, y_test, \n",
    "                  cmap='RdPu', \n",
    "                  values_format='d',\n",
    "                  display_labels=['non-serious', 'serious']\n",
    "                 );\n",
    "\n",
    "    \n",
    "    # Find current length of df_results\n",
    "    length = len(df_results)\n",
    "    \n",
    "    # Store results in new_row\n",
    "    new_row = [{\n",
    "        'Model No.' : length + 1,\n",
    "        'Word Vectorizer' : pipe.steps[0][1],\n",
    "        'Classifier' : pipe.steps[2][1],\n",
    "        #'Cross-validated ROC AUC Score' : round(gs.roc_auc_score(X_test, y_test), 3),\n",
    "        'CV Score (train)' : round(gs.best_score_, 3),\n",
    "        'Accuracy (train)': round(gs.score(X_train, y_train), 3),\n",
    "        'Accuracy (test)' : round(gs.score(X_test, y_test), 3),\n",
    "        'Recall (test)' : round (tp/(tp+fn), 3), \n",
    "        'F1 score (test)': round((tp/(tp+(fp+fn)/2)), 3),\n",
    "        'Specificity (test)' : round (tn/(tn+fp), 3),\n",
    "        'Precision (test)' : round (tp/(tp+fp), 3),\n",
    "    }]\n",
    "    \n",
    "    # Print best parameters from GridSearchCV\n",
    "    print('Best Parameters:', gs.best_params_)\n",
    "    \n",
    "    return new_row"
   ]
  },
  {
   "cell_type": "markdown",
   "id": "82e857c0",
   "metadata": {},
   "source": [
    "### Logistic Regression"
   ]
  },
  {
   "cell_type": "code",
   "execution_count": 13,
   "id": "c79fa9aa",
   "metadata": {},
   "outputs": [
    {
     "name": "stdout",
     "output_type": "stream",
     "text": [
      "Fitting 5 folds for each of 9 candidates, totalling 45 fits\n",
      "Best Parameters: {'cvec__max_features': 20000, 'cvec__min_df': 10, 'cvec__ngram_range': (2, 2), 'logit__C': 10}\n",
      "CPU times: user 11min 3s, sys: 1min 16s, total: 12min 19s\n",
      "Wall time: 8min 41s\n"
     ]
    },
    {
     "data": {
      "text/plain": [
       "Text(0.5, 1.0, 'CVEC Logistic Regression')"
      ]
     },
     "execution_count": 13,
     "metadata": {},
     "output_type": "execute_result"
    },
    {
     "data": {
      "image/png": "[encoded data removed]",
      "text/plain": [
       "<Figure size 432x288 with 2 Axes>"
      ]
     },
     "metadata": {
      "needs_background": "light"
     },
     "output_type": "display_data"
    }
   ],
   "source": [
    "%%time\n",
    "\n",
    "# Instantiate CountVectorizer() and LogisticRegressionCV()\n",
    "cvec = CountVectorizer()\n",
    "logit = LogisticRegression()\n",
    "\n",
    "pipe = imbpipeline(steps = [['cvec', cvec],\n",
    "                            ['smote', SMOTE(random_state=200)],\n",
    "                            ['logit', logit]])\n",
    "\n",
    "\n",
    "\n",
    "params = {\n",
    "    'cvec__max_features': [5000, 10000, 20000],\n",
    "    'cvec__ngram_range': [(2,2)], \n",
    "    'cvec__min_df': [10],\n",
    "    #'cvec__ngram_range': [(1,1), (1,2), (1,3)],     \n",
    "    'logit__C': [0.1, 1, 10],} \n",
    "    #'logit__penalty': ['l1', 'l2', 'none']}\n",
    "\n",
    "\n",
    "new_results = run_grid(X_train, X_test, y_train, y_test)\n",
    "df_results = pd.concat([df_results, pd.DataFrame(new_results)], axis = 0)\n",
    "plt.title('CVEC Logistic Regression');"
   ]
  },
  {
   "cell_type": "code",
   "execution_count": 14,
   "id": "e9eb3227",
   "metadata": {},
   "outputs": [
    {
     "name": "stdout",
     "output_type": "stream",
     "text": [
      "Fitting 5 folds for each of 9 candidates, totalling 45 fits\n",
      "Best Parameters: {'logit__C': 10, 'tvec__max_features': 20000, 'tvec__min_df': 10, 'tvec__ngram_range': (2, 2)}\n",
      "CPU times: user 10min 1s, sys: 1min 6s, total: 11min 8s\n",
      "Wall time: 7min 59s\n"
     ]
    },
    {
     "data": {
      "text/plain": [
       "Text(0.5, 1.0, 'TVEC Logistic Regression')"
      ]
     },
     "execution_count": 14,
     "metadata": {},
     "output_type": "execute_result"
    },
    {
     "data": {
      "image/png": "[encoded data removed]",
      "text/plain": [
       "<Figure size 432x288 with 2 Axes>"
      ]
     },
     "metadata": {
      "needs_background": "light"
     },
     "output_type": "display_data"
    }
   ],
   "source": [
    "%%time\n",
    "\n",
    "# Instantiate TfidfVectorizer() and LogisticRegressionCV()\n",
    "tvec = TfidfVectorizer()\n",
    "logit = LogisticRegression()\n",
    "\n",
    "pipe = imbpipeline(steps = [['tvec', tvec],\n",
    "                            ['smote', SMOTE(random_state=200)],\n",
    "                            ['logit', logit]])\n",
    "\n",
    "params = {\n",
    "    'tvec__max_features': [5000, 10000, 20000],\n",
    "    'tvec__ngram_range': [(2,2)],\n",
    "    'tvec__min_df': [10],\n",
    "    #'tvec__ngram_range': [(1,1), (1,2), (1,3)],    \n",
    "    'logit__C': [0.1, 1, 10],} \n",
    "    #'logit__penalty': ['l1', 'l2', 'none']}\n",
    "\n",
    "\n",
    "new_results = run_grid(X_train, X_test, y_train, y_test)\n",
    "df_results = pd.concat([df_results, pd.DataFrame(new_results)], axis = 0)\n",
    "plt.title('TVEC Logistic Regression');"
   ]
  },
  {
   "cell_type": "code",
   "execution_count": 15,
   "id": "bf08b3d1",
   "metadata": {
    "scrolled": true
   },
   "outputs": [
    {
     "data": {
      "text/html": [
       "<div>\n",
       "<style scoped>\n",
       "    .dataframe tbody tr th:only-of-type {\n",
       "        vertical-align: middle;\n",
       "    }\n",
       "\n",
       "    .dataframe tbody tr th {\n",
       "        vertical-align: top;\n",
       "    }\n",
       "\n",
       "    .dataframe thead th {\n",
       "        text-align: right;\n",
       "    }\n",
       "</style>\n",
       "<table border=\"1\" class=\"dataframe\">\n",
       "  <thead>\n",
       "    <tr style=\"text-align: right;\">\n",
       "      <th></th>\n",
       "      <th>Model No.</th>\n",
       "      <th>Word Vectorizer</th>\n",
       "      <th>Classifier</th>\n",
       "      <th>CV Score (train)</th>\n",
       "      <th>Accuracy (train)</th>\n",
       "      <th>Accuracy (test)</th>\n",
       "      <th>Recall (test)</th>\n",
       "      <th>F1 score (test)</th>\n",
       "      <th>Specificity (test)</th>\n",
       "      <th>Precision (test)</th>\n",
       "    </tr>\n",
       "  </thead>\n",
       "  <tbody>\n",
       "    <tr>\n",
       "      <th>0</th>\n",
       "      <td>1</td>\n",
       "      <td>CountVectorizer()</td>\n",
       "      <td>LogisticRegression()</td>\n",
       "      <td>0.815</td>\n",
       "      <td>0.938</td>\n",
       "      <td>0.816</td>\n",
       "      <td>0.710</td>\n",
       "      <td>0.594</td>\n",
       "      <td>0.841</td>\n",
       "      <td>0.511</td>\n",
       "    </tr>\n",
       "    <tr>\n",
       "      <th>0</th>\n",
       "      <td>2</td>\n",
       "      <td>TfidfVectorizer()</td>\n",
       "      <td>LogisticRegression()</td>\n",
       "      <td>0.837</td>\n",
       "      <td>0.933</td>\n",
       "      <td>0.839</td>\n",
       "      <td>0.732</td>\n",
       "      <td>0.633</td>\n",
       "      <td>0.864</td>\n",
       "      <td>0.558</td>\n",
       "    </tr>\n",
       "  </tbody>\n",
       "</table>\n",
       "</div>"
      ],
      "text/plain": [
       "  Model No.    Word Vectorizer            Classifier  CV Score (train)  \\\n",
       "0         1  CountVectorizer()  LogisticRegression()             0.815   \n",
       "0         2  TfidfVectorizer()  LogisticRegression()             0.837   \n",
       "\n",
       "   Accuracy (train)  Accuracy (test)  Recall (test)  F1 score (test)  \\\n",
       "0             0.938            0.816          0.710            0.594   \n",
       "0             0.933            0.839          0.732            0.633   \n",
       "\n",
       "   Specificity (test)  Precision (test)  \n",
       "0               0.841             0.511  \n",
       "0               0.864             0.558  "
      ]
     },
     "execution_count": 15,
     "metadata": {},
     "output_type": "execute_result"
    }
   ],
   "source": [
    "df_results"
   ]
  },
  {
   "cell_type": "markdown",
   "id": "77279646",
   "metadata": {},
   "source": [
    "**Observations:**\n",
    "\n",
    "The model has hit our target of 0.7 for accuracy but not the F1 score which should also be 0.7.\n",
    "\n",
    "The model has a decent train accuracy score of > 0.9 and test accuracy score of > 0.8, with F1 score below our target of 0.7. Recall at 0.7 does mean that SMOTE is helping to better classify serious AE, however it seems to be misclassifying non-serious AE with precision at 0.5."
   ]
  },
  {
   "cell_type": "markdown",
   "id": "5189e208",
   "metadata": {},
   "source": [
    "### Multinomial Naive Bayes"
   ]
  },
  {
   "cell_type": "code",
   "execution_count": 16,
   "id": "be77f076",
   "metadata": {},
   "outputs": [
    {
     "name": "stdout",
     "output_type": "stream",
     "text": [
      "Fitting 5 folds for each of 12 candidates, totalling 60 fits\n",
      "Best Parameters: {'cvec__max_features': 40000, 'cvec__min_df': 10, 'cvec__ngram_range': (2, 2), 'nb__alpha': 0.5, 'nb__fit_prior': True}\n",
      "CPU times: user 8min 20s, sys: 25.7 s, total: 8min 46s\n",
      "Wall time: 8min 50s\n"
     ]
    },
    {
     "data": {
      "text/plain": [
       "Text(0.5, 1.0, 'CVEC Naive Bayes')"
      ]
     },
     "execution_count": 16,
     "metadata": {},
     "output_type": "execute_result"
    },
    {
     "data": {
      "image/png": "[encoded data removed]",
      "text/plain": [
       "<Figure size 432x288 with 2 Axes>"
      ]
     },
     "metadata": {
      "needs_background": "light"
     },
     "output_type": "display_data"
    }
   ],
   "source": [
    "%%time\n",
    "\n",
    "# Instantiate CountVectorizer() and MultinomialNB()\n",
    "cvec = CountVectorizer()\n",
    "nb = MultinomialNB()\n",
    "\n",
    "pipe = imbpipeline(steps = [['cvec', cvec],\n",
    "                            ['smote', SMOTE(random_state=200)],\n",
    "                            ['nb', nb]])\n",
    "\n",
    "params = {\n",
    "    'cvec__max_features': [10000, 20000, 40000],\n",
    "    'cvec__ngram_range': [(2,2)], \n",
    "    'cvec__min_df': [10],\n",
    "    'nb__alpha': np.linspace(0.5, 1.5, 2),\n",
    "    'nb__fit_prior': [True, False]\n",
    "}\n",
    "\n",
    "new_results = run_grid(X_train, X_test, y_train, y_test)\n",
    "df_results = pd.concat([df_results, pd.DataFrame(new_results)], axis = 0)\n",
    "plt.title('CVEC Naive Bayes');"
   ]
  },
  {
   "cell_type": "code",
   "execution_count": 17,
   "id": "d91a9c69",
   "metadata": {
    "scrolled": false
   },
   "outputs": [
    {
     "name": "stdout",
     "output_type": "stream",
     "text": [
      "Fitting 5 folds for each of 12 candidates, totalling 60 fits\n",
      "Best Parameters: {'nb__alpha': 0.5, 'nb__fit_prior': True, 'tvec__max_features': 40000, 'tvec__min_df': 10, 'tvec__ngram_range': (2, 2)}\n",
      "CPU times: user 8min 3s, sys: 24 s, total: 8min 26s\n",
      "Wall time: 8min 29s\n"
     ]
    },
    {
     "data": {
      "text/plain": [
       "Text(0.5, 1.0, 'TF-IDF Naive Bayes')"
      ]
     },
     "execution_count": 17,
     "metadata": {},
     "output_type": "execute_result"
    },
    {
     "data": {
      "image/png": "[encoded data removed]",
      "text/plain": [
       "<Figure size 432x288 with 2 Axes>"
      ]
     },
     "metadata": {
      "needs_background": "light"
     },
     "output_type": "display_data"
    }
   ],
   "source": [
    "%%time\n",
    "\n",
    "# Instantiate TfidfVectorizer() and MultinomialNB()\n",
    "tvec = TfidfVectorizer()\n",
    "nb = MultinomialNB()\n",
    "\n",
    "pipe = imbpipeline(steps = [['tvec', tvec],\n",
    "                            ['smote', SMOTE(random_state=200)],\n",
    "                            ['nb', nb]])\n",
    "\n",
    "params = {\n",
    "    'tvec__max_features': [10000, 20000, 40000],\n",
    "    'tvec__ngram_range': [(2,2)], \n",
    "    'tvec__min_df': [10],\n",
    "    'nb__alpha': np.linspace(0.5, 1.5, 2),\n",
    "    'nb__fit_prior': [True, False]}\n",
    "\n",
    "new_results = run_grid(X_train, X_test, y_train, y_test)\n",
    "df_results = pd.concat([df_results, pd.DataFrame(new_results)], axis = 0)\n",
    "plt.title('TF-IDF Naive Bayes');"
   ]
  },
  {
   "cell_type": "code",
   "execution_count": 18,
   "id": "9c132c5c",
   "metadata": {
    "scrolled": true
   },
   "outputs": [
    {
     "data": {
      "text/html": [
       "<div>\n",
       "<style scoped>\n",
       "    .dataframe tbody tr th:only-of-type {\n",
       "        vertical-align: middle;\n",
       "    }\n",
       "\n",
       "    .dataframe tbody tr th {\n",
       "        vertical-align: top;\n",
       "    }\n",
       "\n",
       "    .dataframe thead th {\n",
       "        text-align: right;\n",
       "    }\n",
       "</style>\n",
       "<table border=\"1\" class=\"dataframe\">\n",
       "  <thead>\n",
       "    <tr style=\"text-align: right;\">\n",
       "      <th></th>\n",
       "      <th>Model No.</th>\n",
       "      <th>Word Vectorizer</th>\n",
       "      <th>Classifier</th>\n",
       "      <th>CV Score (train)</th>\n",
       "      <th>Accuracy (train)</th>\n",
       "      <th>Accuracy (test)</th>\n",
       "      <th>Recall (test)</th>\n",
       "      <th>F1 score (test)</th>\n",
       "      <th>Specificity (test)</th>\n",
       "      <th>Precision (test)</th>\n",
       "    </tr>\n",
       "  </thead>\n",
       "  <tbody>\n",
       "    <tr>\n",
       "      <th>0</th>\n",
       "      <td>1</td>\n",
       "      <td>CountVectorizer()</td>\n",
       "      <td>LogisticRegression()</td>\n",
       "      <td>0.815</td>\n",
       "      <td>0.938</td>\n",
       "      <td>0.816</td>\n",
       "      <td>0.710</td>\n",
       "      <td>0.594</td>\n",
       "      <td>0.841</td>\n",
       "      <td>0.511</td>\n",
       "    </tr>\n",
       "    <tr>\n",
       "      <th>0</th>\n",
       "      <td>2</td>\n",
       "      <td>TfidfVectorizer()</td>\n",
       "      <td>LogisticRegression()</td>\n",
       "      <td>0.837</td>\n",
       "      <td>0.933</td>\n",
       "      <td>0.839</td>\n",
       "      <td>0.732</td>\n",
       "      <td>0.633</td>\n",
       "      <td>0.864</td>\n",
       "      <td>0.558</td>\n",
       "    </tr>\n",
       "    <tr>\n",
       "      <th>0</th>\n",
       "      <td>3</td>\n",
       "      <td>CountVectorizer()</td>\n",
       "      <td>MultinomialNB()</td>\n",
       "      <td>0.826</td>\n",
       "      <td>0.854</td>\n",
       "      <td>0.833</td>\n",
       "      <td>0.753</td>\n",
       "      <td>0.631</td>\n",
       "      <td>0.851</td>\n",
       "      <td>0.542</td>\n",
       "    </tr>\n",
       "    <tr>\n",
       "      <th>0</th>\n",
       "      <td>4</td>\n",
       "      <td>TfidfVectorizer()</td>\n",
       "      <td>MultinomialNB()</td>\n",
       "      <td>0.829</td>\n",
       "      <td>0.860</td>\n",
       "      <td>0.831</td>\n",
       "      <td>0.761</td>\n",
       "      <td>0.630</td>\n",
       "      <td>0.847</td>\n",
       "      <td>0.538</td>\n",
       "    </tr>\n",
       "  </tbody>\n",
       "</table>\n",
       "</div>"
      ],
      "text/plain": [
       "  Model No.    Word Vectorizer            Classifier  CV Score (train)  \\\n",
       "0         1  CountVectorizer()  LogisticRegression()             0.815   \n",
       "0         2  TfidfVectorizer()  LogisticRegression()             0.837   \n",
       "0         3  CountVectorizer()       MultinomialNB()             0.826   \n",
       "0         4  TfidfVectorizer()       MultinomialNB()             0.829   \n",
       "\n",
       "   Accuracy (train)  Accuracy (test)  Recall (test)  F1 score (test)  \\\n",
       "0             0.938            0.816          0.710            0.594   \n",
       "0             0.933            0.839          0.732            0.633   \n",
       "0             0.854            0.833          0.753            0.631   \n",
       "0             0.860            0.831          0.761            0.630   \n",
       "\n",
       "   Specificity (test)  Precision (test)  \n",
       "0               0.841             0.511  \n",
       "0               0.864             0.558  \n",
       "0               0.851             0.542  \n",
       "0               0.847             0.538  "
      ]
     },
     "execution_count": 18,
     "metadata": {},
     "output_type": "execute_result"
    }
   ],
   "source": [
    "df_results"
   ]
  },
  {
   "cell_type": "markdown",
   "id": "0c8041bc",
   "metadata": {},
   "source": [
    "**Observations:**\n",
    "\n",
    "Multinomial Naive Bayes has hit our target of 0.7 for accuracy but not the F1 score which should also be 0.7.\n",
    "\n",
    "With a train and test accuracy score of 0.8 indicating good accuracy, the F1 score of 0.6 indicates that the model is still misclassifying both serious and non-serious AE. Recall at 0.7 does mean that SMOTE is helping to better classify serious AE, however it seems to be misclassifying non-serious AE with precision at 0.5."
   ]
  },
  {
   "cell_type": "markdown",
   "id": "b1ac2813",
   "metadata": {},
   "source": [
    "### Random Forest Classifier"
   ]
  },
  {
   "cell_type": "code",
   "execution_count": 19,
   "id": "8be704e5",
   "metadata": {},
   "outputs": [
    {
     "name": "stdout",
     "output_type": "stream",
     "text": [
      "Fitting 5 folds for each of 1 candidates, totalling 5 fits\n",
      "Best Parameters: {'cvec__max_features': 5000, 'cvec__min_df': 10, 'cvec__ngram_range': (2, 2)}\n",
      "CPU times: user 20min 38s, sys: 9.12 s, total: 20min 47s\n",
      "Wall time: 20min 55s\n"
     ]
    },
    {
     "data": {
      "text/plain": [
       "Text(0.5, 1.0, 'CVEC and Random Forest Classifier')"
      ]
     },
     "execution_count": 19,
     "metadata": {},
     "output_type": "execute_result"
    },
    {
     "data": {
      "image/png": "[encoded data removed]",
      "text/plain": [
       "<Figure size 432x288 with 2 Axes>"
      ]
     },
     "metadata": {
      "needs_background": "light"
     },
     "output_type": "display_data"
    }
   ],
   "source": [
    "%%time\n",
    "\n",
    "# Instantiate CountVectorizer() and RandomForestClassifier()\n",
    "cvec = CountVectorizer()\n",
    "rfc = RandomForestClassifier()\n",
    "\n",
    "pipe = imbpipeline(steps = [['cvec', cvec],\n",
    "                            ['smote', SMOTE(random_state=200)],\n",
    "                            ['rfc', rfc]])\n",
    "\n",
    "params = {\n",
    "    'cvec__max_features': [5000],\n",
    "    'cvec__ngram_range': [(2,2)], \n",
    "    'cvec__min_df': [10],}  \n",
    "    #'rfc__n_estimators': [10, 100, 500]} \n",
    "\n",
    "new_results = run_grid(X_train, X_test, y_train, y_test)\n",
    "df_results = pd.concat([df_results, pd.DataFrame(new_results)], axis = 0)\n",
    "plt.title('CVEC and Random Forest Classifier');"
   ]
  },
  {
   "cell_type": "code",
   "execution_count": 20,
   "id": "1bed00bf",
   "metadata": {
    "scrolled": false
   },
   "outputs": [
    {
     "name": "stdout",
     "output_type": "stream",
     "text": [
      "Fitting 5 folds for each of 1 candidates, totalling 5 fits\n",
      "Best Parameters: {'tvec__max_features': 5000, 'tvec__min_df': 10, 'tvec__ngram_range': (2, 2)}\n",
      "CPU times: user 19min 17s, sys: 8.71 s, total: 19min 26s\n",
      "Wall time: 19min 34s\n"
     ]
    },
    {
     "data": {
      "text/plain": [
       "Text(0.5, 1.0, 'TVEC and Random Forest Classifier')"
      ]
     },
     "execution_count": 20,
     "metadata": {},
     "output_type": "execute_result"
    },
    {
     "data": {
      "image/png": "[encoded data removed]",
      "text/plain": [
       "<Figure size 432x288 with 2 Axes>"
      ]
     },
     "metadata": {
      "needs_background": "light"
     },
     "output_type": "display_data"
    }
   ],
   "source": [
    "%%time\n",
    "\n",
    "# Instantiate TfidfVectorizer() and RandomForestClassifier()\n",
    "tvec = TfidfVectorizer()\n",
    "rfc = RandomForestClassifier()\n",
    "\n",
    "pipe = imbpipeline(steps = [['tvec', tvec],\n",
    "                            ['smote', SMOTE(random_state=200)],\n",
    "                            ['rfc', rfc]])\n",
    "\n",
    "params = {\n",
    "    'tvec__max_features': [5000],\n",
    "    'tvec__ngram_range': [(2,2)], \n",
    "    'tvec__min_df': [10],}\n",
    "    #'tvec__ngram_range': [(1,1), (1,2), (1,3)],    \n",
    "    #'rfc__n_estimators': [10, 100, 500],} \n",
    "\n",
    "new_results = run_grid(X_train, X_test, y_train, y_test)\n",
    "df_results = pd.concat([df_results, pd.DataFrame(new_results)], axis = 0)\n",
    "plt.title('TVEC and Random Forest Classifier');"
   ]
  },
  {
   "cell_type": "code",
   "execution_count": 21,
   "id": "a26591ae",
   "metadata": {},
   "outputs": [
    {
     "data": {
      "text/html": [
       "<div>\n",
       "<style scoped>\n",
       "    .dataframe tbody tr th:only-of-type {\n",
       "        vertical-align: middle;\n",
       "    }\n",
       "\n",
       "    .dataframe tbody tr th {\n",
       "        vertical-align: top;\n",
       "    }\n",
       "\n",
       "    .dataframe thead th {\n",
       "        text-align: right;\n",
       "    }\n",
       "</style>\n",
       "<table border=\"1\" class=\"dataframe\">\n",
       "  <thead>\n",
       "    <tr style=\"text-align: right;\">\n",
       "      <th></th>\n",
       "      <th>Model No.</th>\n",
       "      <th>Word Vectorizer</th>\n",
       "      <th>Classifier</th>\n",
       "      <th>CV Score (train)</th>\n",
       "      <th>Accuracy (train)</th>\n",
       "      <th>Accuracy (test)</th>\n",
       "      <th>Recall (test)</th>\n",
       "      <th>F1 score (test)</th>\n",
       "      <th>Specificity (test)</th>\n",
       "      <th>Precision (test)</th>\n",
       "    </tr>\n",
       "  </thead>\n",
       "  <tbody>\n",
       "    <tr>\n",
       "      <th>0</th>\n",
       "      <td>1</td>\n",
       "      <td>CountVectorizer()</td>\n",
       "      <td>LogisticRegression()</td>\n",
       "      <td>0.815</td>\n",
       "      <td>0.938</td>\n",
       "      <td>0.816</td>\n",
       "      <td>0.710</td>\n",
       "      <td>0.594</td>\n",
       "      <td>0.841</td>\n",
       "      <td>0.511</td>\n",
       "    </tr>\n",
       "    <tr>\n",
       "      <th>0</th>\n",
       "      <td>2</td>\n",
       "      <td>TfidfVectorizer()</td>\n",
       "      <td>LogisticRegression()</td>\n",
       "      <td>0.837</td>\n",
       "      <td>0.933</td>\n",
       "      <td>0.839</td>\n",
       "      <td>0.732</td>\n",
       "      <td>0.633</td>\n",
       "      <td>0.864</td>\n",
       "      <td>0.558</td>\n",
       "    </tr>\n",
       "    <tr>\n",
       "      <th>0</th>\n",
       "      <td>3</td>\n",
       "      <td>CountVectorizer()</td>\n",
       "      <td>MultinomialNB()</td>\n",
       "      <td>0.826</td>\n",
       "      <td>0.854</td>\n",
       "      <td>0.833</td>\n",
       "      <td>0.753</td>\n",
       "      <td>0.631</td>\n",
       "      <td>0.851</td>\n",
       "      <td>0.542</td>\n",
       "    </tr>\n",
       "    <tr>\n",
       "      <th>0</th>\n",
       "      <td>4</td>\n",
       "      <td>TfidfVectorizer()</td>\n",
       "      <td>MultinomialNB()</td>\n",
       "      <td>0.829</td>\n",
       "      <td>0.860</td>\n",
       "      <td>0.831</td>\n",
       "      <td>0.761</td>\n",
       "      <td>0.630</td>\n",
       "      <td>0.847</td>\n",
       "      <td>0.538</td>\n",
       "    </tr>\n",
       "    <tr>\n",
       "      <th>0</th>\n",
       "      <td>5</td>\n",
       "      <td>CountVectorizer()</td>\n",
       "      <td>RandomForestClassifier()</td>\n",
       "      <td>0.797</td>\n",
       "      <td>0.952</td>\n",
       "      <td>0.803</td>\n",
       "      <td>0.652</td>\n",
       "      <td>0.557</td>\n",
       "      <td>0.839</td>\n",
       "      <td>0.486</td>\n",
       "    </tr>\n",
       "    <tr>\n",
       "      <th>0</th>\n",
       "      <td>6</td>\n",
       "      <td>TfidfVectorizer()</td>\n",
       "      <td>RandomForestClassifier()</td>\n",
       "      <td>0.829</td>\n",
       "      <td>0.963</td>\n",
       "      <td>0.834</td>\n",
       "      <td>0.682</td>\n",
       "      <td>0.609</td>\n",
       "      <td>0.870</td>\n",
       "      <td>0.550</td>\n",
       "    </tr>\n",
       "  </tbody>\n",
       "</table>\n",
       "</div>"
      ],
      "text/plain": [
       "  Model No.    Word Vectorizer                Classifier  CV Score (train)  \\\n",
       "0         1  CountVectorizer()      LogisticRegression()             0.815   \n",
       "0         2  TfidfVectorizer()      LogisticRegression()             0.837   \n",
       "0         3  CountVectorizer()           MultinomialNB()             0.826   \n",
       "0         4  TfidfVectorizer()           MultinomialNB()             0.829   \n",
       "0         5  CountVectorizer()  RandomForestClassifier()             0.797   \n",
       "0         6  TfidfVectorizer()  RandomForestClassifier()             0.829   \n",
       "\n",
       "   Accuracy (train)  Accuracy (test)  Recall (test)  F1 score (test)  \\\n",
       "0             0.938            0.816          0.710            0.594   \n",
       "0             0.933            0.839          0.732            0.633   \n",
       "0             0.854            0.833          0.753            0.631   \n",
       "0             0.860            0.831          0.761            0.630   \n",
       "0             0.952            0.803          0.652            0.557   \n",
       "0             0.963            0.834          0.682            0.609   \n",
       "\n",
       "   Specificity (test)  Precision (test)  \n",
       "0               0.841             0.511  \n",
       "0               0.864             0.558  \n",
       "0               0.851             0.542  \n",
       "0               0.847             0.538  \n",
       "0               0.839             0.486  \n",
       "0               0.870             0.550  "
      ]
     },
     "execution_count": 21,
     "metadata": {},
     "output_type": "execute_result"
    }
   ],
   "source": [
    "df_results"
   ]
  },
  {
   "cell_type": "markdown",
   "id": "bc4bb069",
   "metadata": {},
   "source": [
    "**Observations:**\n",
    "\n",
    "Random Forest Classifier has hit our target of 0.7 for accuracy but not the F1 score which should also be 0.7.\n",
    "\n",
    "With a score train accuracy score of > 0.9 and test accuracy score of > 0.8, it indicates that the model is able to correctly predict serious AE 90% in the train dataset and 80% in the test dataset. With the highest train accuracy out of all the models thus far, it suggests that the rfc is highly fitted to the train model. As seen from  the difference between the train and test accuracy being the greatest so far, it seems that the model is highly overfitted to the train data as compared to the prior models. We also find the tvec with a higher test accuracy score, indicating it is less overfitted as compared to the model using cvec as a vectorizer.\n",
    "\n",
    "It has the lowest F1 score of 0.5-0.6 amongst the SMOTE-ed models thus far, indicating a higher propensity to misclassify both serious and non-serious AE."
   ]
  },
  {
   "cell_type": "markdown",
   "id": "624b6e64",
   "metadata": {},
   "source": [
    "### Ada Boost Classifier"
   ]
  },
  {
   "cell_type": "code",
   "execution_count": 22,
   "id": "69ed0340",
   "metadata": {},
   "outputs": [
    {
     "name": "stdout",
     "output_type": "stream",
     "text": [
      "Fitting 5 folds for each of 1 candidates, totalling 5 fits\n",
      "Best Parameters: {'cvec__max_features': 5000, 'cvec__min_df': 10, 'cvec__ngram_range': (2, 2)}\n",
      "CPU times: user 2min 37s, sys: 3.95 s, total: 2min 41s\n",
      "Wall time: 2min 42s\n"
     ]
    },
    {
     "data": {
      "text/plain": [
       "Text(0.5, 1.0, 'CVEC and Ada Boost Classifier')"
      ]
     },
     "execution_count": 22,
     "metadata": {},
     "output_type": "execute_result"
    },
    {
     "data": {
      "image/png": "[encoded data removed]",
      "text/plain": [
       "<Figure size 432x288 with 2 Axes>"
      ]
     },
     "metadata": {
      "needs_background": "light"
     },
     "output_type": "display_data"
    }
   ],
   "source": [
    "%%time\n",
    "\n",
    "# Instantiate CountVectorizer() and AdaBoostClassifier()\n",
    "cvec = CountVectorizer()\n",
    "ada = AdaBoostClassifier()\n",
    "\n",
    "pipe = imbpipeline(steps = [['cvec', cvec],\n",
    "                            ['smote', SMOTE(random_state=200)],\n",
    "                            ['ada', ada]])\n",
    "\n",
    "params = {\n",
    "    'cvec__max_features': [5000],\n",
    "    'cvec__ngram_range': [(2,2)], \n",
    "    'cvec__min_df': [10]}  \n",
    "\n",
    "new_results = run_grid(X_train, X_test, y_train, y_test)\n",
    "df_results = pd.concat([df_results, pd.DataFrame(new_results)], axis = 0)\n",
    "plt.title('CVEC and Ada Boost Classifier');"
   ]
  },
  {
   "cell_type": "code",
   "execution_count": 23,
   "id": "fc73822d",
   "metadata": {},
   "outputs": [
    {
     "name": "stdout",
     "output_type": "stream",
     "text": [
      "Fitting 5 folds for each of 1 candidates, totalling 5 fits\n",
      "Best Parameters: {'tvec__max_features': 5000, 'tvec__min_df': 10, 'tvec__ngram_range': (2, 2)}\n",
      "CPU times: user 3min 17s, sys: 4.81 s, total: 3min 22s\n",
      "Wall time: 3min 24s\n"
     ]
    },
    {
     "data": {
      "text/plain": [
       "Text(0.5, 1.0, 'TVEC and Ada Boost Classifier')"
      ]
     },
     "execution_count": 23,
     "metadata": {},
     "output_type": "execute_result"
    },
    {
     "data": {
      "image/png": "[encoded data removed]",
      "text/plain": [
       "<Figure size 432x288 with 2 Axes>"
      ]
     },
     "metadata": {
      "needs_background": "light"
     },
     "output_type": "display_data"
    }
   ],
   "source": [
    "%%time\n",
    "\n",
    "# Instantiate TfidfVectorizer() and AdaBoostClassifier()\n",
    "tvec = TfidfVectorizer() \n",
    "ada = AdaBoostClassifier()\n",
    "\n",
    "pipe = imbpipeline(steps = [['tvec', tvec],\n",
    "                            ['smote', SMOTE(random_state=200)],\n",
    "                            ['ada', ada]])\n",
    "\n",
    "params = {\n",
    "    'tvec__max_features': [5000],\n",
    "    'tvec__ngram_range': [(2,2)], \n",
    "    'tvec__min_df': [10]}  \n",
    "\n",
    "new_results = run_grid(X_train, X_test, y_train, y_test)\n",
    "df_results = pd.concat([df_results, pd.DataFrame(new_results)], axis = 0)\n",
    "plt.title('TVEC and Ada Boost Classifier');"
   ]
  },
  {
   "cell_type": "code",
   "execution_count": 24,
   "id": "25b4744a",
   "metadata": {},
   "outputs": [
    {
     "data": {
      "text/html": [
       "<div>\n",
       "<style scoped>\n",
       "    .dataframe tbody tr th:only-of-type {\n",
       "        vertical-align: middle;\n",
       "    }\n",
       "\n",
       "    .dataframe tbody tr th {\n",
       "        vertical-align: top;\n",
       "    }\n",
       "\n",
       "    .dataframe thead th {\n",
       "        text-align: right;\n",
       "    }\n",
       "</style>\n",
       "<table border=\"1\" class=\"dataframe\">\n",
       "  <thead>\n",
       "    <tr style=\"text-align: right;\">\n",
       "      <th></th>\n",
       "      <th>Model No.</th>\n",
       "      <th>Word Vectorizer</th>\n",
       "      <th>Classifier</th>\n",
       "      <th>CV Score (train)</th>\n",
       "      <th>Accuracy (train)</th>\n",
       "      <th>Accuracy (test)</th>\n",
       "      <th>Recall (test)</th>\n",
       "      <th>F1 score (test)</th>\n",
       "      <th>Specificity (test)</th>\n",
       "      <th>Precision (test)</th>\n",
       "    </tr>\n",
       "  </thead>\n",
       "  <tbody>\n",
       "    <tr>\n",
       "      <th>0</th>\n",
       "      <td>1</td>\n",
       "      <td>CountVectorizer()</td>\n",
       "      <td>LogisticRegression()</td>\n",
       "      <td>0.815</td>\n",
       "      <td>0.938</td>\n",
       "      <td>0.816</td>\n",
       "      <td>0.710</td>\n",
       "      <td>0.594</td>\n",
       "      <td>0.841</td>\n",
       "      <td>0.511</td>\n",
       "    </tr>\n",
       "    <tr>\n",
       "      <th>0</th>\n",
       "      <td>2</td>\n",
       "      <td>TfidfVectorizer()</td>\n",
       "      <td>LogisticRegression()</td>\n",
       "      <td>0.837</td>\n",
       "      <td>0.933</td>\n",
       "      <td>0.839</td>\n",
       "      <td>0.732</td>\n",
       "      <td>0.633</td>\n",
       "      <td>0.864</td>\n",
       "      <td>0.558</td>\n",
       "    </tr>\n",
       "    <tr>\n",
       "      <th>0</th>\n",
       "      <td>3</td>\n",
       "      <td>CountVectorizer()</td>\n",
       "      <td>MultinomialNB()</td>\n",
       "      <td>0.826</td>\n",
       "      <td>0.854</td>\n",
       "      <td>0.833</td>\n",
       "      <td>0.753</td>\n",
       "      <td>0.631</td>\n",
       "      <td>0.851</td>\n",
       "      <td>0.542</td>\n",
       "    </tr>\n",
       "    <tr>\n",
       "      <th>0</th>\n",
       "      <td>4</td>\n",
       "      <td>TfidfVectorizer()</td>\n",
       "      <td>MultinomialNB()</td>\n",
       "      <td>0.829</td>\n",
       "      <td>0.860</td>\n",
       "      <td>0.831</td>\n",
       "      <td>0.761</td>\n",
       "      <td>0.630</td>\n",
       "      <td>0.847</td>\n",
       "      <td>0.538</td>\n",
       "    </tr>\n",
       "    <tr>\n",
       "      <th>0</th>\n",
       "      <td>5</td>\n",
       "      <td>CountVectorizer()</td>\n",
       "      <td>RandomForestClassifier()</td>\n",
       "      <td>0.797</td>\n",
       "      <td>0.952</td>\n",
       "      <td>0.803</td>\n",
       "      <td>0.652</td>\n",
       "      <td>0.557</td>\n",
       "      <td>0.839</td>\n",
       "      <td>0.486</td>\n",
       "    </tr>\n",
       "    <tr>\n",
       "      <th>0</th>\n",
       "      <td>6</td>\n",
       "      <td>TfidfVectorizer()</td>\n",
       "      <td>RandomForestClassifier()</td>\n",
       "      <td>0.829</td>\n",
       "      <td>0.963</td>\n",
       "      <td>0.834</td>\n",
       "      <td>0.682</td>\n",
       "      <td>0.609</td>\n",
       "      <td>0.870</td>\n",
       "      <td>0.550</td>\n",
       "    </tr>\n",
       "    <tr>\n",
       "      <th>0</th>\n",
       "      <td>7</td>\n",
       "      <td>CountVectorizer()</td>\n",
       "      <td>AdaBoostClassifier()</td>\n",
       "      <td>0.616</td>\n",
       "      <td>0.624</td>\n",
       "      <td>0.621</td>\n",
       "      <td>0.803</td>\n",
       "      <td>0.446</td>\n",
       "      <td>0.578</td>\n",
       "      <td>0.308</td>\n",
       "    </tr>\n",
       "    <tr>\n",
       "      <th>0</th>\n",
       "      <td>8</td>\n",
       "      <td>TfidfVectorizer()</td>\n",
       "      <td>AdaBoostClassifier()</td>\n",
       "      <td>0.584</td>\n",
       "      <td>0.594</td>\n",
       "      <td>0.588</td>\n",
       "      <td>0.847</td>\n",
       "      <td>0.438</td>\n",
       "      <td>0.528</td>\n",
       "      <td>0.296</td>\n",
       "    </tr>\n",
       "  </tbody>\n",
       "</table>\n",
       "</div>"
      ],
      "text/plain": [
       "  Model No.    Word Vectorizer                Classifier  CV Score (train)  \\\n",
       "0         1  CountVectorizer()      LogisticRegression()             0.815   \n",
       "0         2  TfidfVectorizer()      LogisticRegression()             0.837   \n",
       "0         3  CountVectorizer()           MultinomialNB()             0.826   \n",
       "0         4  TfidfVectorizer()           MultinomialNB()             0.829   \n",
       "0         5  CountVectorizer()  RandomForestClassifier()             0.797   \n",
       "0         6  TfidfVectorizer()  RandomForestClassifier()             0.829   \n",
       "0         7  CountVectorizer()      AdaBoostClassifier()             0.616   \n",
       "0         8  TfidfVectorizer()      AdaBoostClassifier()             0.584   \n",
       "\n",
       "   Accuracy (train)  Accuracy (test)  Recall (test)  F1 score (test)  \\\n",
       "0             0.938            0.816          0.710            0.594   \n",
       "0             0.933            0.839          0.732            0.633   \n",
       "0             0.854            0.833          0.753            0.631   \n",
       "0             0.860            0.831          0.761            0.630   \n",
       "0             0.952            0.803          0.652            0.557   \n",
       "0             0.963            0.834          0.682            0.609   \n",
       "0             0.624            0.621          0.803            0.446   \n",
       "0             0.594            0.588          0.847            0.438   \n",
       "\n",
       "   Specificity (test)  Precision (test)  \n",
       "0               0.841             0.511  \n",
       "0               0.864             0.558  \n",
       "0               0.851             0.542  \n",
       "0               0.847             0.538  \n",
       "0               0.839             0.486  \n",
       "0               0.870             0.550  \n",
       "0               0.578             0.308  \n",
       "0               0.528             0.296  "
      ]
     },
     "execution_count": 24,
     "metadata": {},
     "output_type": "execute_result"
    }
   ],
   "source": [
    "df_results"
   ]
  },
  {
   "cell_type": "markdown",
   "id": "7366f76d",
   "metadata": {},
   "source": [
    "**Observations:**\n",
    "\n",
    "Ada Boost Classifer has not met either target of 0.7 for both accuracy and F1 score.\n",
    "\n",
    "With the lowest train and test accuracy at 0.5-0.6, it indicates the model is not predicting serious and non-serious AE accurately. The model also produces a low F1 score of 0.4, with a surprisingly high recall of 0.8 and dismal precision of 0.2-0.3. This suggests that it is more likely to misclassify non-serious as serious, leading to an over-reporting of serious AE."
   ]
  },
  {
   "cell_type": "markdown",
   "id": "64c2f949",
   "metadata": {},
   "source": [
    "### Support Vector Machines (SVM)"
   ]
  },
  {
   "cell_type": "code",
   "execution_count": 25,
   "id": "9334cd65",
   "metadata": {},
   "outputs": [
    {
     "name": "stdout",
     "output_type": "stream",
     "text": [
      "Fitting 5 folds for each of 9 candidates, totalling 45 fits\n",
      "Best Parameters: {'cvec__max_features': 5000, 'cvec__min_df': 10, 'cvec__ngram_range': (2, 2), 'svc__C': 10, 'svc__degree': 2, 'svc__kernel': 'poly'}\n",
      "CPU times: user 10h 32min 33s, sys: 2min 25s, total: 10h 34min 59s\n",
      "Wall time: 10h 39min 52s\n"
     ]
    },
    {
     "data": {
      "text/plain": [
       "Text(0.5, 1.0, 'CVEC and SVC')"
      ]
     },
     "execution_count": 25,
     "metadata": {},
     "output_type": "execute_result"
    },
    {
     "data": {
      "image/png": "[encoded data removed]",
      "text/plain": [
       "<Figure size 432x288 with 2 Axes>"
      ]
     },
     "metadata": {
      "needs_background": "light"
     },
     "output_type": "display_data"
    }
   ],
   "source": [
    "%%time\n",
    "\n",
    "# Instantiate CountVectorizer() and SVC()\n",
    "cvec = CountVectorizer()\n",
    "svc = SVC()\n",
    "\n",
    "pipe = imbpipeline(steps = [['cvec', cvec],\n",
    "                            ['smote', SMOTE(random_state=200)],\n",
    "                            ['svc', svc]])\n",
    "\n",
    "params = {\n",
    "    'cvec__max_features': [5000, 10000, 20000],\n",
    "    'cvec__ngram_range': [(2,2)],\n",
    "    'cvec__min_df': [10],\n",
    "    #'tvec__ngram_range': [(1,1), (1,2), (1,3)],    \n",
    "    'svc__C': [0.1, 1, 10], \n",
    "    'svc__kernel': ['poly'], \n",
    "    'svc__degree': [2]}\n",
    "\n",
    "\n",
    "\n",
    "new_results = run_grid(X_train, X_test, y_train, y_test)\n",
    "df_results = pd.concat([df_results, pd.DataFrame(new_results)], axis = 0)\n",
    "plt.title('CVEC and SVC');"
   ]
  },
  {
   "cell_type": "code",
   "execution_count": 26,
   "id": "be6bcc37",
   "metadata": {},
   "outputs": [
    {
     "name": "stdout",
     "output_type": "stream",
     "text": [
      "Fitting 5 folds for each of 9 candidates, totalling 45 fits\n",
      "Best Parameters: {'svc__C': 1, 'svc__degree': 2, 'svc__kernel': 'poly', 'tvec__max_features': 10000, 'tvec__min_df': 10, 'tvec__ngram_range': (2, 2)}\n",
      "CPU times: user 16h 11min 13s, sys: 2min 10s, total: 16h 13min 24s\n",
      "Wall time: 16h 15min 2s\n"
     ]
    },
    {
     "data": {
      "text/plain": [
       "Text(0.5, 1.0, 'TVEC and SVC')"
      ]
     },
     "execution_count": 26,
     "metadata": {},
     "output_type": "execute_result"
    },
    {
     "data": {
      "image/png": "[encoded data removed]",
      "text/plain": [
       "<Figure size 432x288 with 2 Axes>"
      ]
     },
     "metadata": {
      "needs_background": "light"
     },
     "output_type": "display_data"
    }
   ],
   "source": [
    "%%time\n",
    "\n",
    "# Instantiate TfidfVectorizer() and SVC()\n",
    "tvec = TfidfVectorizer()\n",
    "svc = SVC()\n",
    "\n",
    "pipe = imbpipeline(steps = [['tvec', tvec],\n",
    "                            ['smote', SMOTE(random_state=200)],\n",
    "                            ['svc', svc]])\n",
    "\n",
    "params = {\n",
    "    'tvec__max_features': [5000, 10000, 20000],\n",
    "    'tvec__ngram_range': [(2,2)], \n",
    "    'tvec__min_df': [10],\n",
    "    #'tvec__ngram_range': [(1,1), (1,2), (1,3)],    \n",
    "    'svc__C': [0.1, 1, 10], \n",
    "    'svc__kernel': ['poly'], \n",
    "    'svc__degree': [2]}\n",
    "\n",
    "\n",
    "new_results = run_grid(X_train, X_test, y_train, y_test)\n",
    "df_results = pd.concat([df_results, pd.DataFrame(new_results)], axis = 0)\n",
    "plt.title('TVEC and SVC');"
   ]
  },
  {
   "cell_type": "code",
   "execution_count": 27,
   "id": "07142382",
   "metadata": {
    "scrolled": false
   },
   "outputs": [
    {
     "data": {
      "text/html": [
       "<div>\n",
       "<style scoped>\n",
       "    .dataframe tbody tr th:only-of-type {\n",
       "        vertical-align: middle;\n",
       "    }\n",
       "\n",
       "    .dataframe tbody tr th {\n",
       "        vertical-align: top;\n",
       "    }\n",
       "\n",
       "    .dataframe thead th {\n",
       "        text-align: right;\n",
       "    }\n",
       "</style>\n",
       "<table border=\"1\" class=\"dataframe\">\n",
       "  <thead>\n",
       "    <tr style=\"text-align: right;\">\n",
       "      <th></th>\n",
       "      <th>Model No.</th>\n",
       "      <th>Word Vectorizer</th>\n",
       "      <th>Classifier</th>\n",
       "      <th>CV Score (train)</th>\n",
       "      <th>Accuracy (train)</th>\n",
       "      <th>Accuracy (test)</th>\n",
       "      <th>Recall (test)</th>\n",
       "      <th>F1 score (test)</th>\n",
       "      <th>Specificity (test)</th>\n",
       "      <th>Precision (test)</th>\n",
       "    </tr>\n",
       "  </thead>\n",
       "  <tbody>\n",
       "    <tr>\n",
       "      <th>0</th>\n",
       "      <td>1</td>\n",
       "      <td>CountVectorizer()</td>\n",
       "      <td>LogisticRegression()</td>\n",
       "      <td>0.815</td>\n",
       "      <td>0.938</td>\n",
       "      <td>0.816</td>\n",
       "      <td>0.710</td>\n",
       "      <td>0.594</td>\n",
       "      <td>0.841</td>\n",
       "      <td>0.511</td>\n",
       "    </tr>\n",
       "    <tr>\n",
       "      <th>0</th>\n",
       "      <td>2</td>\n",
       "      <td>TfidfVectorizer()</td>\n",
       "      <td>LogisticRegression()</td>\n",
       "      <td>0.837</td>\n",
       "      <td>0.933</td>\n",
       "      <td>0.839</td>\n",
       "      <td>0.732</td>\n",
       "      <td>0.633</td>\n",
       "      <td>0.864</td>\n",
       "      <td>0.558</td>\n",
       "    </tr>\n",
       "    <tr>\n",
       "      <th>0</th>\n",
       "      <td>3</td>\n",
       "      <td>CountVectorizer()</td>\n",
       "      <td>MultinomialNB()</td>\n",
       "      <td>0.826</td>\n",
       "      <td>0.854</td>\n",
       "      <td>0.833</td>\n",
       "      <td>0.753</td>\n",
       "      <td>0.631</td>\n",
       "      <td>0.851</td>\n",
       "      <td>0.542</td>\n",
       "    </tr>\n",
       "    <tr>\n",
       "      <th>0</th>\n",
       "      <td>4</td>\n",
       "      <td>TfidfVectorizer()</td>\n",
       "      <td>MultinomialNB()</td>\n",
       "      <td>0.829</td>\n",
       "      <td>0.860</td>\n",
       "      <td>0.831</td>\n",
       "      <td>0.761</td>\n",
       "      <td>0.630</td>\n",
       "      <td>0.847</td>\n",
       "      <td>0.538</td>\n",
       "    </tr>\n",
       "    <tr>\n",
       "      <th>0</th>\n",
       "      <td>5</td>\n",
       "      <td>CountVectorizer()</td>\n",
       "      <td>RandomForestClassifier()</td>\n",
       "      <td>0.797</td>\n",
       "      <td>0.952</td>\n",
       "      <td>0.803</td>\n",
       "      <td>0.652</td>\n",
       "      <td>0.557</td>\n",
       "      <td>0.839</td>\n",
       "      <td>0.486</td>\n",
       "    </tr>\n",
       "    <tr>\n",
       "      <th>0</th>\n",
       "      <td>6</td>\n",
       "      <td>TfidfVectorizer()</td>\n",
       "      <td>RandomForestClassifier()</td>\n",
       "      <td>0.829</td>\n",
       "      <td>0.963</td>\n",
       "      <td>0.834</td>\n",
       "      <td>0.682</td>\n",
       "      <td>0.609</td>\n",
       "      <td>0.870</td>\n",
       "      <td>0.550</td>\n",
       "    </tr>\n",
       "    <tr>\n",
       "      <th>0</th>\n",
       "      <td>7</td>\n",
       "      <td>CountVectorizer()</td>\n",
       "      <td>AdaBoostClassifier()</td>\n",
       "      <td>0.616</td>\n",
       "      <td>0.624</td>\n",
       "      <td>0.621</td>\n",
       "      <td>0.803</td>\n",
       "      <td>0.446</td>\n",
       "      <td>0.578</td>\n",
       "      <td>0.308</td>\n",
       "    </tr>\n",
       "    <tr>\n",
       "      <th>0</th>\n",
       "      <td>8</td>\n",
       "      <td>TfidfVectorizer()</td>\n",
       "      <td>AdaBoostClassifier()</td>\n",
       "      <td>0.584</td>\n",
       "      <td>0.594</td>\n",
       "      <td>0.588</td>\n",
       "      <td>0.847</td>\n",
       "      <td>0.438</td>\n",
       "      <td>0.528</td>\n",
       "      <td>0.296</td>\n",
       "    </tr>\n",
       "    <tr>\n",
       "      <th>0</th>\n",
       "      <td>9</td>\n",
       "      <td>CountVectorizer()</td>\n",
       "      <td>SVC()</td>\n",
       "      <td>0.694</td>\n",
       "      <td>0.799</td>\n",
       "      <td>0.704</td>\n",
       "      <td>0.763</td>\n",
       "      <td>0.494</td>\n",
       "      <td>0.690</td>\n",
       "      <td>0.365</td>\n",
       "    </tr>\n",
       "    <tr>\n",
       "      <th>0</th>\n",
       "      <td>10</td>\n",
       "      <td>TfidfVectorizer()</td>\n",
       "      <td>SVC()</td>\n",
       "      <td>0.855</td>\n",
       "      <td>0.971</td>\n",
       "      <td>0.863</td>\n",
       "      <td>0.650</td>\n",
       "      <td>0.643</td>\n",
       "      <td>0.913</td>\n",
       "      <td>0.636</td>\n",
       "    </tr>\n",
       "  </tbody>\n",
       "</table>\n",
       "</div>"
      ],
      "text/plain": [
       "  Model No.    Word Vectorizer                Classifier  CV Score (train)  \\\n",
       "0         1  CountVectorizer()      LogisticRegression()             0.815   \n",
       "0         2  TfidfVectorizer()      LogisticRegression()             0.837   \n",
       "0         3  CountVectorizer()           MultinomialNB()             0.826   \n",
       "0         4  TfidfVectorizer()           MultinomialNB()             0.829   \n",
       "0         5  CountVectorizer()  RandomForestClassifier()             0.797   \n",
       "0         6  TfidfVectorizer()  RandomForestClassifier()             0.829   \n",
       "0         7  CountVectorizer()      AdaBoostClassifier()             0.616   \n",
       "0         8  TfidfVectorizer()      AdaBoostClassifier()             0.584   \n",
       "0         9  CountVectorizer()                     SVC()             0.694   \n",
       "0        10  TfidfVectorizer()                     SVC()             0.855   \n",
       "\n",
       "   Accuracy (train)  Accuracy (test)  Recall (test)  F1 score (test)  \\\n",
       "0             0.938            0.816          0.710            0.594   \n",
       "0             0.933            0.839          0.732            0.633   \n",
       "0             0.854            0.833          0.753            0.631   \n",
       "0             0.860            0.831          0.761            0.630   \n",
       "0             0.952            0.803          0.652            0.557   \n",
       "0             0.963            0.834          0.682            0.609   \n",
       "0             0.624            0.621          0.803            0.446   \n",
       "0             0.594            0.588          0.847            0.438   \n",
       "0             0.799            0.704          0.763            0.494   \n",
       "0             0.971            0.863          0.650            0.643   \n",
       "\n",
       "   Specificity (test)  Precision (test)  \n",
       "0               0.841             0.511  \n",
       "0               0.864             0.558  \n",
       "0               0.851             0.542  \n",
       "0               0.847             0.538  \n",
       "0               0.839             0.486  \n",
       "0               0.870             0.550  \n",
       "0               0.578             0.308  \n",
       "0               0.528             0.296  \n",
       "0               0.690             0.365  \n",
       "0               0.913             0.636  "
      ]
     },
     "execution_count": 27,
     "metadata": {},
     "output_type": "execute_result"
    }
   ],
   "source": [
    "df_results"
   ]
  },
  {
   "cell_type": "markdown",
   "id": "5e1a1c89",
   "metadata": {},
   "source": [
    "**Observations:**\n",
    "\n",
    "SVM has met the accuracy target score of 0.7 but not the F1 score of 0.7.\n",
    "\n",
    "With the both accuracy score around 0.7-0.8 for cvec and 0.8-0.9 for tvec, the model is able to predict serious AE correctly relatively well. However, with a F1 score of 0.5 for cvec and 0.6 for tvec, the tvec model seems to be performing than our other models using SMOTE so far."
   ]
  },
  {
   "cell_type": "markdown",
   "id": "354c4281",
   "metadata": {},
   "source": [
    "#### Final thoughts on modelling with SMOTE:\n",
    "SVC with TF-IDF vectorizer has the most balanced performance with a train accuracy of 0.971, test accuracy of 0.863 and F1 score of 0.643. But, we find the Logistic Regression with TF-IDF without SMOTE still outperforms this model.\n",
    "\n",
    "Modelling with SMOTE does not seem to yield better results as compared to using the mildly imbalanced dataset. A possible reason for this is that while oversampling our minority class, this may have led to overfitting of the model which is seen in the greater difference between the train and test accuracy scores as compared to our first round of modelling. Another reason is that our minority class makes up around 20% of our dataset, and by taking 90% of the data as the train dataset we still get 10k rows of serious AE, which may be a large enough sample size for the model to train on, hence not requiring imbalance dataset techniques to improve metric scores.\n",
    "\n",
    "\n",
    "For our next iteration, we will try 80% of our data as the training set."
   ]
  }
 ],
 "metadata": {
  "kernelspec": {
   "display_name": "Python 3 (ipykernel)",
   "language": "python",
   "name": "python3"
  },
  "language_info": {
   "codemirror_mode": {
    "name": "ipython",
    "version": 3
   },
   "file_extension": ".py",
   "mimetype": "text/x-python",
   "name": "python",
   "nbconvert_exporter": "python",
   "pygments_lexer": "ipython3",
   "version": "3.8.8"
  }
 },
 "nbformat": 4,
 "nbformat_minor": 5
}
