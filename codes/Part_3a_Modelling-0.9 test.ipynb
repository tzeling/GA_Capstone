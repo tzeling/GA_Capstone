{
 "cells": [
  {
   "cell_type": "markdown",
   "id": "4cb67e96",
   "metadata": {},
   "source": [
    "## <img src=\"http://imgur.com/1ZcRyrc.png\" style=\"float: left; margin: 20px; height: 55px\">\n",
    "\n",
    "# Part 3a - Modelling\n",
    "- [Data Dictionary](#Data-Dictionary)\n",
    "- [Modelling](#Modelling)"
   ]
  },
  {
   "cell_type": "markdown",
   "id": "8dd5b637",
   "metadata": {},
   "source": [
    "## Import Libraries"
   ]
  },
  {
   "cell_type": "code",
   "execution_count": 3,
   "id": "d036187a",
   "metadata": {},
   "outputs": [],
   "source": [
    "# Basic imports\n",
    "import pandas as pd\n",
    "import numpy as np\n",
    "from numpy import arange\n",
    "\n",
    "\n",
    "# Time\n",
    "import time\n",
    "from datetime import datetime\n",
    "\n",
    "# Visualisation \n",
    "from wordcloud import WordCloud, STOPWORDS, ImageColorGenerator\n",
    "import collections\n",
    "import seaborn as sns\n",
    "import matplotlib.pyplot as plt\n",
    "%matplotlib inline\n",
    "\n",
    "# Data Processing \n",
    "import re\n",
    "import string\n",
    "import nltk\n",
    "\n",
    "\n",
    "# Scikit-learn\n",
    "from sklearn import ensemble, preprocessing\n",
    "from imblearn.over_sampling import SMOTE\n",
    "from imblearn.pipeline import Pipeline as imbpipeline\n",
    "from sklearn.pipeline import Pipeline\n",
    "\n",
    "# Vectorizing\n",
    "from sklearn.feature_extraction.text import CountVectorizer\n",
    "from sklearn.feature_extraction.text import TfidfVectorizer\n",
    "\n",
    "# Modelling - Basics\n",
    "from sklearn.model_selection import train_test_split, cross_val_score, StratifiedKFold, GridSearchCV\n",
    "\n",
    "# Modelling\n",
    "from sklearn.linear_model import LogisticRegression\n",
    "from sklearn.neighbors import KNeighborsClassifier\n",
    "from sklearn.svm import SVC\n",
    "from sklearn.ensemble import RandomForestClassifier, AdaBoostClassifier\n",
    "from sklearn.naive_bayes import MultinomialNB\n",
    "\n",
    "# Modelling - Classification metrics\n",
    "from sklearn import metrics\n",
    "from sklearn.metrics import classification_report\n",
    "from sklearn.metrics import confusion_matrix, plot_confusion_matrix, accuracy_score\n",
    "from sklearn.metrics import precision_score, recall_score\n",
    "from sklearn.metrics import plot_roc_curve, roc_auc_score\n",
    "\n",
    "# Ignore warnings\n",
    "import warnings\n",
    "warnings.filterwarnings('ignore')\n",
    "\n",
    "\n",
    "# Set display options\n",
    "pd.set_option('display.max_columns', None)\n",
    "pd.set_option('display.max_row', None)\n",
    "pd.set_option('display.width', None)"
   ]
  },
  {
   "cell_type": "markdown",
   "id": "8a57fbfc",
   "metadata": {},
   "source": [
    "## Load Data"
   ]
  },
  {
   "cell_type": "code",
   "execution_count": 4,
   "id": "f38a2c2c",
   "metadata": {},
   "outputs": [],
   "source": [
    "df = pd.read_csv('../data/final_clean_df.csv')"
   ]
  },
  {
   "cell_type": "code",
   "execution_count": 5,
   "id": "bfe89ecf",
   "metadata": {},
   "outputs": [
    {
     "data": {
      "text/html": [
       "<div>\n",
       "<style scoped>\n",
       "    .dataframe tbody tr th:only-of-type {\n",
       "        vertical-align: middle;\n",
       "    }\n",
       "\n",
       "    .dataframe tbody tr th {\n",
       "        vertical-align: top;\n",
       "    }\n",
       "\n",
       "    .dataframe thead th {\n",
       "        text-align: right;\n",
       "    }\n",
       "</style>\n",
       "<table border=\"1\" class=\"dataframe\">\n",
       "  <thead>\n",
       "    <tr style=\"text-align: right;\">\n",
       "      <th></th>\n",
       "      <th>vaers_id</th>\n",
       "      <th>age_yrs</th>\n",
       "      <th>sex</th>\n",
       "      <th>symptom_text</th>\n",
       "      <th>hospdays</th>\n",
       "      <th>recovd</th>\n",
       "      <th>numdays</th>\n",
       "      <th>v_adminby</th>\n",
       "      <th>other_meds</th>\n",
       "      <th>history</th>\n",
       "      <th>prior_vax</th>\n",
       "      <th>form_vers</th>\n",
       "      <th>er_ed_visit</th>\n",
       "      <th>allergies</th>\n",
       "      <th>vax_type</th>\n",
       "      <th>vax_manu</th>\n",
       "      <th>vax_dose_series</th>\n",
       "      <th>vax_route</th>\n",
       "      <th>vax_site</th>\n",
       "      <th>vax_name</th>\n",
       "      <th>serious</th>\n",
       "      <th>clean_symptom_text</th>\n",
       "    </tr>\n",
       "  </thead>\n",
       "  <tbody>\n",
       "    <tr>\n",
       "      <th>0</th>\n",
       "      <td>916612.0</td>\n",
       "      <td>71.0</td>\n",
       "      <td>F</td>\n",
       "      <td>Left side of face became numb including to beh...</td>\n",
       "      <td>0.0</td>\n",
       "      <td>U</td>\n",
       "      <td>0.0</td>\n",
       "      <td>PVT</td>\n",
       "      <td>levothyroxine 100mcg/day, estradiol 1mg/day</td>\n",
       "      <td>Graves Disease</td>\n",
       "      <td>NaN</td>\n",
       "      <td>2.0</td>\n",
       "      <td>0.0</td>\n",
       "      <td>penicillin, toradol, methimazole</td>\n",
       "      <td>COVID19</td>\n",
       "      <td>MODERNA</td>\n",
       "      <td>0</td>\n",
       "      <td>IM</td>\n",
       "      <td>LA</td>\n",
       "      <td>COVID19 (COVID19 (MODERNA))</td>\n",
       "      <td>0</td>\n",
       "      <td>['left', 'side', 'face', 'became', 'numb', 'in...</td>\n",
       "    </tr>\n",
       "    <tr>\n",
       "      <th>1</th>\n",
       "      <td>916641.0</td>\n",
       "      <td>44.0</td>\n",
       "      <td>F</td>\n",
       "      <td>Vertigo every evening when lying down and ever...</td>\n",
       "      <td>0.0</td>\n",
       "      <td>N</td>\n",
       "      <td>0.0</td>\n",
       "      <td>PVT</td>\n",
       "      <td>multivitamin, D3, baby aspirin</td>\n",
       "      <td>none</td>\n",
       "      <td>NaN</td>\n",
       "      <td>2.0</td>\n",
       "      <td>0.0</td>\n",
       "      <td>latex, sulfa drugs</td>\n",
       "      <td>COVID19</td>\n",
       "      <td>MODERNA</td>\n",
       "      <td>0</td>\n",
       "      <td>IM</td>\n",
       "      <td>RA</td>\n",
       "      <td>COVID19 (COVID19 (MODERNA))</td>\n",
       "      <td>0</td>\n",
       "      <td>['vertigo', 'every', 'evening', 'lying', 'ever...</td>\n",
       "    </tr>\n",
       "    <tr>\n",
       "      <th>2</th>\n",
       "      <td>916702.0</td>\n",
       "      <td>70.0</td>\n",
       "      <td>F</td>\n",
       "      <td>body aches and stomach ache</td>\n",
       "      <td>0.0</td>\n",
       "      <td>N</td>\n",
       "      <td>31.0</td>\n",
       "      <td>PVT</td>\n",
       "      <td>Triamterene HCTZ Montelukast Celecoxib Aller-T...</td>\n",
       "      <td>asthma when I get a cold</td>\n",
       "      <td>NaN</td>\n",
       "      <td>2.0</td>\n",
       "      <td>0.0</td>\n",
       "      <td>too much cordosone</td>\n",
       "      <td>COVID19</td>\n",
       "      <td>MODERNA</td>\n",
       "      <td>0</td>\n",
       "      <td>SYR</td>\n",
       "      <td>UN</td>\n",
       "      <td>COVID19 (COVID19 (MODERNA))</td>\n",
       "      <td>0</td>\n",
       "      <td>['body', 'ache', 'stomach', 'ache']</td>\n",
       "    </tr>\n",
       "    <tr>\n",
       "      <th>3</th>\n",
       "      <td>917195.0</td>\n",
       "      <td>47.0</td>\n",
       "      <td>F</td>\n",
       "      <td>H a diarrhea SEVERE joint pain all through bo...</td>\n",
       "      <td>0.0</td>\n",
       "      <td>N</td>\n",
       "      <td>0.0</td>\n",
       "      <td>PVT</td>\n",
       "      <td>None</td>\n",
       "      <td>Serious episode of covid + 11/18/2020</td>\n",
       "      <td>NaN</td>\n",
       "      <td>2.0</td>\n",
       "      <td>0.0</td>\n",
       "      <td>None</td>\n",
       "      <td>COVID19</td>\n",
       "      <td>MODERNA</td>\n",
       "      <td>0</td>\n",
       "      <td>UN</td>\n",
       "      <td>RA</td>\n",
       "      <td>COVID19 (COVID19 (MODERNA))</td>\n",
       "      <td>0</td>\n",
       "      <td>['h', 'diarrhea', 'severe', 'joint', 'pain', '...</td>\n",
       "    </tr>\n",
       "    <tr>\n",
       "      <th>4</th>\n",
       "      <td>917195.0</td>\n",
       "      <td>47.0</td>\n",
       "      <td>F</td>\n",
       "      <td>H a diarrhea SEVERE joint pain all through bo...</td>\n",
       "      <td>0.0</td>\n",
       "      <td>N</td>\n",
       "      <td>0.0</td>\n",
       "      <td>PVT</td>\n",
       "      <td>None</td>\n",
       "      <td>Serious episode of covid + 11/18/2020</td>\n",
       "      <td>NaN</td>\n",
       "      <td>2.0</td>\n",
       "      <td>0.0</td>\n",
       "      <td>None</td>\n",
       "      <td>COVID19</td>\n",
       "      <td>MODERNA</td>\n",
       "      <td>0</td>\n",
       "      <td>UN</td>\n",
       "      <td>RA</td>\n",
       "      <td>COVID19 (COVID19 (MODERNA))</td>\n",
       "      <td>0</td>\n",
       "      <td>['h', 'diarrhea', 'severe', 'joint', 'pain', '...</td>\n",
       "    </tr>\n",
       "  </tbody>\n",
       "</table>\n",
       "</div>"
      ],
      "text/plain": [
       "   vaers_id  age_yrs sex                                       symptom_text  \\\n",
       "0  916612.0     71.0   F  Left side of face became numb including to beh...   \n",
       "1  916641.0     44.0   F  Vertigo every evening when lying down and ever...   \n",
       "2  916702.0     70.0   F                        body aches and stomach ache   \n",
       "3  917195.0     47.0   F   H a diarrhea SEVERE joint pain all through bo...   \n",
       "4  917195.0     47.0   F   H a diarrhea SEVERE joint pain all through bo...   \n",
       "\n",
       "   hospdays recovd  numdays v_adminby  \\\n",
       "0       0.0      U      0.0       PVT   \n",
       "1       0.0      N      0.0       PVT   \n",
       "2       0.0      N     31.0       PVT   \n",
       "3       0.0      N      0.0       PVT   \n",
       "4       0.0      N      0.0       PVT   \n",
       "\n",
       "                                          other_meds  \\\n",
       "0        levothyroxine 100mcg/day, estradiol 1mg/day   \n",
       "1                     multivitamin, D3, baby aspirin   \n",
       "2  Triamterene HCTZ Montelukast Celecoxib Aller-T...   \n",
       "3                                               None   \n",
       "4                                               None   \n",
       "\n",
       "                                 history prior_vax  form_vers  er_ed_visit  \\\n",
       "0                         Graves Disease       NaN        2.0          0.0   \n",
       "1                                   none       NaN        2.0          0.0   \n",
       "2               asthma when I get a cold       NaN        2.0          0.0   \n",
       "3  Serious episode of covid + 11/18/2020       NaN        2.0          0.0   \n",
       "4  Serious episode of covid + 11/18/2020       NaN        2.0          0.0   \n",
       "\n",
       "                          allergies vax_type vax_manu  vax_dose_series  \\\n",
       "0  penicillin, toradol, methimazole  COVID19  MODERNA                0   \n",
       "1                latex, sulfa drugs  COVID19  MODERNA                0   \n",
       "2                too much cordosone  COVID19  MODERNA                0   \n",
       "3                              None  COVID19  MODERNA                0   \n",
       "4                              None  COVID19  MODERNA                0   \n",
       "\n",
       "  vax_route vax_site                     vax_name  serious  \\\n",
       "0        IM       LA  COVID19 (COVID19 (MODERNA))        0   \n",
       "1        IM       RA  COVID19 (COVID19 (MODERNA))        0   \n",
       "2       SYR       UN  COVID19 (COVID19 (MODERNA))        0   \n",
       "3        UN       RA  COVID19 (COVID19 (MODERNA))        0   \n",
       "4        UN       RA  COVID19 (COVID19 (MODERNA))        0   \n",
       "\n",
       "                                  clean_symptom_text  \n",
       "0  ['left', 'side', 'face', 'became', 'numb', 'in...  \n",
       "1  ['vertigo', 'every', 'evening', 'lying', 'ever...  \n",
       "2                ['body', 'ache', 'stomach', 'ache']  \n",
       "3  ['h', 'diarrhea', 'severe', 'joint', 'pain', '...  \n",
       "4  ['h', 'diarrhea', 'severe', 'joint', 'pain', '...  "
      ]
     },
     "execution_count": 5,
     "metadata": {},
     "output_type": "execute_result"
    }
   ],
   "source": [
    "df.head()"
   ]
  },
  {
   "cell_type": "code",
   "execution_count": 6,
   "id": "4f268f1c",
   "metadata": {
    "scrolled": true
   },
   "outputs": [
    {
     "name": "stdout",
     "output_type": "stream",
     "text": [
      "<class 'pandas.core.frame.DataFrame'>\n",
      "RangeIndex: 536690 entries, 0 to 536689\n",
      "Data columns (total 22 columns):\n",
      " #   Column              Non-Null Count   Dtype  \n",
      "---  ------              --------------   -----  \n",
      " 0   vaers_id            536690 non-null  float64\n",
      " 1   age_yrs             536690 non-null  float64\n",
      " 2   sex                 536690 non-null  object \n",
      " 3   symptom_text        536690 non-null  object \n",
      " 4   hospdays            536690 non-null  float64\n",
      " 5   recovd              536690 non-null  object \n",
      " 6   numdays             536690 non-null  float64\n",
      " 7   v_adminby           536690 non-null  object \n",
      " 8   other_meds          383513 non-null  object \n",
      " 9   history             380085 non-null  object \n",
      " 10  prior_vax           33754 non-null   object \n",
      " 11  form_vers           536690 non-null  float64\n",
      " 12  er_ed_visit         536690 non-null  float64\n",
      " 13  allergies           348819 non-null  object \n",
      " 14  vax_type            536690 non-null  object \n",
      " 15  vax_manu            536690 non-null  object \n",
      " 16  vax_dose_series     536690 non-null  int64  \n",
      " 17  vax_route           536690 non-null  object \n",
      " 18  vax_site            536690 non-null  object \n",
      " 19  vax_name            536690 non-null  object \n",
      " 20  serious             536690 non-null  int64  \n",
      " 21  clean_symptom_text  536690 non-null  object \n",
      "dtypes: float64(6), int64(2), object(14)\n",
      "memory usage: 90.1+ MB\n"
     ]
    }
   ],
   "source": [
    "df.info()"
   ]
  },
  {
   "cell_type": "markdown",
   "id": "73d617d6",
   "metadata": {},
   "source": [
    "## Data Dictionary"
   ]
  },
  {
   "cell_type": "markdown",
   "id": "a13cd1fd",
   "metadata": {},
   "source": [
    "The following table describes the different features in the data. A guide of how to intepret the original dataset can also be found at the following [link](https://vaers.hhs.gov/docs/VAERSDataUseGuide_en_September2021.pdf).\n",
    "\n",
    "| Feature | Type | Description |\n",
    "|---:|---:|---:|\n",
    "| symptom_text | object | Description of symptoms experienced by patient |\n",
    "| serious | int | non-serious or serious |"
   ]
  },
  {
   "cell_type": "code",
   "execution_count": 9,
   "id": "8808b7aa",
   "metadata": {},
   "outputs": [
    {
     "data": {
      "text/plain": [
       "0    434899\n",
       "1    101791\n",
       "Name: serious, dtype: int64"
      ]
     },
     "execution_count": 9,
     "metadata": {},
     "output_type": "execute_result"
    }
   ],
   "source": [
    "# Look at split between categories\n",
    "df['serious'].value_counts(normalize=True)"
   ]
  },
  {
   "cell_type": "markdown",
   "id": "bb3751ba",
   "metadata": {},
   "source": [
    "### Splitting the Data"
   ]
  },
  {
   "cell_type": "code",
   "execution_count": 10,
   "id": "a26075f3",
   "metadata": {},
   "outputs": [],
   "source": [
    "# Assign X & y\n",
    "X = df['clean_symptom_text']\n",
    "y = df['serious']\n",
    "\n",
    "# Use test size of 90% as it represents around 50k rows of data\n",
    "X_train, X_test, y_train, y_test = train_test_split(X, y, test_size=.9, \n",
    "                                                    random_state=200, stratify=y)"
   ]
  },
  {
   "cell_type": "markdown",
   "id": "b2d8762d",
   "metadata": {},
   "source": [
    "# Modelling\n",
    "\n",
    "#### Vectorization\n",
    "* Count Vectorizer (CVEC)\n",
    "* Term Frequency–Inverse Document Frequency Vectorizer (TFIDF)\n",
    "\n",
    "#### Modelling\n",
    "* Logistic Regression\n",
    "* Naive Bayes - Multinomal\n",
    "* Random Forest Classifier\n",
    "* Ada Boost Classifier\n",
    "* Support Vector Machine (SVM)"
   ]
  },
  {
   "cell_type": "code",
   "execution_count": 11,
   "id": "0a0f0f3c",
   "metadata": {},
   "outputs": [],
   "source": [
    "# Create empty results dataframe\n",
    "df_results = pd.DataFrame(\n",
    "    columns = [\n",
    "        'Model No.',\n",
    "        'Word Vectorizer',\n",
    "        'Classifier',\n",
    "        #'Cross-validated ROC AUC Score',\n",
    "        'CV Score (train)',\n",
    "        'Accuracy (train)',\n",
    "        'Accuracy (test)',\n",
    "        'Recall (test)', \n",
    "        'F1 score (test)',\n",
    "        'Specificity (test)',\n",
    "        'Precision (test)',\n",
    "    ]\n",
    ")"
   ]
  },
  {
   "cell_type": "code",
   "execution_count": 12,
   "id": "b84b9c07",
   "metadata": {},
   "outputs": [],
   "source": [
    "# Create function to run pipe and print results\n",
    "def run_grid(X_train, X_test, y_train, y_test):\n",
    "\n",
    "    \n",
    "    # Instantiate GridSearchCV\n",
    "    gs = GridSearchCV(\n",
    "        pipe, \n",
    "        param_grid = params, \n",
    "        cv = 5,\n",
    "        verbose = 1\n",
    "    )\n",
    "\n",
    "    # Fit model\n",
    "    gs.fit(X_train, y_train)\n",
    "\n",
    "    # Confusion matrix\n",
    "    y_pred = gs.predict(X_test)\n",
    "    tn, fp, fn, tp = confusion_matrix(y_test, y_pred).ravel()\n",
    "    \n",
    "    plot_confusion_matrix(gs, \n",
    "                  X_test, y_test, \n",
    "                  cmap='RdPu', \n",
    "                  values_format='d',\n",
    "                  display_labels=['non-serious', 'serious']\n",
    "                 );\n",
    "\n",
    "    \n",
    "    # Find current length of df_results\n",
    "    length = len(df_results)\n",
    "    \n",
    "    # Store results in new_row\n",
    "    new_row = [{\n",
    "        'Model No.' : length + 1,\n",
    "        'Word Vectorizer' : pipe.steps[0][1],\n",
    "        'Classifier' : pipe.steps[1][1],\n",
    "        #'Cross-validated ROC AUC Score' : round(gs.roc_auc_score(X_test, y_test), 3),\n",
    "        'CV Score (train)' : round(gs.best_score_, 3),\n",
    "        'Accuracy (train)': round(gs.score(X_train, y_train), 3),\n",
    "        'Accuracy (test)' : round(gs.score(X_test, y_test), 3),\n",
    "        'Recall (test)' : round (tp/(tp+fn), 3), \n",
    "        'F1 score (test)': round((tp/(tp+(fp+fn)/2)), 3),\n",
    "        'Specificity (test)' : round (tn/(tn+fp), 3),\n",
    "        'Precision (test)' : round (tp/(tp+fp), 3),\n",
    "    }]\n",
    "    \n",
    "    # Print best parameters from GridSearchCV\n",
    "    print('Best Parameters:', gs.best_params_)\n",
    "    \n",
    "    return new_row"
   ]
  },
  {
   "cell_type": "markdown",
   "id": "82e857c0",
   "metadata": {},
   "source": [
    "### Logistic Regression\n",
    "\n",
    "Logistic regression is used to predict a dependent categorical variable, which is whether an AE is serious or not in our case. It uses a link function (known as the logit link) to effectively \"bend\" the line so that the curve of the best fit matches the values.\n",
    "\n",
    "This model is easy to implement, interpret and efficient to train. However a major limitation is the assumption of linearity between dependent and independent variables.\n",
    "\n",
    "The model will be tuned with GridSearchCV to optimise the hyperparameter 'C' which is the inverse of regularisation strength. Regularisation introduces a penalty to avoid overfitting of the model. The smaller the value of 'C', the stronger the regularisation."
   ]
  },
  {
   "cell_type": "code",
   "execution_count": 13,
   "id": "c79fa9aa",
   "metadata": {},
   "outputs": [
    {
     "name": "stdout",
     "output_type": "stream",
     "text": [
      "Fitting 5 folds for each of 9 candidates, totalling 45 fits\n",
      "Best Parameters: {'cvec__max_features': 20000, 'cvec__min_df': 10, 'cvec__ngram_range': (2, 2), 'logit__C': 1}\n",
      "CPU times: user 8min 38s, sys: 42.3 s, total: 9min 21s\n",
      "Wall time: 6min 55s\n"
     ]
    },
    {
     "data": {
      "text/plain": [
       "Text(0.5, 1.0, 'CVEC Logistic Regression')"
      ]
     },
     "execution_count": 13,
     "metadata": {},
     "output_type": "execute_result"
    },
    {
     "data": {
      "image/png": "[encoded data removed]",
      "text/plain": [
       "<Figure size 432x288 with 2 Axes>"
      ]
     },
     "metadata": {
      "needs_background": "light"
     },
     "output_type": "display_data"
    }
   ],
   "source": [
    "%%time\n",
    "\n",
    "# Instantiate CountVectorizer() and LogisticRegressionCV()\n",
    "cvec = CountVectorizer()\n",
    "logit = LogisticRegression()\n",
    "\n",
    "pipe = Pipeline([\n",
    "    ('cvec', cvec),\n",
    "    ('logit', logit)])\n",
    "\n",
    "params = {\n",
    "    'cvec__max_features': [5000, 10000, 20000],\n",
    "    'cvec__ngram_range': [(2,2)], \n",
    "    'cvec__min_df': [10],\n",
    "    #'cvec__ngram_range': [(1,1), (1,2), (1,3)],     \n",
    "    'logit__C': [0.1, 1, 10],} \n",
    "    #'logit__penalty': ['l1', 'l2', 'none']}\n",
    "\n",
    "\n",
    "new_results = run_grid(X_train, X_test, y_train, y_test)\n",
    "df_results = pd.concat([df_results, pd.DataFrame(new_results)], axis = 0)\n",
    "plt.title('CVEC Logistic Regression');"
   ]
  },
  {
   "cell_type": "code",
   "execution_count": 14,
   "id": "e9eb3227",
   "metadata": {},
   "outputs": [
    {
     "name": "stdout",
     "output_type": "stream",
     "text": [
      "Fitting 5 folds for each of 9 candidates, totalling 45 fits\n",
      "Best Parameters: {'logit__C': 10, 'tvec__max_features': 20000, 'tvec__min_df': 10, 'tvec__ngram_range': (2, 2)}\n",
      "CPU times: user 8min 8s, sys: 36.5 s, total: 8min 44s\n",
      "Wall time: 6min 30s\n"
     ]
    },
    {
     "data": {
      "text/plain": [
       "Text(0.5, 1.0, 'TVEC Logistic Regression')"
      ]
     },
     "execution_count": 14,
     "metadata": {},
     "output_type": "execute_result"
    },
    {
     "data": {
      "image/png": "[encoded data removed]",
      "text/plain": [
       "<Figure size 432x288 with 2 Axes>"
      ]
     },
     "metadata": {
      "needs_background": "light"
     },
     "output_type": "display_data"
    }
   ],
   "source": [
    "%%time\n",
    "\n",
    "# Instantiate TfidfVectorizer() and LogisticRegressionCV()\n",
    "tvec = TfidfVectorizer()\n",
    "logit = LogisticRegression()\n",
    "\n",
    "pipe = Pipeline([\n",
    "    ('tvec', tvec),\n",
    "    ('logit', logit)])\n",
    "\n",
    "params = {\n",
    "    'tvec__max_features': [5000, 10000, 20000],\n",
    "    'tvec__ngram_range': [(2,2)],\n",
    "    'tvec__min_df': [10],\n",
    "    #'tvec__ngram_range': [(1,1), (1,2), (1,3)],    \n",
    "    'logit__C': [0.1, 1, 10],} \n",
    "    #'logit__penalty': ['l1', 'l2', 'none']}\n",
    "\n",
    "\n",
    "new_results = run_grid(X_train, X_test, y_train, y_test)\n",
    "df_results = pd.concat([df_results, pd.DataFrame(new_results)], axis = 0)\n",
    "plt.title('TVEC Logistic Regression');"
   ]
  },
  {
   "cell_type": "code",
   "execution_count": 15,
   "id": "bf08b3d1",
   "metadata": {
    "scrolled": true
   },
   "outputs": [
    {
     "data": {
      "text/html": [
       "<div>\n",
       "<style scoped>\n",
       "    .dataframe tbody tr th:only-of-type {\n",
       "        vertical-align: middle;\n",
       "    }\n",
       "\n",
       "    .dataframe tbody tr th {\n",
       "        vertical-align: top;\n",
       "    }\n",
       "\n",
       "    .dataframe thead th {\n",
       "        text-align: right;\n",
       "    }\n",
       "</style>\n",
       "<table border=\"1\" class=\"dataframe\">\n",
       "  <thead>\n",
       "    <tr style=\"text-align: right;\">\n",
       "      <th></th>\n",
       "      <th>Model No.</th>\n",
       "      <th>Word Vectorizer</th>\n",
       "      <th>Classifier</th>\n",
       "      <th>CV Score (train)</th>\n",
       "      <th>Accuracy (train)</th>\n",
       "      <th>Accuracy (test)</th>\n",
       "      <th>Recall (test)</th>\n",
       "      <th>F1 score (test)</th>\n",
       "      <th>Specificity (test)</th>\n",
       "      <th>Precision (test)</th>\n",
       "    </tr>\n",
       "  </thead>\n",
       "  <tbody>\n",
       "    <tr>\n",
       "      <th>0</th>\n",
       "      <td>1</td>\n",
       "      <td>CountVectorizer()</td>\n",
       "      <td>LogisticRegression()</td>\n",
       "      <td>0.883</td>\n",
       "      <td>0.950</td>\n",
       "      <td>0.885</td>\n",
       "      <td>0.562</td>\n",
       "      <td>0.649</td>\n",
       "      <td>0.960</td>\n",
       "      <td>0.768</td>\n",
       "    </tr>\n",
       "    <tr>\n",
       "      <th>0</th>\n",
       "      <td>2</td>\n",
       "      <td>TfidfVectorizer()</td>\n",
       "      <td>LogisticRegression()</td>\n",
       "      <td>0.887</td>\n",
       "      <td>0.948</td>\n",
       "      <td>0.889</td>\n",
       "      <td>0.584</td>\n",
       "      <td>0.667</td>\n",
       "      <td>0.961</td>\n",
       "      <td>0.776</td>\n",
       "    </tr>\n",
       "  </tbody>\n",
       "</table>\n",
       "</div>"
      ],
      "text/plain": [
       "  Model No.    Word Vectorizer            Classifier  CV Score (train)  \\\n",
       "0         1  CountVectorizer()  LogisticRegression()             0.883   \n",
       "0         2  TfidfVectorizer()  LogisticRegression()             0.887   \n",
       "\n",
       "   Accuracy (train)  Accuracy (test)  Recall (test)  F1 score (test)  \\\n",
       "0             0.950            0.885          0.562            0.649   \n",
       "0             0.948            0.889          0.584            0.667   \n",
       "\n",
       "   Specificity (test)  Precision (test)  \n",
       "0               0.960             0.768  \n",
       "0               0.961             0.776  "
      ]
     },
     "execution_count": 15,
     "metadata": {},
     "output_type": "execute_result"
    }
   ],
   "source": [
    "df_results"
   ]
  },
  {
   "cell_type": "markdown",
   "id": "64dc712c",
   "metadata": {},
   "source": [
    "**Observations:**\n",
    "\n",
    "Both models have very close scores in all metrics, however tvec outperforms cvec in all metrics except accuracy (train). The accuracy has hit our target of 0.7 for accuracy but not the F1 score which should also be 0.7.\n",
    "\n",
    "\n",
    "The accuracy score is the percentage of correctly predicted serious AE. The recall represents the fraction of correctly predicted serious AE with respect to all actual serious AE. A lower recall may be attributed to serious AE being misclassified as non-serious. The precision is defined by the fraction of predicted serious AE among all the predicted serious AE. A lower precision may indicate non-serious AE being misclassifed as serious. The F1 score gives the harmonic mean of precision and recall metrics, hence offering a better overall measure of performance as compared to just using precision or recall alone. \n",
    "\n",
    "With a score train accuracy score of > 0.9 and test accuracy score of > 0.8, it indicates that the model is able to correctly predict serious AE 90% in the train dataset and 80% in the test dataset. Since the difference between the train and test accuracy is lower for tvec model, it suggests that the vectorized words produced help to reduce overfitting. The F1 score of 0.6 represents the harmonic mean of recall (0.5) and precision (0.7) which suggests that the model more likely misclassifying serious AE as non-serious as compared to non-serious as serious."
   ]
  },
  {
   "cell_type": "markdown",
   "id": "5189e208",
   "metadata": {},
   "source": [
    "### Multinomial Naive Bayes\n",
    "\n",
    "Naive Bayes is based on Bayes theorem and predicts the likelihood that an event will occur given evidence that is present in the dataset. Multinomial Naive Bayes has been chosen as it is the most suitable when our variables are positive integers.\n",
    "\n",
    "This model can work effectively well with large datasets and has relatively low computational costs. However, it assumes that all features are independent which is difficult to acquire in real life.\n",
    "\n",
    "The model will be tuned with GridSearchCV to optimise the hyperparameter 'alpha' which represent the Laplace smoothing parameter and 'fit_prior' representing whether to learn class prior probabilities or not."
   ]
  },
  {
   "cell_type": "code",
   "execution_count": 16,
   "id": "be77f076",
   "metadata": {},
   "outputs": [
    {
     "name": "stdout",
     "output_type": "stream",
     "text": [
      "Fitting 5 folds for each of 12 candidates, totalling 60 fits\n",
      "Best Parameters: {'cvec__max_features': 40000, 'cvec__min_df': 10, 'cvec__ngram_range': (2, 2), 'nb__alpha': 0.5, 'nb__fit_prior': True}\n",
      "CPU times: user 6min 59s, sys: 5.46 s, total: 7min 5s\n",
      "Wall time: 7min 8s\n"
     ]
    },
    {
     "data": {
      "text/plain": [
       "Text(0.5, 1.0, 'CVEC Naive Bayes')"
      ]
     },
     "execution_count": 16,
     "metadata": {},
     "output_type": "execute_result"
    },
    {
     "data": {
      "image/png": "[encoded data removed]",
      "text/plain": [
       "<Figure size 432x288 with 2 Axes>"
      ]
     },
     "metadata": {
      "needs_background": "light"
     },
     "output_type": "display_data"
    }
   ],
   "source": [
    "%%time\n",
    "\n",
    "# Instantiate CountVectorizer() and MultinomialNB()\n",
    "cvec = CountVectorizer()\n",
    "nb = MultinomialNB()\n",
    "\n",
    "pipe = Pipeline([\n",
    "    ('cvec', cvec),\n",
    "    ('nb', nb)])\n",
    "\n",
    "params = {\n",
    "    'cvec__max_features': [10000, 20000, 40000],\n",
    "    'cvec__ngram_range': [(2,2)], \n",
    "    'cvec__min_df': [10],\n",
    "    'nb__alpha': np.linspace(0.5, 1.5, 2),\n",
    "    'nb__fit_prior': [True, False]\n",
    "}\n",
    "\n",
    "new_results = run_grid(X_train, X_test, y_train, y_test)\n",
    "df_results = pd.concat([df_results, pd.DataFrame(new_results)], axis = 0)\n",
    "plt.title('CVEC Naive Bayes');"
   ]
  },
  {
   "cell_type": "code",
   "execution_count": 17,
   "id": "d91a9c69",
   "metadata": {
    "scrolled": false
   },
   "outputs": [
    {
     "name": "stdout",
     "output_type": "stream",
     "text": [
      "Fitting 5 folds for each of 12 candidates, totalling 60 fits\n",
      "Best Parameters: {'nb__alpha': 1.5, 'nb__fit_prior': True, 'tvec__max_features': 40000, 'tvec__min_df': 10, 'tvec__ngram_range': (2, 2)}\n",
      "CPU times: user 6min 54s, sys: 4.71 s, total: 6min 59s\n",
      "Wall time: 7min\n"
     ]
    },
    {
     "data": {
      "text/plain": [
       "Text(0.5, 1.0, 'TF-IDF Naive Bayes')"
      ]
     },
     "execution_count": 17,
     "metadata": {},
     "output_type": "execute_result"
    },
    {
     "data": {
      "image/png": "[encoded data removed]",
      "text/plain": [
       "<Figure size 432x288 with 2 Axes>"
      ]
     },
     "metadata": {
      "needs_background": "light"
     },
     "output_type": "display_data"
    }
   ],
   "source": [
    "%%time\n",
    "\n",
    "# Instantiate TfidfVectorizer() and MultinomialNB()\n",
    "tvec = TfidfVectorizer()\n",
    "nb = MultinomialNB()\n",
    "\n",
    "pipe = Pipeline([\n",
    "    ('tvec', tvec),\n",
    "    ('nb', nb)\n",
    "])\n",
    "\n",
    "params = {\n",
    "    'tvec__max_features': [10000, 20000, 40000],\n",
    "    'tvec__ngram_range': [(2,2)], \n",
    "    'tvec__min_df': [10],\n",
    "    'nb__alpha': np.linspace(0.5, 1.5, 2),\n",
    "    'nb__fit_prior': [True, False]}\n",
    "\n",
    "new_results = run_grid(X_train, X_test, y_train, y_test)\n",
    "df_results = pd.concat([df_results, pd.DataFrame(new_results)], axis = 0)\n",
    "plt.title('TF-IDF Naive Bayes');"
   ]
  },
  {
   "cell_type": "code",
   "execution_count": 18,
   "id": "9c132c5c",
   "metadata": {
    "scrolled": true
   },
   "outputs": [
    {
     "data": {
      "text/html": [
       "<div>\n",
       "<style scoped>\n",
       "    .dataframe tbody tr th:only-of-type {\n",
       "        vertical-align: middle;\n",
       "    }\n",
       "\n",
       "    .dataframe tbody tr th {\n",
       "        vertical-align: top;\n",
       "    }\n",
       "\n",
       "    .dataframe thead th {\n",
       "        text-align: right;\n",
       "    }\n",
       "</style>\n",
       "<table border=\"1\" class=\"dataframe\">\n",
       "  <thead>\n",
       "    <tr style=\"text-align: right;\">\n",
       "      <th></th>\n",
       "      <th>Model No.</th>\n",
       "      <th>Word Vectorizer</th>\n",
       "      <th>Classifier</th>\n",
       "      <th>CV Score (train)</th>\n",
       "      <th>Accuracy (train)</th>\n",
       "      <th>Accuracy (test)</th>\n",
       "      <th>Recall (test)</th>\n",
       "      <th>F1 score (test)</th>\n",
       "      <th>Specificity (test)</th>\n",
       "      <th>Precision (test)</th>\n",
       "    </tr>\n",
       "  </thead>\n",
       "  <tbody>\n",
       "    <tr>\n",
       "      <th>0</th>\n",
       "      <td>1</td>\n",
       "      <td>CountVectorizer()</td>\n",
       "      <td>LogisticRegression()</td>\n",
       "      <td>0.883</td>\n",
       "      <td>0.950</td>\n",
       "      <td>0.885</td>\n",
       "      <td>0.562</td>\n",
       "      <td>0.649</td>\n",
       "      <td>0.960</td>\n",
       "      <td>0.768</td>\n",
       "    </tr>\n",
       "    <tr>\n",
       "      <th>0</th>\n",
       "      <td>2</td>\n",
       "      <td>TfidfVectorizer()</td>\n",
       "      <td>LogisticRegression()</td>\n",
       "      <td>0.887</td>\n",
       "      <td>0.948</td>\n",
       "      <td>0.889</td>\n",
       "      <td>0.584</td>\n",
       "      <td>0.667</td>\n",
       "      <td>0.961</td>\n",
       "      <td>0.776</td>\n",
       "    </tr>\n",
       "    <tr>\n",
       "      <th>0</th>\n",
       "      <td>3</td>\n",
       "      <td>CountVectorizer()</td>\n",
       "      <td>MultinomialNB()</td>\n",
       "      <td>0.823</td>\n",
       "      <td>0.847</td>\n",
       "      <td>0.825</td>\n",
       "      <td>0.761</td>\n",
       "      <td>0.623</td>\n",
       "      <td>0.840</td>\n",
       "      <td>0.527</td>\n",
       "    </tr>\n",
       "    <tr>\n",
       "      <th>0</th>\n",
       "      <td>4</td>\n",
       "      <td>TfidfVectorizer()</td>\n",
       "      <td>MultinomialNB()</td>\n",
       "      <td>0.882</td>\n",
       "      <td>0.899</td>\n",
       "      <td>0.884</td>\n",
       "      <td>0.514</td>\n",
       "      <td>0.628</td>\n",
       "      <td>0.971</td>\n",
       "      <td>0.806</td>\n",
       "    </tr>\n",
       "  </tbody>\n",
       "</table>\n",
       "</div>"
      ],
      "text/plain": [
       "  Model No.    Word Vectorizer            Classifier  CV Score (train)  \\\n",
       "0         1  CountVectorizer()  LogisticRegression()             0.883   \n",
       "0         2  TfidfVectorizer()  LogisticRegression()             0.887   \n",
       "0         3  CountVectorizer()       MultinomialNB()             0.823   \n",
       "0         4  TfidfVectorizer()       MultinomialNB()             0.882   \n",
       "\n",
       "   Accuracy (train)  Accuracy (test)  Recall (test)  F1 score (test)  \\\n",
       "0             0.950            0.885          0.562            0.649   \n",
       "0             0.948            0.889          0.584            0.667   \n",
       "0             0.847            0.825          0.761            0.623   \n",
       "0             0.899            0.884          0.514            0.628   \n",
       "\n",
       "   Specificity (test)  Precision (test)  \n",
       "0               0.960             0.768  \n",
       "0               0.961             0.776  \n",
       "0               0.840             0.527  \n",
       "0               0.971             0.806  "
      ]
     },
     "execution_count": 18,
     "metadata": {},
     "output_type": "execute_result"
    }
   ],
   "source": [
    "df_results"
   ]
  },
  {
   "cell_type": "markdown",
   "id": "590038bb",
   "metadata": {},
   "source": [
    "**Observations:**\n",
    "\n",
    "Multinomial Naive Bayes has hit our target of 0.7 for accuracy but not the F1 score which should also be 0.7.\n",
    "\n",
    "With a score accuracy score of > 0.8 for train and test indicates that the model is able to correctly predict serious AE 80% in both datasets. Since the difference between the train and test accuracy is lower for tvec model, it suggests that the vectorized words produced help to reduce overfitting. The F1 score of 0.6 represents the model more likely misclassifying serious AE as non-serious as compared to non-serious as serious."
   ]
  },
  {
   "cell_type": "markdown",
   "id": "b1ac2813",
   "metadata": {},
   "source": [
    "### Random Forest Classifier\n",
    "\n",
    "Random Forest uses an ensemble of decision trees to take the most popular category of trees in the esemble. This model uses a variant of bagging, also known as bootstrap aggregating which selects a random replacement of training set and fit trees. Random Forest correct for decision trees' habit of overfitting to training set, thus bringing down variance due to averaging.\n",
    "\n",
    "Random Forest is highly flexible and gives a good accuracy while working well on large datasets. However, the tradeoff is that this model is computationally expensive."
   ]
  },
  {
   "cell_type": "code",
   "execution_count": 19,
   "id": "8be704e5",
   "metadata": {},
   "outputs": [
    {
     "name": "stdout",
     "output_type": "stream",
     "text": [
      "Fitting 5 folds for each of 1 candidates, totalling 5 fits\n",
      "Best Parameters: {'cvec__max_features': 5000, 'cvec__min_df': 10, 'cvec__ngram_range': (2, 2)}\n",
      "CPU times: user 12min 46s, sys: 4.18 s, total: 12min 50s\n",
      "Wall time: 12min 54s\n"
     ]
    },
    {
     "data": {
      "text/plain": [
       "Text(0.5, 1.0, 'CVEC and Random Forest Classifier')"
      ]
     },
     "execution_count": 19,
     "metadata": {},
     "output_type": "execute_result"
    },
    {
     "data": {
      "image/png": "[encoded data removed]",
      "text/plain": [
       "<Figure size 432x288 with 2 Axes>"
      ]
     },
     "metadata": {
      "needs_background": "light"
     },
     "output_type": "display_data"
    }
   ],
   "source": [
    "%%time\n",
    "\n",
    "# Instantiate CountVectorizer() and RandomForestClassifier()\n",
    "cvec = CountVectorizer()\n",
    "rfc = RandomForestClassifier()\n",
    "\n",
    "pipe = Pipeline([\n",
    "    ('cvec', cvec),\n",
    "    ('rfc', rfc)])\n",
    "\n",
    "params = {\n",
    "    'cvec__max_features': [5000],\n",
    "    'cvec__ngram_range': [(2,2)], \n",
    "    'cvec__min_df': [10],}  \n",
    "    #'rfc__n_estimators': [10, 100, 500]} \n",
    "\n",
    "new_results = run_grid(X_train, X_test, y_train, y_test)\n",
    "df_results = pd.concat([df_results, pd.DataFrame(new_results)], axis = 0)\n",
    "plt.title('CVEC and Random Forest Classifier');"
   ]
  },
  {
   "cell_type": "code",
   "execution_count": 20,
   "id": "1bed00bf",
   "metadata": {
    "scrolled": false
   },
   "outputs": [
    {
     "name": "stdout",
     "output_type": "stream",
     "text": [
      "Fitting 5 folds for each of 1 candidates, totalling 5 fits\n",
      "Best Parameters: {'tvec__max_features': 5000, 'tvec__min_df': 10, 'tvec__ngram_range': (2, 2)}\n",
      "CPU times: user 15min 39s, sys: 5.29 s, total: 15min 44s\n",
      "Wall time: 15min 50s\n"
     ]
    },
    {
     "data": {
      "text/plain": [
       "Text(0.5, 1.0, 'TVEC and Random Forest Classifier')"
      ]
     },
     "execution_count": 20,
     "metadata": {},
     "output_type": "execute_result"
    },
    {
     "data": {
      "image/png": "[encoded data removed]",
      "text/plain": [
       "<Figure size 432x288 with 2 Axes>"
      ]
     },
     "metadata": {
      "needs_background": "light"
     },
     "output_type": "display_data"
    }
   ],
   "source": [
    "%%time\n",
    "\n",
    "# Instantiate TfidfVectorizer() and RandomForestClassifier()\n",
    "tvec = TfidfVectorizer()\n",
    "rfc = RandomForestClassifier()\n",
    "\n",
    "pipe = Pipeline([\n",
    "    ('tvec', tvec),\n",
    "    ('rfc', rfc)])\n",
    "\n",
    "params = {\n",
    "    'tvec__max_features': [5000],\n",
    "    'tvec__ngram_range': [(2,2)], \n",
    "    'tvec__min_df': [10],}\n",
    "    #'tvec__ngram_range': [(1,1), (1,2), (1,3)],    \n",
    "    #'rfc__n_estimators': [10, 100, 500],} \n",
    "\n",
    "new_results = run_grid(X_train, X_test, y_train, y_test)\n",
    "df_results = pd.concat([df_results, pd.DataFrame(new_results)], axis = 0)\n",
    "plt.title('TVEC and Random Forest Classifier');"
   ]
  },
  {
   "cell_type": "code",
   "execution_count": 21,
   "id": "a26591ae",
   "metadata": {
    "scrolled": false
   },
   "outputs": [
    {
     "data": {
      "text/html": [
       "<div>\n",
       "<style scoped>\n",
       "    .dataframe tbody tr th:only-of-type {\n",
       "        vertical-align: middle;\n",
       "    }\n",
       "\n",
       "    .dataframe tbody tr th {\n",
       "        vertical-align: top;\n",
       "    }\n",
       "\n",
       "    .dataframe thead th {\n",
       "        text-align: right;\n",
       "    }\n",
       "</style>\n",
       "<table border=\"1\" class=\"dataframe\">\n",
       "  <thead>\n",
       "    <tr style=\"text-align: right;\">\n",
       "      <th></th>\n",
       "      <th>Model No.</th>\n",
       "      <th>Word Vectorizer</th>\n",
       "      <th>Classifier</th>\n",
       "      <th>CV Score (train)</th>\n",
       "      <th>Accuracy (train)</th>\n",
       "      <th>Accuracy (test)</th>\n",
       "      <th>Recall (test)</th>\n",
       "      <th>F1 score (test)</th>\n",
       "      <th>Specificity (test)</th>\n",
       "      <th>Precision (test)</th>\n",
       "    </tr>\n",
       "  </thead>\n",
       "  <tbody>\n",
       "    <tr>\n",
       "      <th>0</th>\n",
       "      <td>1</td>\n",
       "      <td>CountVectorizer()</td>\n",
       "      <td>LogisticRegression()</td>\n",
       "      <td>0.883</td>\n",
       "      <td>0.950</td>\n",
       "      <td>0.885</td>\n",
       "      <td>0.562</td>\n",
       "      <td>0.649</td>\n",
       "      <td>0.960</td>\n",
       "      <td>0.768</td>\n",
       "    </tr>\n",
       "    <tr>\n",
       "      <th>0</th>\n",
       "      <td>2</td>\n",
       "      <td>TfidfVectorizer()</td>\n",
       "      <td>LogisticRegression()</td>\n",
       "      <td>0.887</td>\n",
       "      <td>0.948</td>\n",
       "      <td>0.889</td>\n",
       "      <td>0.584</td>\n",
       "      <td>0.667</td>\n",
       "      <td>0.961</td>\n",
       "      <td>0.776</td>\n",
       "    </tr>\n",
       "    <tr>\n",
       "      <th>0</th>\n",
       "      <td>3</td>\n",
       "      <td>CountVectorizer()</td>\n",
       "      <td>MultinomialNB()</td>\n",
       "      <td>0.823</td>\n",
       "      <td>0.847</td>\n",
       "      <td>0.825</td>\n",
       "      <td>0.761</td>\n",
       "      <td>0.623</td>\n",
       "      <td>0.840</td>\n",
       "      <td>0.527</td>\n",
       "    </tr>\n",
       "    <tr>\n",
       "      <th>0</th>\n",
       "      <td>4</td>\n",
       "      <td>TfidfVectorizer()</td>\n",
       "      <td>MultinomialNB()</td>\n",
       "      <td>0.882</td>\n",
       "      <td>0.899</td>\n",
       "      <td>0.884</td>\n",
       "      <td>0.514</td>\n",
       "      <td>0.628</td>\n",
       "      <td>0.971</td>\n",
       "      <td>0.806</td>\n",
       "    </tr>\n",
       "    <tr>\n",
       "      <th>0</th>\n",
       "      <td>5</td>\n",
       "      <td>CountVectorizer()</td>\n",
       "      <td>RandomForestClassifier()</td>\n",
       "      <td>0.871</td>\n",
       "      <td>0.980</td>\n",
       "      <td>0.872</td>\n",
       "      <td>0.584</td>\n",
       "      <td>0.634</td>\n",
       "      <td>0.939</td>\n",
       "      <td>0.693</td>\n",
       "    </tr>\n",
       "    <tr>\n",
       "      <th>0</th>\n",
       "      <td>6</td>\n",
       "      <td>TfidfVectorizer()</td>\n",
       "      <td>RandomForestClassifier()</td>\n",
       "      <td>0.881</td>\n",
       "      <td>0.980</td>\n",
       "      <td>0.883</td>\n",
       "      <td>0.542</td>\n",
       "      <td>0.637</td>\n",
       "      <td>0.963</td>\n",
       "      <td>0.773</td>\n",
       "    </tr>\n",
       "  </tbody>\n",
       "</table>\n",
       "</div>"
      ],
      "text/plain": [
       "  Model No.    Word Vectorizer                Classifier  CV Score (train)  \\\n",
       "0         1  CountVectorizer()      LogisticRegression()             0.883   \n",
       "0         2  TfidfVectorizer()      LogisticRegression()             0.887   \n",
       "0         3  CountVectorizer()           MultinomialNB()             0.823   \n",
       "0         4  TfidfVectorizer()           MultinomialNB()             0.882   \n",
       "0         5  CountVectorizer()  RandomForestClassifier()             0.871   \n",
       "0         6  TfidfVectorizer()  RandomForestClassifier()             0.881   \n",
       "\n",
       "   Accuracy (train)  Accuracy (test)  Recall (test)  F1 score (test)  \\\n",
       "0             0.950            0.885          0.562            0.649   \n",
       "0             0.948            0.889          0.584            0.667   \n",
       "0             0.847            0.825          0.761            0.623   \n",
       "0             0.899            0.884          0.514            0.628   \n",
       "0             0.980            0.872          0.584            0.634   \n",
       "0             0.980            0.883          0.542            0.637   \n",
       "\n",
       "   Specificity (test)  Precision (test)  \n",
       "0               0.960             0.768  \n",
       "0               0.961             0.776  \n",
       "0               0.840             0.527  \n",
       "0               0.971             0.806  \n",
       "0               0.939             0.693  \n",
       "0               0.963             0.773  "
      ]
     },
     "execution_count": 21,
     "metadata": {},
     "output_type": "execute_result"
    }
   ],
   "source": [
    "df_results"
   ]
  },
  {
   "cell_type": "markdown",
   "id": "b7528955",
   "metadata": {},
   "source": [
    "**Observations:**\n",
    "\n",
    "Random Forest Classifier has hit our target of 0.7 for accuracy but not the F1 score which should also be 0.7.\n",
    "\n",
    "With a score train accuracy score of > 0.9 and test accuracy score of > 0.8, it indicates that the model is able to correctly predict serious AE 90% in the train dataset and 80% in the test dataset. With the highest train accuracy out of all the models thus far, it suggests that the rfc is highly fitted to the train model. As seen from  the difference between the train and test accuracy being the greatest so far, it seems that the model is highly overfitted to the train data as compared to the prior models. We also find the tvec with a higher test accuracy score, indicating it is less overfitted as compared to the model using cvec as a vectorizer.\n",
    "\n",
    "The F1 score of 0.6 represents the model more likely misclassifying serious AE as non-serious as compared to non-serious as serious."
   ]
  },
  {
   "cell_type": "markdown",
   "id": "f61eeba0",
   "metadata": {},
   "source": [
    "### Ada Boost Classifier\n",
    "\n",
    "AdaBoost, short for Adaptive Boosting, helps to combine weak classifiers into a single strong classifier. The weak learners are decision trees with single splits, called decision stumps. \n",
    "\n",
    "The default parameters will be used for modelling."
   ]
  },
  {
   "cell_type": "code",
   "execution_count": 22,
   "id": "4da90bb6",
   "metadata": {},
   "outputs": [
    {
     "name": "stdout",
     "output_type": "stream",
     "text": [
      "Fitting 5 folds for each of 1 candidates, totalling 5 fits\n",
      "Best Parameters: {'cvec__max_features': 5000, 'cvec__min_df': 10, 'cvec__ngram_range': (2, 2)}\n",
      "CPU times: user 2min 44s, sys: 1.67 s, total: 2min 46s\n",
      "Wall time: 2min 47s\n"
     ]
    },
    {
     "data": {
      "text/plain": [
       "Text(0.5, 1.0, 'CVEC and Ada Boost Classifier')"
      ]
     },
     "execution_count": 22,
     "metadata": {},
     "output_type": "execute_result"
    },
    {
     "data": {
      "image/png": "[encoded data removed]",
      "text/plain": [
       "<Figure size 432x288 with 2 Axes>"
      ]
     },
     "metadata": {
      "needs_background": "light"
     },
     "output_type": "display_data"
    }
   ],
   "source": [
    "%%time\n",
    "\n",
    "# Instantiate CountVectorizer() and AdaBoostClassifier()\n",
    "cvec = CountVectorizer()\n",
    "ada = AdaBoostClassifier()\n",
    "\n",
    "pipe = Pipeline([\n",
    "    ('cvec', cvec),\n",
    "    ('ada', ada)])\n",
    "\n",
    "params = {\n",
    "    'cvec__max_features': [5000],\n",
    "    'cvec__ngram_range': [(2,2)], \n",
    "    'cvec__min_df': [10]}  \n",
    "\n",
    "new_results = run_grid(X_train, X_test, y_train, y_test)\n",
    "df_results = pd.concat([df_results, pd.DataFrame(new_results)], axis = 0)\n",
    "plt.title('CVEC and Ada Boost Classifier');"
   ]
  },
  {
   "cell_type": "code",
   "execution_count": 23,
   "id": "ea0db8d7",
   "metadata": {},
   "outputs": [
    {
     "name": "stdout",
     "output_type": "stream",
     "text": [
      "Fitting 5 folds for each of 1 candidates, totalling 5 fits\n",
      "Best Parameters: {'tvec__max_features': 5000, 'tvec__min_df': 10, 'tvec__ngram_range': (2, 2)}\n",
      "CPU times: user 3min 14s, sys: 2.15 s, total: 3min 16s\n",
      "Wall time: 3min 18s\n"
     ]
    },
    {
     "data": {
      "text/plain": [
       "Text(0.5, 1.0, 'TVEC and Ada Boost Classifier')"
      ]
     },
     "execution_count": 23,
     "metadata": {},
     "output_type": "execute_result"
    },
    {
     "data": {
      "image/png": "[encoded data removed]",
      "text/plain": [
       "<Figure size 432x288 with 2 Axes>"
      ]
     },
     "metadata": {
      "needs_background": "light"
     },
     "output_type": "display_data"
    }
   ],
   "source": [
    "%%time\n",
    "\n",
    "# Instantiate TfidfVectorizer() and AdaBoostClassifier()\n",
    "tvec = TfidfVectorizer() \n",
    "ada = AdaBoostClassifier()\n",
    "\n",
    "pipe = Pipeline([\n",
    "    ('tvec', tvec),\n",
    "    ('ada', ada)])\n",
    "\n",
    "params = {\n",
    "    'tvec__max_features': [5000],\n",
    "    'tvec__ngram_range': [(2,2)], \n",
    "    'tvec__min_df': [10]}  \n",
    "\n",
    "new_results = run_grid(X_train, X_test, y_train, y_test)\n",
    "df_results = pd.concat([df_results, pd.DataFrame(new_results)], axis = 0)\n",
    "plt.title('TVEC and Ada Boost Classifier');"
   ]
  },
  {
   "cell_type": "code",
   "execution_count": 24,
   "id": "46454884",
   "metadata": {
    "scrolled": false
   },
   "outputs": [
    {
     "data": {
      "text/html": [
       "<div>\n",
       "<style scoped>\n",
       "    .dataframe tbody tr th:only-of-type {\n",
       "        vertical-align: middle;\n",
       "    }\n",
       "\n",
       "    .dataframe tbody tr th {\n",
       "        vertical-align: top;\n",
       "    }\n",
       "\n",
       "    .dataframe thead th {\n",
       "        text-align: right;\n",
       "    }\n",
       "</style>\n",
       "<table border=\"1\" class=\"dataframe\">\n",
       "  <thead>\n",
       "    <tr style=\"text-align: right;\">\n",
       "      <th></th>\n",
       "      <th>Model No.</th>\n",
       "      <th>Word Vectorizer</th>\n",
       "      <th>Classifier</th>\n",
       "      <th>CV Score (train)</th>\n",
       "      <th>Accuracy (train)</th>\n",
       "      <th>Accuracy (test)</th>\n",
       "      <th>Recall (test)</th>\n",
       "      <th>F1 score (test)</th>\n",
       "      <th>Specificity (test)</th>\n",
       "      <th>Precision (test)</th>\n",
       "    </tr>\n",
       "  </thead>\n",
       "  <tbody>\n",
       "    <tr>\n",
       "      <th>0</th>\n",
       "      <td>1</td>\n",
       "      <td>CountVectorizer()</td>\n",
       "      <td>LogisticRegression()</td>\n",
       "      <td>0.883</td>\n",
       "      <td>0.950</td>\n",
       "      <td>0.885</td>\n",
       "      <td>0.562</td>\n",
       "      <td>0.649</td>\n",
       "      <td>0.960</td>\n",
       "      <td>0.768</td>\n",
       "    </tr>\n",
       "    <tr>\n",
       "      <th>0</th>\n",
       "      <td>2</td>\n",
       "      <td>TfidfVectorizer()</td>\n",
       "      <td>LogisticRegression()</td>\n",
       "      <td>0.887</td>\n",
       "      <td>0.948</td>\n",
       "      <td>0.889</td>\n",
       "      <td>0.584</td>\n",
       "      <td>0.667</td>\n",
       "      <td>0.961</td>\n",
       "      <td>0.776</td>\n",
       "    </tr>\n",
       "    <tr>\n",
       "      <th>0</th>\n",
       "      <td>3</td>\n",
       "      <td>CountVectorizer()</td>\n",
       "      <td>MultinomialNB()</td>\n",
       "      <td>0.823</td>\n",
       "      <td>0.847</td>\n",
       "      <td>0.825</td>\n",
       "      <td>0.761</td>\n",
       "      <td>0.623</td>\n",
       "      <td>0.840</td>\n",
       "      <td>0.527</td>\n",
       "    </tr>\n",
       "    <tr>\n",
       "      <th>0</th>\n",
       "      <td>4</td>\n",
       "      <td>TfidfVectorizer()</td>\n",
       "      <td>MultinomialNB()</td>\n",
       "      <td>0.882</td>\n",
       "      <td>0.899</td>\n",
       "      <td>0.884</td>\n",
       "      <td>0.514</td>\n",
       "      <td>0.628</td>\n",
       "      <td>0.971</td>\n",
       "      <td>0.806</td>\n",
       "    </tr>\n",
       "    <tr>\n",
       "      <th>0</th>\n",
       "      <td>5</td>\n",
       "      <td>CountVectorizer()</td>\n",
       "      <td>RandomForestClassifier()</td>\n",
       "      <td>0.871</td>\n",
       "      <td>0.980</td>\n",
       "      <td>0.872</td>\n",
       "      <td>0.584</td>\n",
       "      <td>0.634</td>\n",
       "      <td>0.939</td>\n",
       "      <td>0.693</td>\n",
       "    </tr>\n",
       "    <tr>\n",
       "      <th>0</th>\n",
       "      <td>6</td>\n",
       "      <td>TfidfVectorizer()</td>\n",
       "      <td>RandomForestClassifier()</td>\n",
       "      <td>0.881</td>\n",
       "      <td>0.980</td>\n",
       "      <td>0.883</td>\n",
       "      <td>0.542</td>\n",
       "      <td>0.637</td>\n",
       "      <td>0.963</td>\n",
       "      <td>0.773</td>\n",
       "    </tr>\n",
       "    <tr>\n",
       "      <th>0</th>\n",
       "      <td>7</td>\n",
       "      <td>CountVectorizer()</td>\n",
       "      <td>AdaBoostClassifier()</td>\n",
       "      <td>0.861</td>\n",
       "      <td>0.861</td>\n",
       "      <td>0.860</td>\n",
       "      <td>0.333</td>\n",
       "      <td>0.473</td>\n",
       "      <td>0.983</td>\n",
       "      <td>0.819</td>\n",
       "    </tr>\n",
       "    <tr>\n",
       "      <th>0</th>\n",
       "      <td>8</td>\n",
       "      <td>TfidfVectorizer()</td>\n",
       "      <td>AdaBoostClassifier()</td>\n",
       "      <td>0.861</td>\n",
       "      <td>0.865</td>\n",
       "      <td>0.861</td>\n",
       "      <td>0.348</td>\n",
       "      <td>0.487</td>\n",
       "      <td>0.981</td>\n",
       "      <td>0.810</td>\n",
       "    </tr>\n",
       "  </tbody>\n",
       "</table>\n",
       "</div>"
      ],
      "text/plain": [
       "  Model No.    Word Vectorizer                Classifier  CV Score (train)  \\\n",
       "0         1  CountVectorizer()      LogisticRegression()             0.883   \n",
       "0         2  TfidfVectorizer()      LogisticRegression()             0.887   \n",
       "0         3  CountVectorizer()           MultinomialNB()             0.823   \n",
       "0         4  TfidfVectorizer()           MultinomialNB()             0.882   \n",
       "0         5  CountVectorizer()  RandomForestClassifier()             0.871   \n",
       "0         6  TfidfVectorizer()  RandomForestClassifier()             0.881   \n",
       "0         7  CountVectorizer()      AdaBoostClassifier()             0.861   \n",
       "0         8  TfidfVectorizer()      AdaBoostClassifier()             0.861   \n",
       "\n",
       "   Accuracy (train)  Accuracy (test)  Recall (test)  F1 score (test)  \\\n",
       "0             0.950            0.885          0.562            0.649   \n",
       "0             0.948            0.889          0.584            0.667   \n",
       "0             0.847            0.825          0.761            0.623   \n",
       "0             0.899            0.884          0.514            0.628   \n",
       "0             0.980            0.872          0.584            0.634   \n",
       "0             0.980            0.883          0.542            0.637   \n",
       "0             0.861            0.860          0.333            0.473   \n",
       "0             0.865            0.861          0.348            0.487   \n",
       "\n",
       "   Specificity (test)  Precision (test)  \n",
       "0               0.960             0.768  \n",
       "0               0.961             0.776  \n",
       "0               0.840             0.527  \n",
       "0               0.971             0.806  \n",
       "0               0.939             0.693  \n",
       "0               0.963             0.773  \n",
       "0               0.983             0.819  \n",
       "0               0.981             0.810  "
      ]
     },
     "execution_count": 24,
     "metadata": {},
     "output_type": "execute_result"
    }
   ],
   "source": [
    "df_results"
   ]
  },
  {
   "cell_type": "markdown",
   "id": "71d16c4f",
   "metadata": {},
   "source": [
    "**Observations:**\n",
    "\n",
    "Ada Boost Classifer has hit our target of 0.7 for accuracy but not the F1 score which should also be 0.7.\n",
    "\n",
    "It has a relative decent train and test accuracy score at 0.8, however it has the most dismal F1 score at 0.4 suggesting that while the model may be predicting serious AE correctly, it is also vastly misclassifying both serious AE as non-serious and vice versa."
   ]
  },
  {
   "cell_type": "markdown",
   "id": "64c2f949",
   "metadata": {},
   "source": [
    "### Support Vector Machines (SVM)\n",
    "\n",
    "SVM is a classifer that finds an optimal hyperplane that maximises margin between 2 classes of data. It uses the kernel trick which transforms data that is not linearly seperable in n-dimension space to a higher dimension where it is linearly separable."
   ]
  },
  {
   "cell_type": "code",
   "execution_count": 25,
   "id": "9334cd65",
   "metadata": {},
   "outputs": [
    {
     "name": "stdout",
     "output_type": "stream",
     "text": [
      "Fitting 5 folds for each of 9 candidates, totalling 45 fits\n",
      "Best Parameters: {'cvec__max_features': 5000, 'cvec__min_df': 10, 'cvec__ngram_range': (2, 2), 'svc__C': 10, 'svc__degree': 2, 'svc__kernel': 'poly'}\n",
      "CPU times: user 7h 40min 50s, sys: 1min 54s, total: 7h 42min 44s\n",
      "Wall time: 7h 48min 25s\n"
     ]
    },
    {
     "data": {
      "text/plain": [
       "Text(0.5, 1.0, 'CVEC and SVC')"
      ]
     },
     "execution_count": 25,
     "metadata": {},
     "output_type": "execute_result"
    },
    {
     "data": {
      "image/png": "[encoded data removed]",
      "text/plain": [
       "<Figure size 432x288 with 2 Axes>"
      ]
     },
     "metadata": {
      "needs_background": "light"
     },
     "output_type": "display_data"
    }
   ],
   "source": [
    "%%time\n",
    "\n",
    "# Instantiate CountVectorizer() and SVC()\n",
    "cvec = CountVectorizer()\n",
    "svc = SVC()\n",
    "\n",
    "pipe = Pipeline([\n",
    "    ('cvec', cvec),\n",
    "    ('svc', svc)])\n",
    "\n",
    "params = {\n",
    "    'cvec__max_features': [5000, 10000, 20000],\n",
    "    'cvec__ngram_range': [(2,2)],\n",
    "    'cvec__min_df': [10],\n",
    "    #'tvec__ngram_range': [(1,1), (1,2), (1,3)],    \n",
    "    'svc__C': [0.1, 1, 10], \n",
    "    'svc__kernel': ['poly'], \n",
    "    'svc__degree': [2]}\n",
    "\n",
    "\n",
    "\n",
    "new_results = run_grid(X_train, X_test, y_train, y_test)\n",
    "df_results = pd.concat([df_results, pd.DataFrame(new_results)], axis = 0)\n",
    "plt.title('CVEC and SVC');"
   ]
  },
  {
   "cell_type": "code",
   "execution_count": 26,
   "id": "be6bcc37",
   "metadata": {},
   "outputs": [
    {
     "name": "stdout",
     "output_type": "stream",
     "text": [
      "Fitting 5 folds for each of 9 candidates, totalling 45 fits\n",
      "Best Parameters: {'svc__C': 1, 'svc__degree': 2, 'svc__kernel': 'poly', 'tvec__max_features': 10000, 'tvec__min_df': 10, 'tvec__ngram_range': (2, 2)}\n",
      "CPU times: user 7h 36min 9s, sys: 1min 11s, total: 7h 37min 20s\n",
      "Wall time: 7h 38min\n"
     ]
    },
    {
     "data": {
      "text/plain": [
       "Text(0.5, 1.0, 'TVEC and SVC')"
      ]
     },
     "execution_count": 26,
     "metadata": {},
     "output_type": "execute_result"
    },
    {
     "data": {
      "image/png": "[encoded data removed]",
      "text/plain": [
       "<Figure size 432x288 with 2 Axes>"
      ]
     },
     "metadata": {
      "needs_background": "light"
     },
     "output_type": "display_data"
    }
   ],
   "source": [
    "%%time\n",
    "\n",
    "# Instantiate TfidfVectorizer() and SVC()\n",
    "tvec = TfidfVectorizer()\n",
    "svc = SVC()\n",
    "\n",
    "pipe = Pipeline([\n",
    "    ('tvec', tvec),\n",
    "    ('svc', svc)])\n",
    "\n",
    "params = {\n",
    "    'tvec__max_features': [5000, 10000, 20000],\n",
    "    'tvec__ngram_range': [(2,2)], \n",
    "    'tvec__min_df': [10],\n",
    "    #'tvec__ngram_range': [(1,1), (1,2), (1,3)],    \n",
    "    'svc__C': [0.1, 1, 10], \n",
    "    'svc__kernel': ['poly'], \n",
    "    'svc__degree': [2]}\n",
    "\n",
    "\n",
    "new_results = run_grid(X_train, X_test, y_train, y_test)\n",
    "df_results = pd.concat([df_results, pd.DataFrame(new_results)], axis = 0)\n",
    "plt.title('TVEC and SVC');"
   ]
  },
  {
   "cell_type": "code",
   "execution_count": 27,
   "id": "07142382",
   "metadata": {
    "scrolled": true
   },
   "outputs": [
    {
     "data": {
      "text/html": [
       "<div>\n",
       "<style scoped>\n",
       "    .dataframe tbody tr th:only-of-type {\n",
       "        vertical-align: middle;\n",
       "    }\n",
       "\n",
       "    .dataframe tbody tr th {\n",
       "        vertical-align: top;\n",
       "    }\n",
       "\n",
       "    .dataframe thead th {\n",
       "        text-align: right;\n",
       "    }\n",
       "</style>\n",
       "<table border=\"1\" class=\"dataframe\">\n",
       "  <thead>\n",
       "    <tr style=\"text-align: right;\">\n",
       "      <th></th>\n",
       "      <th>Model No.</th>\n",
       "      <th>Word Vectorizer</th>\n",
       "      <th>Classifier</th>\n",
       "      <th>CV Score (train)</th>\n",
       "      <th>Accuracy (train)</th>\n",
       "      <th>Accuracy (test)</th>\n",
       "      <th>Recall (test)</th>\n",
       "      <th>F1 score (test)</th>\n",
       "      <th>Specificity (test)</th>\n",
       "      <th>Precision (test)</th>\n",
       "    </tr>\n",
       "  </thead>\n",
       "  <tbody>\n",
       "    <tr>\n",
       "      <th>0</th>\n",
       "      <td>1</td>\n",
       "      <td>CountVectorizer()</td>\n",
       "      <td>LogisticRegression()</td>\n",
       "      <td>0.883</td>\n",
       "      <td>0.950</td>\n",
       "      <td>0.885</td>\n",
       "      <td>0.562</td>\n",
       "      <td>0.649</td>\n",
       "      <td>0.960</td>\n",
       "      <td>0.768</td>\n",
       "    </tr>\n",
       "    <tr>\n",
       "      <th>0</th>\n",
       "      <td>2</td>\n",
       "      <td>TfidfVectorizer()</td>\n",
       "      <td>LogisticRegression()</td>\n",
       "      <td>0.887</td>\n",
       "      <td>0.948</td>\n",
       "      <td>0.889</td>\n",
       "      <td>0.584</td>\n",
       "      <td>0.667</td>\n",
       "      <td>0.961</td>\n",
       "      <td>0.776</td>\n",
       "    </tr>\n",
       "    <tr>\n",
       "      <th>0</th>\n",
       "      <td>3</td>\n",
       "      <td>CountVectorizer()</td>\n",
       "      <td>MultinomialNB()</td>\n",
       "      <td>0.823</td>\n",
       "      <td>0.847</td>\n",
       "      <td>0.825</td>\n",
       "      <td>0.761</td>\n",
       "      <td>0.623</td>\n",
       "      <td>0.840</td>\n",
       "      <td>0.527</td>\n",
       "    </tr>\n",
       "    <tr>\n",
       "      <th>0</th>\n",
       "      <td>4</td>\n",
       "      <td>TfidfVectorizer()</td>\n",
       "      <td>MultinomialNB()</td>\n",
       "      <td>0.882</td>\n",
       "      <td>0.899</td>\n",
       "      <td>0.884</td>\n",
       "      <td>0.514</td>\n",
       "      <td>0.628</td>\n",
       "      <td>0.971</td>\n",
       "      <td>0.806</td>\n",
       "    </tr>\n",
       "    <tr>\n",
       "      <th>0</th>\n",
       "      <td>5</td>\n",
       "      <td>CountVectorizer()</td>\n",
       "      <td>RandomForestClassifier()</td>\n",
       "      <td>0.871</td>\n",
       "      <td>0.980</td>\n",
       "      <td>0.872</td>\n",
       "      <td>0.584</td>\n",
       "      <td>0.634</td>\n",
       "      <td>0.939</td>\n",
       "      <td>0.693</td>\n",
       "    </tr>\n",
       "    <tr>\n",
       "      <th>0</th>\n",
       "      <td>6</td>\n",
       "      <td>TfidfVectorizer()</td>\n",
       "      <td>RandomForestClassifier()</td>\n",
       "      <td>0.881</td>\n",
       "      <td>0.980</td>\n",
       "      <td>0.883</td>\n",
       "      <td>0.542</td>\n",
       "      <td>0.637</td>\n",
       "      <td>0.963</td>\n",
       "      <td>0.773</td>\n",
       "    </tr>\n",
       "    <tr>\n",
       "      <th>0</th>\n",
       "      <td>7</td>\n",
       "      <td>CountVectorizer()</td>\n",
       "      <td>AdaBoostClassifier()</td>\n",
       "      <td>0.861</td>\n",
       "      <td>0.861</td>\n",
       "      <td>0.860</td>\n",
       "      <td>0.333</td>\n",
       "      <td>0.473</td>\n",
       "      <td>0.983</td>\n",
       "      <td>0.819</td>\n",
       "    </tr>\n",
       "    <tr>\n",
       "      <th>0</th>\n",
       "      <td>8</td>\n",
       "      <td>TfidfVectorizer()</td>\n",
       "      <td>AdaBoostClassifier()</td>\n",
       "      <td>0.861</td>\n",
       "      <td>0.865</td>\n",
       "      <td>0.861</td>\n",
       "      <td>0.348</td>\n",
       "      <td>0.487</td>\n",
       "      <td>0.981</td>\n",
       "      <td>0.810</td>\n",
       "    </tr>\n",
       "    <tr>\n",
       "      <th>0</th>\n",
       "      <td>9</td>\n",
       "      <td>CountVectorizer()</td>\n",
       "      <td>SVC()</td>\n",
       "      <td>0.846</td>\n",
       "      <td>0.896</td>\n",
       "      <td>0.849</td>\n",
       "      <td>0.287</td>\n",
       "      <td>0.419</td>\n",
       "      <td>0.981</td>\n",
       "      <td>0.777</td>\n",
       "    </tr>\n",
       "    <tr>\n",
       "      <th>0</th>\n",
       "      <td>10</td>\n",
       "      <td>TfidfVectorizer()</td>\n",
       "      <td>SVC()</td>\n",
       "      <td>0.881</td>\n",
       "      <td>0.971</td>\n",
       "      <td>0.885</td>\n",
       "      <td>0.464</td>\n",
       "      <td>0.604</td>\n",
       "      <td>0.983</td>\n",
       "      <td>0.865</td>\n",
       "    </tr>\n",
       "  </tbody>\n",
       "</table>\n",
       "</div>"
      ],
      "text/plain": [
       "  Model No.    Word Vectorizer                Classifier  CV Score (train)  \\\n",
       "0         1  CountVectorizer()      LogisticRegression()             0.883   \n",
       "0         2  TfidfVectorizer()      LogisticRegression()             0.887   \n",
       "0         3  CountVectorizer()           MultinomialNB()             0.823   \n",
       "0         4  TfidfVectorizer()           MultinomialNB()             0.882   \n",
       "0         5  CountVectorizer()  RandomForestClassifier()             0.871   \n",
       "0         6  TfidfVectorizer()  RandomForestClassifier()             0.881   \n",
       "0         7  CountVectorizer()      AdaBoostClassifier()             0.861   \n",
       "0         8  TfidfVectorizer()      AdaBoostClassifier()             0.861   \n",
       "0         9  CountVectorizer()                     SVC()             0.846   \n",
       "0        10  TfidfVectorizer()                     SVC()             0.881   \n",
       "\n",
       "   Accuracy (train)  Accuracy (test)  Recall (test)  F1 score (test)  \\\n",
       "0             0.950            0.885          0.562            0.649   \n",
       "0             0.948            0.889          0.584            0.667   \n",
       "0             0.847            0.825          0.761            0.623   \n",
       "0             0.899            0.884          0.514            0.628   \n",
       "0             0.980            0.872          0.584            0.634   \n",
       "0             0.980            0.883          0.542            0.637   \n",
       "0             0.861            0.860          0.333            0.473   \n",
       "0             0.865            0.861          0.348            0.487   \n",
       "0             0.896            0.849          0.287            0.419   \n",
       "0             0.971            0.885          0.464            0.604   \n",
       "\n",
       "   Specificity (test)  Precision (test)  \n",
       "0               0.960             0.768  \n",
       "0               0.961             0.776  \n",
       "0               0.840             0.527  \n",
       "0               0.971             0.806  \n",
       "0               0.939             0.693  \n",
       "0               0.963             0.773  \n",
       "0               0.983             0.819  \n",
       "0               0.981             0.810  \n",
       "0               0.981             0.777  \n",
       "0               0.983             0.865  "
      ]
     },
     "execution_count": 27,
     "metadata": {},
     "output_type": "execute_result"
    }
   ],
   "source": [
    "df_results"
   ]
  },
  {
   "cell_type": "markdown",
   "id": "be9de814",
   "metadata": {},
   "source": [
    "**Observations:**\n",
    "\n",
    "SVM has hit our target of 0.7 for accuracy but not the F1 score which should also be 0.7.\n",
    "\n",
    "The model has a decent train accuracy score of > 0.9 and test accuracy score of > 0.8, however it has a dismal F1 score at 0.6 with recall hovering from 0.2-0.4 suggesting that while the model may be less likely to misclassify non-serious AE, is it severely misclassifying serious AE."
   ]
  },
  {
   "cell_type": "markdown",
   "id": "0e75abbe",
   "metadata": {},
   "source": [
    "#### Final thoughts on first round of modelling:\n",
    "Of all the models, Logistic Regression with TF-IDF vectorizer has the most balanced performance with a train accuracy of 0.948, test accuracy of 0.899 and F1 score of 0.667. Though it does not have the highest train accuracy, it does have one of the lowest train-test accuracy indicating less overfitting compared to the other models, and the highest F1 score indicating a good harmonized mean of precision and recall.\n",
    "\n",
    "For our next iteration, we will try to use SMOTE to tackle the imbalance dataset."
   ]
  }
 ],
 "metadata": {
  "kernelspec": {
   "display_name": "Python 3 (ipykernel)",
   "language": "python",
   "name": "python3"
  },
  "language_info": {
   "codemirror_mode": {
    "name": "ipython",
    "version": 3
   },
   "file_extension": ".py",
   "mimetype": "text/x-python",
   "name": "python",
   "nbconvert_exporter": "python",
   "pygments_lexer": "ipython3",
   "version": "3.8.8"
  }
 },
 "nbformat": 4,
 "nbformat_minor": 5
}
